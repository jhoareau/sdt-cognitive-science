{
 "cells": [
  {
   "cell_type": "code",
   "execution_count": 7,
   "metadata": {
    "collapsed": true
   },
   "outputs": [],
   "source": [
    "import pandas as pd\n",
    "import numpy as np"
   ]
  },
  {
   "cell_type": "code",
   "execution_count": 8,
   "metadata": {
    "collapsed": true
   },
   "outputs": [],
   "source": [
    "# Set type of dataset\n",
    "data_set = 0 # 0 = General, 1 = Reacll"
   ]
  },
  {
   "cell_type": "code",
   "execution_count": 9,
   "metadata": {
    "collapsed": true
   },
   "outputs": [],
   "source": [
    "data = pd.read_csv('raw_data.csv')\n",
    "del data['Unnamed: 0']\n",
    "del data['test_list']\n",
    "del data['study_list']\n",
    "del data['item']\n",
    "del data['itemno']\n",
    "del data['finalrecalled']"
   ]
  },
  {
   "cell_type": "code",
   "execution_count": 10,
   "metadata": {
    "collapsed": true
   },
   "outputs": [],
   "source": [
    "data.loc[data.type == 'RECOG_TARGET', 'type'] = 'old'\n",
    "data.loc[data.type == 'RECOG_LURE', 'type'] = 'new'\n",
    "data = data.rename(columns = {'type':'ground_truth'})"
   ]
  },
  {
   "cell_type": "code",
   "execution_count": 11,
   "metadata": {
    "collapsed": true
   },
   "outputs": [],
   "source": [
    "data = data[~np.isnan(data.recog_conf)]\n",
    "data['recog_conf'] = data.recog_conf.astype('float').astype('int')\n",
    "data['recog_rt'] = data.recog_rt.astype('float')"
   ]
  },
  {
   "cell_type": "code",
   "execution_count": 12,
   "metadata": {
    "collapsed": false
   },
   "outputs": [],
   "source": [
    "data = data[(data.recog_conf > 0) & (data.recog_conf < 6)]\n",
    "data = data[(data.recog_rt >= 300) & (data.recog_rt <= 3000)]"
   ]
  },
  {
   "cell_type": "code",
   "execution_count": 13,
   "metadata": {
    "collapsed": true
   },
   "outputs": [],
   "source": [
    "data['participant_session'] = data['participant'] + data['session'].map(str)"
   ]
  },
  {
   "cell_type": "code",
   "execution_count": 14,
   "metadata": {
    "collapsed": false,
    "scrolled": true
   },
   "outputs": [
    {
     "data": {
      "text/html": [
       "<div>\n",
       "<style scoped>\n",
       "    .dataframe tbody tr th:only-of-type {\n",
       "        vertical-align: middle;\n",
       "    }\n",
       "\n",
       "    .dataframe tbody tr th {\n",
       "        vertical-align: top;\n",
       "    }\n",
       "\n",
       "    .dataframe thead th {\n",
       "        text-align: right;\n",
       "    }\n",
       "</style>\n",
       "<table border=\"1\" class=\"dataframe\">\n",
       "  <thead>\n",
       "    <tr style=\"text-align: right;\">\n",
       "      <th></th>\n",
       "      <th>participant</th>\n",
       "      <th>session</th>\n",
       "      <th>ground_truth</th>\n",
       "      <th>recog_resp</th>\n",
       "      <th>recog_conf</th>\n",
       "      <th>recog_rt</th>\n",
       "      <th>recalled</th>\n",
       "      <th>participant_session</th>\n",
       "    </tr>\n",
       "  </thead>\n",
       "  <tbody>\n",
       "    <tr>\n",
       "      <th>0</th>\n",
       "      <td>LTP268</td>\n",
       "      <td>1</td>\n",
       "      <td>old</td>\n",
       "      <td>old</td>\n",
       "      <td>5</td>\n",
       "      <td>1395.0</td>\n",
       "      <td>yes</td>\n",
       "      <td>LTP2681</td>\n",
       "    </tr>\n",
       "    <tr>\n",
       "      <th>1</th>\n",
       "      <td>LTP268</td>\n",
       "      <td>1</td>\n",
       "      <td>old</td>\n",
       "      <td>new</td>\n",
       "      <td>2</td>\n",
       "      <td>1788.0</td>\n",
       "      <td>no</td>\n",
       "      <td>LTP2681</td>\n",
       "    </tr>\n",
       "    <tr>\n",
       "      <th>2</th>\n",
       "      <td>LTP268</td>\n",
       "      <td>1</td>\n",
       "      <td>old</td>\n",
       "      <td>new</td>\n",
       "      <td>3</td>\n",
       "      <td>2308.0</td>\n",
       "      <td>no</td>\n",
       "      <td>LTP2681</td>\n",
       "    </tr>\n",
       "    <tr>\n",
       "      <th>3</th>\n",
       "      <td>LTP268</td>\n",
       "      <td>1</td>\n",
       "      <td>old</td>\n",
       "      <td>old</td>\n",
       "      <td>5</td>\n",
       "      <td>1320.0</td>\n",
       "      <td>yes</td>\n",
       "      <td>LTP2681</td>\n",
       "    </tr>\n",
       "    <tr>\n",
       "      <th>4</th>\n",
       "      <td>LTP268</td>\n",
       "      <td>1</td>\n",
       "      <td>old</td>\n",
       "      <td>old</td>\n",
       "      <td>5</td>\n",
       "      <td>1025.0</td>\n",
       "      <td>yes</td>\n",
       "      <td>LTP2681</td>\n",
       "    </tr>\n",
       "    <tr>\n",
       "      <th>5</th>\n",
       "      <td>LTP268</td>\n",
       "      <td>1</td>\n",
       "      <td>new</td>\n",
       "      <td>new</td>\n",
       "      <td>4</td>\n",
       "      <td>1108.0</td>\n",
       "      <td>lure</td>\n",
       "      <td>LTP2681</td>\n",
       "    </tr>\n",
       "    <tr>\n",
       "      <th>6</th>\n",
       "      <td>LTP268</td>\n",
       "      <td>1</td>\n",
       "      <td>old</td>\n",
       "      <td>old</td>\n",
       "      <td>5</td>\n",
       "      <td>1207.0</td>\n",
       "      <td>no</td>\n",
       "      <td>LTP2681</td>\n",
       "    </tr>\n",
       "    <tr>\n",
       "      <th>7</th>\n",
       "      <td>LTP268</td>\n",
       "      <td>1</td>\n",
       "      <td>new</td>\n",
       "      <td>new</td>\n",
       "      <td>5</td>\n",
       "      <td>1125.0</td>\n",
       "      <td>lure</td>\n",
       "      <td>LTP2681</td>\n",
       "    </tr>\n",
       "    <tr>\n",
       "      <th>8</th>\n",
       "      <td>LTP268</td>\n",
       "      <td>1</td>\n",
       "      <td>old</td>\n",
       "      <td>new</td>\n",
       "      <td>3</td>\n",
       "      <td>1635.0</td>\n",
       "      <td>yes</td>\n",
       "      <td>LTP2681</td>\n",
       "    </tr>\n",
       "    <tr>\n",
       "      <th>9</th>\n",
       "      <td>LTP268</td>\n",
       "      <td>1</td>\n",
       "      <td>old</td>\n",
       "      <td>new</td>\n",
       "      <td>2</td>\n",
       "      <td>2430.0</td>\n",
       "      <td>yes</td>\n",
       "      <td>LTP2681</td>\n",
       "    </tr>\n",
       "  </tbody>\n",
       "</table>\n",
       "</div>"
      ],
      "text/plain": [
       "  participant  session ground_truth recog_resp  recog_conf  recog_rt recalled  \\\n",
       "0      LTP268        1          old        old           5    1395.0      yes   \n",
       "1      LTP268        1          old        new           2    1788.0       no   \n",
       "2      LTP268        1          old        new           3    2308.0       no   \n",
       "3      LTP268        1          old        old           5    1320.0      yes   \n",
       "4      LTP268        1          old        old           5    1025.0      yes   \n",
       "5      LTP268        1          new        new           4    1108.0     lure   \n",
       "6      LTP268        1          old        old           5    1207.0       no   \n",
       "7      LTP268        1          new        new           5    1125.0     lure   \n",
       "8      LTP268        1          old        new           3    1635.0      yes   \n",
       "9      LTP268        1          old        new           2    2430.0      yes   \n",
       "\n",
       "  participant_session  \n",
       "0             LTP2681  \n",
       "1             LTP2681  \n",
       "2             LTP2681  \n",
       "3             LTP2681  \n",
       "4             LTP2681  \n",
       "5             LTP2681  \n",
       "6             LTP2681  \n",
       "7             LTP2681  \n",
       "8             LTP2681  \n",
       "9             LTP2681  "
      ]
     },
     "execution_count": 14,
     "metadata": {},
     "output_type": "execute_result"
    }
   ],
   "source": [
    "data[:10]"
   ]
  },
  {
   "cell_type": "code",
   "execution_count": 15,
   "metadata": {
    "collapsed": false
   },
   "outputs": [],
   "source": [
    "from ipywidgets import FloatProgress\n",
    "from IPython.display import display\n",
    "f = FloatProgress(min=0, max=data['participant_session'].nunique())\n",
    "display(f)\n",
    "i = 0\n",
    "sessions_to_delete = list()\n",
    "for session in data['participant_session'].unique():\n",
    "    # For both datasets\n",
    "    responses_old = np.array(data[(data.participant_session == session) & (data.ground_truth == 'old')].recog_resp)\n",
    "    responses_new = np.array(data[(data.participant_session == session) & (data.ground_truth == 'new')].recog_resp)\n",
    "    if data_set == 1:\n",
    "        # Only for recall dataset\n",
    "        responses_recalled = np.array(data[(data.participant_session == session) & (data.recalled == 'yes')].recog_resp)\n",
    "        responses_notrecalled = np.array(data[(data.participant_session == session) & (data.recalled == 'no')].recog_resp)\n",
    "    \n",
    "    i += 1\n",
    "    f.value = i\n",
    "    if data_set == 1:\n",
    "        if (\n",
    "            # For both datasets\n",
    "            'old' in responses_old and 'new' in responses_old\n",
    "            and 'old' in responses_new and 'new' in responses_new\n",
    "            # Only for recall dataset\n",
    "            and 'old' in responses_recalled and 'new' in responses_recalled\n",
    "            and 'old' in responses_notrecalled and 'new' in responses_notrecalled\n",
    "           ):\n",
    "                continue\n",
    "    else:\n",
    "        if (\n",
    "            # For both datasets\n",
    "            'old' in responses_old and 'new' in responses_old\n",
    "            and 'old' in responses_new and 'new' in responses_new\n",
    "           ):\n",
    "                continue\n",
    "    \n",
    "    sessions_to_delete.append(session)"
   ]
  },
  {
   "cell_type": "code",
   "execution_count": 16,
   "metadata": {
    "collapsed": false
   },
   "outputs": [
    {
     "name": "stdout",
     "output_type": "stream",
     "text": [
      "3241\n"
     ]
    }
   ],
   "source": [
    "print(len(data['participant_session'].unique()))"
   ]
  },
  {
   "cell_type": "code",
   "execution_count": 17,
   "metadata": {
    "collapsed": false
   },
   "outputs": [
    {
     "name": "stdout",
     "output_type": "stream",
     "text": [
      "121\n"
     ]
    }
   ],
   "source": [
    "print(len(sessions_to_delete))"
   ]
  },
  {
   "cell_type": "code",
   "execution_count": 18,
   "metadata": {
    "collapsed": false
   },
   "outputs": [
    {
     "data": {
      "text/plain": [
       "883262"
      ]
     },
     "execution_count": 18,
     "metadata": {},
     "output_type": "execute_result"
    }
   ],
   "source": [
    "# Len of data before removing sessions\n",
    "len(data)"
   ]
  },
  {
   "cell_type": "code",
   "execution_count": 19,
   "metadata": {
    "collapsed": true
   },
   "outputs": [],
   "source": [
    "for ses in sessions_to_delete:\n",
    "    data = data[data.participant_session != ses]"
   ]
  },
  {
   "cell_type": "code",
   "execution_count": 20,
   "metadata": {
    "collapsed": false
   },
   "outputs": [
    {
     "data": {
      "text/plain": [
       "853624"
      ]
     },
     "execution_count": 20,
     "metadata": {},
     "output_type": "execute_result"
    }
   ],
   "source": [
    "# Len of data after removing sessions\n",
    "len(data)"
   ]
  },
  {
   "cell_type": "code",
   "execution_count": 21,
   "metadata": {
    "collapsed": false
   },
   "outputs": [
    {
     "data": {
      "text/html": [
       "<div>\n",
       "<style scoped>\n",
       "    .dataframe tbody tr th:only-of-type {\n",
       "        vertical-align: middle;\n",
       "    }\n",
       "\n",
       "    .dataframe tbody tr th {\n",
       "        vertical-align: top;\n",
       "    }\n",
       "\n",
       "    .dataframe thead th {\n",
       "        text-align: right;\n",
       "    }\n",
       "</style>\n",
       "<table border=\"1\" class=\"dataframe\">\n",
       "  <thead>\n",
       "    <tr style=\"text-align: right;\">\n",
       "      <th></th>\n",
       "      <th>participant</th>\n",
       "      <th>session</th>\n",
       "      <th>ground_truth</th>\n",
       "      <th>recog_resp</th>\n",
       "      <th>recog_conf</th>\n",
       "      <th>recog_rt</th>\n",
       "      <th>recalled</th>\n",
       "      <th>participant_session</th>\n",
       "    </tr>\n",
       "  </thead>\n",
       "  <tbody>\n",
       "    <tr>\n",
       "      <th>0</th>\n",
       "      <td>LTP268</td>\n",
       "      <td>1</td>\n",
       "      <td>old</td>\n",
       "      <td>old</td>\n",
       "      <td>5</td>\n",
       "      <td>1395.0</td>\n",
       "      <td>yes</td>\n",
       "      <td>LTP2681</td>\n",
       "    </tr>\n",
       "  </tbody>\n",
       "</table>\n",
       "</div>"
      ],
      "text/plain": [
       "  participant  session ground_truth recog_resp  recog_conf  recog_rt recalled  \\\n",
       "0      LTP268        1          old        old           5    1395.0      yes   \n",
       "\n",
       "  participant_session  \n",
       "0             LTP2681  "
      ]
     },
     "execution_count": 21,
     "metadata": {},
     "output_type": "execute_result"
    }
   ],
   "source": [
    "data[:1]"
   ]
  },
  {
   "cell_type": "code",
   "execution_count": 22,
   "metadata": {
    "collapsed": true
   },
   "outputs": [],
   "source": [
    "# Not really needed to do this\n",
    "#data.to_csv(\"unwanted_sessions_removed.csv\", sep=',')"
   ]
  },
  {
   "cell_type": "code",
   "execution_count": 23,
   "metadata": {
    "collapsed": true
   },
   "outputs": [],
   "source": [
    "del data['session']\n",
    "del data['recalled']"
   ]
  },
  {
   "cell_type": "code",
   "execution_count": 24,
   "metadata": {
    "collapsed": false
   },
   "outputs": [
    {
     "data": {
      "text/html": [
       "<div>\n",
       "<style scoped>\n",
       "    .dataframe tbody tr th:only-of-type {\n",
       "        vertical-align: middle;\n",
       "    }\n",
       "\n",
       "    .dataframe tbody tr th {\n",
       "        vertical-align: top;\n",
       "    }\n",
       "\n",
       "    .dataframe thead th {\n",
       "        text-align: right;\n",
       "    }\n",
       "</style>\n",
       "<table border=\"1\" class=\"dataframe\">\n",
       "  <thead>\n",
       "    <tr style=\"text-align: right;\">\n",
       "      <th></th>\n",
       "      <th>participant</th>\n",
       "      <th>ground_truth</th>\n",
       "      <th>recog_resp</th>\n",
       "      <th>recog_conf</th>\n",
       "      <th>recog_rt</th>\n",
       "      <th>participant_session</th>\n",
       "    </tr>\n",
       "  </thead>\n",
       "  <tbody>\n",
       "    <tr>\n",
       "      <th>0</th>\n",
       "      <td>LTP268</td>\n",
       "      <td>old</td>\n",
       "      <td>old</td>\n",
       "      <td>5</td>\n",
       "      <td>1395.0</td>\n",
       "      <td>LTP2681</td>\n",
       "    </tr>\n",
       "  </tbody>\n",
       "</table>\n",
       "</div>"
      ],
      "text/plain": [
       "  participant ground_truth recog_resp  recog_conf  recog_rt  \\\n",
       "0      LTP268          old        old           5    1395.0   \n",
       "\n",
       "  participant_session  \n",
       "0             LTP2681  "
      ]
     },
     "execution_count": 24,
     "metadata": {},
     "output_type": "execute_result"
    }
   ],
   "source": [
    "data[:1]"
   ]
  },
  {
   "cell_type": "code",
   "execution_count": 25,
   "metadata": {
    "collapsed": true
   },
   "outputs": [],
   "source": [
    "conditions = [(data[\"ground_truth\"] == \"old\") & (data[\"recog_resp\"] == \"old\"),\n",
    "              (data[\"ground_truth\"] == \"new\") & (data[\"recog_resp\"] == \"new\"),\n",
    "              (data[\"ground_truth\"] == \"new\") & (data[\"recog_resp\"] == \"old\")]\n",
    "\n",
    "choices = ['tp', 'tn', 'fp']\n",
    "\n",
    "data['hmm'] = np.select(conditions, choices, default='fn')"
   ]
  },
  {
   "cell_type": "code",
   "execution_count": 26,
   "metadata": {
    "collapsed": false
   },
   "outputs": [
    {
     "data": {
      "text/html": [
       "<div>\n",
       "<style scoped>\n",
       "    .dataframe tbody tr th:only-of-type {\n",
       "        vertical-align: middle;\n",
       "    }\n",
       "\n",
       "    .dataframe tbody tr th {\n",
       "        vertical-align: top;\n",
       "    }\n",
       "\n",
       "    .dataframe thead th {\n",
       "        text-align: right;\n",
       "    }\n",
       "</style>\n",
       "<table border=\"1\" class=\"dataframe\">\n",
       "  <thead>\n",
       "    <tr style=\"text-align: right;\">\n",
       "      <th></th>\n",
       "      <th>participant</th>\n",
       "      <th>ground_truth</th>\n",
       "      <th>recog_resp</th>\n",
       "      <th>recog_conf</th>\n",
       "      <th>recog_rt</th>\n",
       "      <th>participant_session</th>\n",
       "      <th>hmm</th>\n",
       "    </tr>\n",
       "  </thead>\n",
       "  <tbody>\n",
       "    <tr>\n",
       "      <th>0</th>\n",
       "      <td>LTP268</td>\n",
       "      <td>old</td>\n",
       "      <td>old</td>\n",
       "      <td>5</td>\n",
       "      <td>1395.0</td>\n",
       "      <td>LTP2681</td>\n",
       "      <td>tp</td>\n",
       "    </tr>\n",
       "    <tr>\n",
       "      <th>1</th>\n",
       "      <td>LTP268</td>\n",
       "      <td>old</td>\n",
       "      <td>new</td>\n",
       "      <td>2</td>\n",
       "      <td>1788.0</td>\n",
       "      <td>LTP2681</td>\n",
       "      <td>fn</td>\n",
       "    </tr>\n",
       "    <tr>\n",
       "      <th>2</th>\n",
       "      <td>LTP268</td>\n",
       "      <td>old</td>\n",
       "      <td>new</td>\n",
       "      <td>3</td>\n",
       "      <td>2308.0</td>\n",
       "      <td>LTP2681</td>\n",
       "      <td>fn</td>\n",
       "    </tr>\n",
       "    <tr>\n",
       "      <th>3</th>\n",
       "      <td>LTP268</td>\n",
       "      <td>old</td>\n",
       "      <td>old</td>\n",
       "      <td>5</td>\n",
       "      <td>1320.0</td>\n",
       "      <td>LTP2681</td>\n",
       "      <td>tp</td>\n",
       "    </tr>\n",
       "    <tr>\n",
       "      <th>4</th>\n",
       "      <td>LTP268</td>\n",
       "      <td>old</td>\n",
       "      <td>old</td>\n",
       "      <td>5</td>\n",
       "      <td>1025.0</td>\n",
       "      <td>LTP2681</td>\n",
       "      <td>tp</td>\n",
       "    </tr>\n",
       "    <tr>\n",
       "      <th>5</th>\n",
       "      <td>LTP268</td>\n",
       "      <td>new</td>\n",
       "      <td>new</td>\n",
       "      <td>4</td>\n",
       "      <td>1108.0</td>\n",
       "      <td>LTP2681</td>\n",
       "      <td>tn</td>\n",
       "    </tr>\n",
       "    <tr>\n",
       "      <th>6</th>\n",
       "      <td>LTP268</td>\n",
       "      <td>old</td>\n",
       "      <td>old</td>\n",
       "      <td>5</td>\n",
       "      <td>1207.0</td>\n",
       "      <td>LTP2681</td>\n",
       "      <td>tp</td>\n",
       "    </tr>\n",
       "    <tr>\n",
       "      <th>7</th>\n",
       "      <td>LTP268</td>\n",
       "      <td>new</td>\n",
       "      <td>new</td>\n",
       "      <td>5</td>\n",
       "      <td>1125.0</td>\n",
       "      <td>LTP2681</td>\n",
       "      <td>tn</td>\n",
       "    </tr>\n",
       "    <tr>\n",
       "      <th>8</th>\n",
       "      <td>LTP268</td>\n",
       "      <td>old</td>\n",
       "      <td>new</td>\n",
       "      <td>3</td>\n",
       "      <td>1635.0</td>\n",
       "      <td>LTP2681</td>\n",
       "      <td>fn</td>\n",
       "    </tr>\n",
       "    <tr>\n",
       "      <th>9</th>\n",
       "      <td>LTP268</td>\n",
       "      <td>old</td>\n",
       "      <td>new</td>\n",
       "      <td>2</td>\n",
       "      <td>2430.0</td>\n",
       "      <td>LTP2681</td>\n",
       "      <td>fn</td>\n",
       "    </tr>\n",
       "    <tr>\n",
       "      <th>10</th>\n",
       "      <td>LTP268</td>\n",
       "      <td>old</td>\n",
       "      <td>new</td>\n",
       "      <td>1</td>\n",
       "      <td>2536.0</td>\n",
       "      <td>LTP2681</td>\n",
       "      <td>fn</td>\n",
       "    </tr>\n",
       "    <tr>\n",
       "      <th>11</th>\n",
       "      <td>LTP268</td>\n",
       "      <td>new</td>\n",
       "      <td>old</td>\n",
       "      <td>2</td>\n",
       "      <td>2040.0</td>\n",
       "      <td>LTP2681</td>\n",
       "      <td>fp</td>\n",
       "    </tr>\n",
       "    <tr>\n",
       "      <th>12</th>\n",
       "      <td>LTP268</td>\n",
       "      <td>new</td>\n",
       "      <td>new</td>\n",
       "      <td>2</td>\n",
       "      <td>2655.0</td>\n",
       "      <td>LTP2681</td>\n",
       "      <td>tn</td>\n",
       "    </tr>\n",
       "    <tr>\n",
       "      <th>13</th>\n",
       "      <td>LTP268</td>\n",
       "      <td>old</td>\n",
       "      <td>old</td>\n",
       "      <td>5</td>\n",
       "      <td>1205.0</td>\n",
       "      <td>LTP2681</td>\n",
       "      <td>tp</td>\n",
       "    </tr>\n",
       "    <tr>\n",
       "      <th>14</th>\n",
       "      <td>LTP268</td>\n",
       "      <td>old</td>\n",
       "      <td>old</td>\n",
       "      <td>5</td>\n",
       "      <td>989.0</td>\n",
       "      <td>LTP2681</td>\n",
       "      <td>tp</td>\n",
       "    </tr>\n",
       "    <tr>\n",
       "      <th>15</th>\n",
       "      <td>LTP268</td>\n",
       "      <td>old</td>\n",
       "      <td>old</td>\n",
       "      <td>5</td>\n",
       "      <td>806.0</td>\n",
       "      <td>LTP2681</td>\n",
       "      <td>tp</td>\n",
       "    </tr>\n",
       "    <tr>\n",
       "      <th>16</th>\n",
       "      <td>LTP268</td>\n",
       "      <td>old</td>\n",
       "      <td>old</td>\n",
       "      <td>5</td>\n",
       "      <td>806.0</td>\n",
       "      <td>LTP2681</td>\n",
       "      <td>tp</td>\n",
       "    </tr>\n",
       "    <tr>\n",
       "      <th>17</th>\n",
       "      <td>LTP268</td>\n",
       "      <td>new</td>\n",
       "      <td>new</td>\n",
       "      <td>5</td>\n",
       "      <td>1013.0</td>\n",
       "      <td>LTP2681</td>\n",
       "      <td>tn</td>\n",
       "    </tr>\n",
       "    <tr>\n",
       "      <th>18</th>\n",
       "      <td>LTP268</td>\n",
       "      <td>old</td>\n",
       "      <td>old</td>\n",
       "      <td>5</td>\n",
       "      <td>961.0</td>\n",
       "      <td>LTP2681</td>\n",
       "      <td>tp</td>\n",
       "    </tr>\n",
       "    <tr>\n",
       "      <th>19</th>\n",
       "      <td>LTP268</td>\n",
       "      <td>old</td>\n",
       "      <td>new</td>\n",
       "      <td>2</td>\n",
       "      <td>2188.0</td>\n",
       "      <td>LTP2681</td>\n",
       "      <td>fn</td>\n",
       "    </tr>\n",
       "  </tbody>\n",
       "</table>\n",
       "</div>"
      ],
      "text/plain": [
       "   participant ground_truth recog_resp  recog_conf  recog_rt  \\\n",
       "0       LTP268          old        old           5    1395.0   \n",
       "1       LTP268          old        new           2    1788.0   \n",
       "2       LTP268          old        new           3    2308.0   \n",
       "3       LTP268          old        old           5    1320.0   \n",
       "4       LTP268          old        old           5    1025.0   \n",
       "5       LTP268          new        new           4    1108.0   \n",
       "6       LTP268          old        old           5    1207.0   \n",
       "7       LTP268          new        new           5    1125.0   \n",
       "8       LTP268          old        new           3    1635.0   \n",
       "9       LTP268          old        new           2    2430.0   \n",
       "10      LTP268          old        new           1    2536.0   \n",
       "11      LTP268          new        old           2    2040.0   \n",
       "12      LTP268          new        new           2    2655.0   \n",
       "13      LTP268          old        old           5    1205.0   \n",
       "14      LTP268          old        old           5     989.0   \n",
       "15      LTP268          old        old           5     806.0   \n",
       "16      LTP268          old        old           5     806.0   \n",
       "17      LTP268          new        new           5    1013.0   \n",
       "18      LTP268          old        old           5     961.0   \n",
       "19      LTP268          old        new           2    2188.0   \n",
       "\n",
       "   participant_session hmm  \n",
       "0              LTP2681  tp  \n",
       "1              LTP2681  fn  \n",
       "2              LTP2681  fn  \n",
       "3              LTP2681  tp  \n",
       "4              LTP2681  tp  \n",
       "5              LTP2681  tn  \n",
       "6              LTP2681  tp  \n",
       "7              LTP2681  tn  \n",
       "8              LTP2681  fn  \n",
       "9              LTP2681  fn  \n",
       "10             LTP2681  fn  \n",
       "11             LTP2681  fp  \n",
       "12             LTP2681  tn  \n",
       "13             LTP2681  tp  \n",
       "14             LTP2681  tp  \n",
       "15             LTP2681  tp  \n",
       "16             LTP2681  tp  \n",
       "17             LTP2681  tn  \n",
       "18             LTP2681  tp  \n",
       "19             LTP2681  fn  "
      ]
     },
     "execution_count": 26,
     "metadata": {},
     "output_type": "execute_result"
    }
   ],
   "source": [
    "data[:20]"
   ]
  },
  {
   "cell_type": "code",
   "execution_count": 27,
   "metadata": {
    "collapsed": true
   },
   "outputs": [],
   "source": [
    "if data_set == 0:\n",
    "    # For general dataset\n",
    "    data.to_csv(\"final_general_data.csv\", sep=',', index=False)\n",
    "    \n",
    "else:\n",
    "    # For recall dataset\n",
    "    data.to_csv(\"final_recall_data.csv\", sep=',', index=False)"
   ]
  },
  {
   "cell_type": "code",
   "execution_count": 28,
   "metadata": {
    "collapsed": false
   },
   "outputs": [
    {
     "name": "stdout",
     "output_type": "stream",
     "text": [
      "All done! :)\n"
     ]
    }
   ],
   "source": [
    "print(\"All done! :)\")"
   ]
  }
 ],
 "metadata": {
  "anaconda-cloud": {},
  "kernelspec": {
   "display_name": "Python [conda root]",
   "language": "python",
   "name": "conda-root-py"
  },
  "language_info": {
   "codemirror_mode": {
    "name": "ipython",
    "version": 3
   },
   "file_extension": ".py",
   "mimetype": "text/x-python",
   "name": "python",
   "nbconvert_exporter": "python",
   "pygments_lexer": "ipython3",
   "version": "3.5.2"
  },
  "widgets": {
   "state": {
    "3f7bba0df36c42aab7ae587aa445cc0a": {
     "views": [
      {
       "cell_index": 8
      }
     ]
    }
   },
   "version": "1.2.0"
  }
 },
 "nbformat": 4,
 "nbformat_minor": 2
}
