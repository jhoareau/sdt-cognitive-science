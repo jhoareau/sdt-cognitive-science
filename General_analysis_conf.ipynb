{
 "cells": [
  {
   "cell_type": "code",
   "execution_count": 1,
   "metadata": {
    "collapsed": true
   },
   "outputs": [],
   "source": [
    "import pandas as pd\n",
    "import numpy as np"
   ]
  },
  {
   "cell_type": "code",
   "execution_count": 2,
   "metadata": {
    "collapsed": true
   },
   "outputs": [],
   "source": [
    "data = pd.read_csv('final_general_data.csv')"
   ]
  },
  {
   "cell_type": "code",
   "execution_count": 3,
   "metadata": {
    "collapsed": false
   },
   "outputs": [
    {
     "data": {
      "text/plain": [
       "853624"
      ]
     },
     "execution_count": 3,
     "metadata": {},
     "output_type": "execute_result"
    }
   ],
   "source": [
    "len(data)"
   ]
  },
  {
   "cell_type": "code",
   "execution_count": 4,
   "metadata": {
    "collapsed": false
   },
   "outputs": [
    {
     "data": {
      "text/html": [
       "<div>\n",
       "<style scoped>\n",
       "    .dataframe tbody tr th:only-of-type {\n",
       "        vertical-align: middle;\n",
       "    }\n",
       "\n",
       "    .dataframe tbody tr th {\n",
       "        vertical-align: top;\n",
       "    }\n",
       "\n",
       "    .dataframe thead th {\n",
       "        text-align: right;\n",
       "    }\n",
       "</style>\n",
       "<table border=\"1\" class=\"dataframe\">\n",
       "  <thead>\n",
       "    <tr style=\"text-align: right;\">\n",
       "      <th></th>\n",
       "      <th></th>\n",
       "      <th>participant_session</th>\n",
       "    </tr>\n",
       "    <tr>\n",
       "      <th>hmm</th>\n",
       "      <th>recog_conf</th>\n",
       "      <th></th>\n",
       "    </tr>\n",
       "  </thead>\n",
       "  <tbody>\n",
       "    <tr>\n",
       "      <th rowspan=\"5\" valign=\"top\">fn</th>\n",
       "      <th>1</th>\n",
       "      <td>12932</td>\n",
       "    </tr>\n",
       "    <tr>\n",
       "      <th>2</th>\n",
       "      <td>11778</td>\n",
       "    </tr>\n",
       "    <tr>\n",
       "      <th>3</th>\n",
       "      <td>11514</td>\n",
       "    </tr>\n",
       "    <tr>\n",
       "      <th>4</th>\n",
       "      <td>8167</td>\n",
       "    </tr>\n",
       "    <tr>\n",
       "      <th>5</th>\n",
       "      <td>5436</td>\n",
       "    </tr>\n",
       "    <tr>\n",
       "      <th rowspan=\"5\" valign=\"top\">fp</th>\n",
       "      <th>1</th>\n",
       "      <td>14754</td>\n",
       "    </tr>\n",
       "    <tr>\n",
       "      <th>2</th>\n",
       "      <td>10189</td>\n",
       "    </tr>\n",
       "    <tr>\n",
       "      <th>3</th>\n",
       "      <td>7780</td>\n",
       "    </tr>\n",
       "    <tr>\n",
       "      <th>4</th>\n",
       "      <td>5192</td>\n",
       "    </tr>\n",
       "    <tr>\n",
       "      <th>5</th>\n",
       "      <td>6401</td>\n",
       "    </tr>\n",
       "    <tr>\n",
       "      <th rowspan=\"5\" valign=\"top\">tn</th>\n",
       "      <th>1</th>\n",
       "      <td>24618</td>\n",
       "    </tr>\n",
       "    <tr>\n",
       "      <th>2</th>\n",
       "      <td>35640</td>\n",
       "    </tr>\n",
       "    <tr>\n",
       "      <th>3</th>\n",
       "      <td>50824</td>\n",
       "    </tr>\n",
       "    <tr>\n",
       "      <th>4</th>\n",
       "      <td>59968</td>\n",
       "    </tr>\n",
       "    <tr>\n",
       "      <th>5</th>\n",
       "      <td>62169</td>\n",
       "    </tr>\n",
       "    <tr>\n",
       "      <th rowspan=\"5\" valign=\"top\">tp</th>\n",
       "      <th>1</th>\n",
       "      <td>17624</td>\n",
       "    </tr>\n",
       "    <tr>\n",
       "      <th>2</th>\n",
       "      <td>25699</td>\n",
       "    </tr>\n",
       "    <tr>\n",
       "      <th>3</th>\n",
       "      <td>48138</td>\n",
       "    </tr>\n",
       "    <tr>\n",
       "      <th>4</th>\n",
       "      <td>84450</td>\n",
       "    </tr>\n",
       "    <tr>\n",
       "      <th>5</th>\n",
       "      <td>350351</td>\n",
       "    </tr>\n",
       "  </tbody>\n",
       "</table>\n",
       "</div>"
      ],
      "text/plain": [
       "                participant_session\n",
       "hmm recog_conf                     \n",
       "fn  1                         12932\n",
       "    2                         11778\n",
       "    3                         11514\n",
       "    4                          8167\n",
       "    5                          5436\n",
       "fp  1                         14754\n",
       "    2                         10189\n",
       "    3                          7780\n",
       "    4                          5192\n",
       "    5                          6401\n",
       "tn  1                         24618\n",
       "    2                         35640\n",
       "    3                         50824\n",
       "    4                         59968\n",
       "    5                         62169\n",
       "tp  1                         17624\n",
       "    2                         25699\n",
       "    3                         48138\n",
       "    4                         84450\n",
       "    5                        350351"
      ]
     },
     "execution_count": 4,
     "metadata": {},
     "output_type": "execute_result"
    }
   ],
   "source": [
    "distribution = data.loc[:, ['recog_conf', 'hmm', 'participant_session']].groupby(['hmm', 'recog_conf']).count()\n",
    "distribution"
   ]
  },
  {
   "cell_type": "code",
   "execution_count": 5,
   "metadata": {
    "collapsed": false
   },
   "outputs": [
    {
     "name": "stdout",
     "output_type": "stream",
     "text": [
      "Sum of lures (new): 277535\n",
      "Sum of targets (old): 576089\n"
     ]
    }
   ],
   "source": [
    "# Creating the \"RAW\" section of \"Table 1\"\n",
    "raw_new_lure = distribution.loc['tn']\n",
    "raw_old_lure = distribution.loc['fp']\n",
    "sum_raw_new_lure = sum(raw_new_lure.values)[0]\n",
    "sum_raw_old_lure = sum(raw_old_lure.values)[0]\n",
    "sum_raw_lure = sum_raw_new_lure + sum_raw_old_lure\n",
    "\n",
    "raw_new_target = distribution.loc['fn']\n",
    "raw_old_target = distribution.loc['tp']\n",
    "sum_raw_new_target = sum(raw_new_target.values)[0]\n",
    "sum_raw_old_target = sum(raw_old_target.values)[0]\n",
    "sum_raw_target = sum_raw_new_target + sum_raw_old_target\n",
    "\n",
    "print(\"Sum of lures (new):\",sum_raw_lure)\n",
    "print(\"Sum of targets (old):\",sum_raw_target)"
   ]
  },
  {
   "cell_type": "code",
   "execution_count": 6,
   "metadata": {
    "collapsed": false
   },
   "outputs": [
    {
     "name": "stdout",
     "output_type": "stream",
     "text": [
      "Sum of lures (new): 1.0\n",
      "Sum of targets (old): 1.0\n"
     ]
    }
   ],
   "source": [
    "# Creaating the \"ALL\" section of \"Table 1\"\n",
    "all_new_lure = raw_new_lure/sum_raw_lure\n",
    "all_old_lure = raw_old_lure/sum_raw_lure\n",
    "sum_all_new_lure = sum(all_new_lure.values)[0]\n",
    "sum_all_old_lure = sum(all_old_lure.values)[0]\n",
    "sum_all_lure = sum_all_new_lure + sum_all_old_lure\n",
    "\n",
    "all_new_target = raw_new_target/sum_raw_target\n",
    "all_old_target = raw_old_target/sum_raw_target\n",
    "sum_all_new_target = sum(all_new_target.values)[0]\n",
    "sum_all_old_target = sum(all_old_target.values)[0]\n",
    "sum_all_target = sum_all_new_target + sum_all_old_target\n",
    "\n",
    "print(\"Sum of lures (new):\",sum_all_lure)\n",
    "print(\"Sum of targets (old):\",sum_all_target)"
   ]
  },
  {
   "cell_type": "code",
   "execution_count": 7,
   "metadata": {
    "collapsed": false
   },
   "outputs": [
    {
     "name": "stdout",
     "output_type": "stream",
     "text": [
      "Sum of lures (new): 2.0\n",
      "Sum of targets (old): 2.0\n"
     ]
    }
   ],
   "source": [
    "# Creaating the \"REC\" section of \"Table 1\"\n",
    "rec_new_lure = raw_new_lure/sum_raw_new_lure\n",
    "rec_old_lure = raw_old_lure/sum_raw_old_lure\n",
    "sum_rec_new_lure = sum(rec_new_lure.values)[0]\n",
    "sum_rec_old_lure = sum(rec_old_lure.values)[0]\n",
    "sum_rec_lure = sum_rec_new_lure + sum_rec_old_lure\n",
    "\n",
    "rec_new_target = raw_new_target/sum_raw_new_target\n",
    "rec_old_target = raw_old_target/sum_raw_old_target\n",
    "sum_rec_new_target = sum(rec_new_target.values)[0]\n",
    "sum_rec_old_target = sum(rec_old_target.values)[0]\n",
    "sum_rec_target = sum_rec_new_target + sum_rec_old_target\n",
    "\n",
    "print(\"Sum of lures (new):\",sum_rec_lure)\n",
    "print(\"Sum of targets (old):\",sum_rec_target)"
   ]
  },
  {
   "cell_type": "code",
   "execution_count": 8,
   "metadata": {
    "collapsed": true
   },
   "outputs": [],
   "source": [
    "# Creating \"Table 2\"\n",
    "raw_fa = pd.concat([raw_old_lure.iloc[::-1], raw_new_lure ]).cumsum()\n",
    "raw_hit = pd.concat([raw_old_target.iloc[::-1], raw_new_target ]).cumsum()\n",
    "all_fa = [0] + list(np.transpose(raw_fa/sum_raw_lure).values[0])\n",
    "all_hit = [0] + list(np.transpose(raw_hit/sum_raw_target).values[0])"
   ]
  },
  {
   "cell_type": "code",
   "execution_count": null,
   "metadata": {
    "collapsed": true
   },
   "outputs": [],
   "source": []
  },
  {
   "cell_type": "code",
   "execution_count": 9,
   "metadata": {
    "collapsed": false
   },
   "outputs": [
    {
     "data": {
      "image/png": "[encoded data removed]",
      "text/plain": [
       "<matplotlib.figure.Figure at 0x109188e48>"
      ]
     },
     "metadata": {},
     "output_type": "display_data"
    },
    {
     "data": {
      "image/png": "[encoded data removed]",
      "text/plain": [
       "<matplotlib.figure.Figure at 0x10d354f60>"
      ]
     },
     "metadata": {},
     "output_type": "display_data"
    }
   ],
   "source": [
    "import matplotlib.pyplot as plt\n",
    "from scipy.stats import norm, linregress\n",
    "%matplotlib inline\n",
    "\n",
    "plt.figure(figsize=(5,5))\n",
    "plt.title('ROC Curve')\n",
    "plt.xlabel('p(FA)')\n",
    "plt.ylabel('p(Hit)')\n",
    "plt.axis(xmin=0, xmax=1, ymin=0, ymax=1)\n",
    "plt.scatter(all_fa[:5], all_hit[:5], 20, c='r', marker='^')\n",
    "plt.scatter(all_fa[5:], all_hit[5:], 20, c='g', marker='v')\n",
    "plt.plot(all_fa[:6], all_hit[:6], c='r')\n",
    "plt.plot(all_fa[5:], all_hit[5:], c='g', linestyle='--')\n",
    "plt.plot([0, 1], [0, 1], c='gray', linestyle=':')\n",
    "plt.plot([0, all_fa[5]], [0, all_hit[5]], c='gray', linestyle=':')\n",
    "plt.plot([all_fa[5], 1], [all_hit[5], 1], c='gray', linestyle=':')\n",
    "plt.scatter(all_fa[5], all_hit[5], 25, c='b', marker='D')\n",
    "\n",
    "plt.figure(figsize=(5,5))\n",
    "plt.title('Gaussian ROC Curve')\n",
    "plt.xlabel('Zp(FA)')\n",
    "plt.ylabel('Zp(Hit)')\n",
    "#plt.axis(xmin=0, xmax=1, ymin=0, ymax=1)\n",
    "plt.scatter(list(map(norm.ppf,all_fa)), list(map(norm.ppf,all_hit)), 20, c='r', marker='^')\n",
    "slope, intercept, _, _, _ = linregress(list(map(norm.ppf,all_fa)), list(map(norm.ppf,all_hit)))"
   ]
  },
  {
   "cell_type": "code",
   "execution_count": 11,
   "metadata": {
    "collapsed": false
   },
   "outputs": [
    {
     "name": "stdout",
     "output_type": "stream",
     "text": [
      "0.937388315019\n"
     ]
    }
   ],
   "source": [
    "from scipy.integrate import trapz\n",
    "auc_time_ROC = trapz(all_hit, all_fa)\n",
    "print(auc_time_ROC)"
   ]
  },
  {
   "cell_type": "code",
   "execution_count": 45,
   "metadata": {
    "collapsed": true
   },
   "outputs": [],
   "source": [
    "# Calculating ROC per participant in order to get d' per participant\n",
    "from scipy.stats import norm, linregress\n",
    "from scipy.integrate import trapz\n",
    "from math import sqrt\n",
    "from collections import defaultdict\n",
    "\n",
    "distribution_grouped = data.loc[:, ['recog_conf', 'hmm', 'participant_session', 'participant']].groupby(['participant_session', 'hmm', 'recog_conf']).count()\n",
    "session_list = list(distribution_grouped.index.levels[0])\n",
    "\n",
    "participant_session_auc = defaultdict(list)\n",
    "participant_session_gaussian = defaultdict(list)\n",
    "for session in session_list:\n",
    "    raw_new_lure = distribution_grouped.loc[session, 'tn'].reindex([1, 2, 3, 4, 5], fill_value=0, copy=False)\n",
    "    raw_old_lure = distribution_grouped.loc[session, 'fp'].reindex([1, 2, 3, 4, 5], fill_value=0, copy=False)\n",
    "    sum_raw_new_lure = sum(raw_new_lure.values)[0]\n",
    "    sum_raw_old_lure = sum(raw_old_lure.values)[0]\n",
    "    sum_raw_lure = sum_raw_new_lure + sum_raw_old_lure\n",
    "\n",
    "    raw_new_target = distribution_grouped.loc[session, 'fn'].reindex([1, 2, 3, 4, 5], fill_value=0, copy=False)\n",
    "    raw_old_target = distribution_grouped.loc[session, 'tp'].reindex([1, 2, 3, 4, 5], fill_value=0, copy=False)\n",
    "    sum_raw_new_target = sum(raw_new_target.values)[0]\n",
    "    sum_raw_old_target = sum(raw_old_target.values)[0]\n",
    "    sum_raw_target = sum_raw_new_target + sum_raw_old_target\n",
    "    \n",
    "    raw_fa = pd.concat([raw_old_lure.iloc[::-1], raw_new_lure ]).cumsum()\n",
    "    raw_hit = pd.concat([raw_old_target.iloc[::-1], raw_new_target ]).cumsum()\n",
    "    all_fa = [0] + list(np.transpose(raw_fa/sum_raw_lure).values[0])\n",
    "    all_hit = [0] + list(np.transpose(raw_hit/sum_raw_target).values[0])\n",
    "    gaussian_session = [(a,b) for (a,b) in zip(map(norm.ppf, all_fa), map(norm.ppf, all_hit)) if (not np.isinf(a) and not np.isinf(b))]\n",
    "    \n",
    "    auc = trapz(all_hit, all_fa)\n",
    "    participant_session_auc[session[:6]].append(auc)\n",
    "    participant_session_gaussian[session[:6]].append(np.array(gaussian_session))\n",
    "\n",
    "\n",
    "participant_auc = { k: np.mean(participant_session_auc[k]) for k in participant_session_auc }\n",
    "participant_criterion = { k: sqrt(2) * norm.ppf(participant_auc[k]) for k in participant_auc }\n",
    "participant_regression = dict()\n",
    "for k in participant_auc:\n",
    "    slope, intercept, r, _, _ = linregress(np.vstack(participant_session_gaussian[k]))\n",
    "    participant_regression[k] = (slope, intercept, r**2)"
   ]
  },
  {
   "cell_type": "code",
   "execution_count": 11,
   "metadata": {
    "collapsed": true
   },
   "outputs": [],
   "source": [
    "import pickle\n",
    "pickle.dump(participant_auc, open( \"auc_confidence.bin\", \"wb\" ))"
   ]
  },
  {
   "cell_type": "code",
   "execution_count": 28,
   "metadata": {
    "collapsed": false
   },
   "outputs": [
    {
     "data": {
      "text/plain": [
       "{'LTP063': 2.3829082776863761,\n",
       " 'LTP064': 2.3522578968672603,\n",
       " 'LTP065': 2.2643994227110675,\n",
       " 'LTP066': 1.8333191769827435,\n",
       " 'LTP067': 2.1359882776395644,\n",
       " 'LTP069': 2.164743181604754,\n",
       " 'LTP070': 2.012990116569545,\n",
       " 'LTP073': 2.8470227575547002,\n",
       " 'LTP074': 2.4233356601825826,\n",
       " 'LTP075': 1.64768540941273,\n",
       " 'LTP076': 2.5920628206078402,\n",
       " 'LTP077': 1.4860443079686865,\n",
       " 'LTP079': 3.0650919029736463,\n",
       " 'LTP081': 2.2947860931874557,\n",
       " 'LTP082': 3.2831406599195678,\n",
       " 'LTP084': 0.74795789094082166,\n",
       " 'LTP085': 2.2266490564812362,\n",
       " 'LTP086': 1.6783769186906126,\n",
       " 'LTP087': 1.2406110763650486,\n",
       " 'LTP088': 1.62910177767459,\n",
       " 'LTP089': 1.0269114747359067,\n",
       " 'LTP090': 2.9969358416434506,\n",
       " 'LTP091': 1.2710042679521716,\n",
       " 'LTP092': 2.8914971200974744,\n",
       " 'LTP093': 2.3538149804721047,\n",
       " 'LTP094': 2.1203730233030953,\n",
       " 'LTP095': 1.6392616730788345,\n",
       " 'LTP096': 1.4629847308780526,\n",
       " 'LTP098': 2.1179231729169157,\n",
       " 'LTP099': 1.4118207284290039,\n",
       " 'LTP100': 2.1914606789013527,\n",
       " 'LTP101': 2.0945321581647689,\n",
       " 'LTP102': 2.363465970333781,\n",
       " 'LTP103': 1.2265398537697554,\n",
       " 'LTP104': 2.9976095138655885,\n",
       " 'LTP105': 2.1792948801232521,\n",
       " 'LTP106': 2.4894540245543646,\n",
       " 'LTP107': 2.9239172615170896,\n",
       " 'LTP108': 1.899861274013535,\n",
       " 'LTP110': 2.9084214732827234,\n",
       " 'LTP111': 1.5972224817179033,\n",
       " 'LTP112': 2.0704844695697768,\n",
       " 'LTP113': 2.2226325030219294,\n",
       " 'LTP114': 1.832983003635686,\n",
       " 'LTP115': 2.8814970798464015,\n",
       " 'LTP117': 1.5301877177621002,\n",
       " 'LTP118': 1.8572121194299449,\n",
       " 'LTP119': 2.2501042010276877,\n",
       " 'LTP120': 2.4160240604813441,\n",
       " 'LTP122': 2.852490460702954,\n",
       " 'LTP123': 2.1249100473186391,\n",
       " 'LTP124': 2.7894012498431096,\n",
       " 'LTP125': 2.3208488312212103,\n",
       " 'LTP127': 2.6469145842571478,\n",
       " 'LTP128': 2.6317619529854412,\n",
       " 'LTP130': 2.5130119630125494,\n",
       " 'LTP131': 2.2690736691056981,\n",
       " 'LTP132': 1.9980403433797156,\n",
       " 'LTP133': 3.0860454485390432,\n",
       " 'LTP134': 2.1585729693187425,\n",
       " 'LTP135': 2.4709634899410005,\n",
       " 'LTP136': 1.7967966195436187,\n",
       " 'LTP137': 2.7630948223932341,\n",
       " 'LTP138': 2.2396192709535638,\n",
       " 'LTP139': 2.2911612865316893,\n",
       " 'LTP140': 2.3651144230641035,\n",
       " 'LTP141': 2.1526814895170108,\n",
       " 'LTP142': 2.0953105727074117,\n",
       " 'LTP143': 1.5522641018601959,\n",
       " 'LTP144': 2.8345770274696109,\n",
       " 'LTP145': 2.7143437914934769,\n",
       " 'LTP146': 1.8367542940698844,\n",
       " 'LTP147': 2.0906540235386069,\n",
       " 'LTP148': 3.0539283625406206,\n",
       " 'LTP149': 2.3763287271254199,\n",
       " 'LTP150': 2.9623728944371126,\n",
       " 'LTP151': 2.8738782193682435,\n",
       " 'LTP153': 2.195853949856831,\n",
       " 'LTP155': 2.3656058520977874,\n",
       " 'LTP159': 2.4811778394338506,\n",
       " 'LTP166': 2.5922171903854809,\n",
       " 'LTP168': 1.5539823643588586,\n",
       " 'LTP174': 3.0494636991641348,\n",
       " 'LTP184': 1.5009877436283849,\n",
       " 'LTP185': 2.6018984254599911,\n",
       " 'LTP186': 2.470817460232412,\n",
       " 'LTP187': 1.7544478830113965,\n",
       " 'LTP188': 1.3010628180143722,\n",
       " 'LTP189': 1.5797255817965306,\n",
       " 'LTP190': 2.0697339768885445,\n",
       " 'LTP191': 2.926101012821237,\n",
       " 'LTP192': 3.2176060458517313,\n",
       " 'LTP193': 2.7646474176097633,\n",
       " 'LTP194': 1.6566308816082147,\n",
       " 'LTP195': 2.8845316553890958,\n",
       " 'LTP196': 2.1059868659141325,\n",
       " 'LTP197': 2.561760120053358,\n",
       " 'LTP198': 2.7537793542884148,\n",
       " 'LTP199': 2.9913941713369496,\n",
       " 'LTP200': 2.2788049337170406,\n",
       " 'LTP201': 1.6856917583001023,\n",
       " 'LTP202': 2.3395791803044719,\n",
       " 'LTP207': 2.4157491990080584,\n",
       " 'LTP209': 2.5493493614094653,\n",
       " 'LTP210': 2.7904414659798928,\n",
       " 'LTP211': 3.2584705119038482,\n",
       " 'LTP212': 2.352295928699943,\n",
       " 'LTP214': 2.0868800504233831,\n",
       " 'LTP215': 1.5407298817467294,\n",
       " 'LTP227': 2.2640626330334421,\n",
       " 'LTP228': 2.6540988607471498,\n",
       " 'LTP229': 2.7231270048951273,\n",
       " 'LTP230': 2.1382382873093926,\n",
       " 'LTP231': 2.0442831768375167,\n",
       " 'LTP232': 1.768565994195558,\n",
       " 'LTP233': 1.7552738659920177,\n",
       " 'LTP234': 2.5328629644448903,\n",
       " 'LTP235': 2.6491137551692532,\n",
       " 'LTP236': 1.89875007530377,\n",
       " 'LTP237': 1.7661895293336562,\n",
       " 'LTP238': 2.9889859705618256,\n",
       " 'LTP239': 1.3829886361238894,\n",
       " 'LTP240': 2.9241533424342387,\n",
       " 'LTP241': 2.2442327885192634,\n",
       " 'LTP242': 2.4647106533419336,\n",
       " 'LTP243': 2.7678357759126424,\n",
       " 'LTP244': 2.435345848791433,\n",
       " 'LTP245': 1.7839289540368364,\n",
       " 'LTP246': 2.5888271425266751,\n",
       " 'LTP247': 2.3976434078723807,\n",
       " 'LTP249': 1.9664853890236369,\n",
       " 'LTP250': 1.2998200402492408,\n",
       " 'LTP251': 1.4718831682126581,\n",
       " 'LTP252': 2.3221256203905671,\n",
       " 'LTP253': 2.0846088219783536,\n",
       " 'LTP254': 3.0730552699974334,\n",
       " 'LTP256': 2.2694181121185006,\n",
       " 'LTP258': 2.4926716071141115,\n",
       " 'LTP259': 2.329635706585329,\n",
       " 'LTP260': 2.7931791447115915,\n",
       " 'LTP261': 3.1506664191902489,\n",
       " 'LTP263': 2.0692866494019309,\n",
       " 'LTP264': 2.0252177268889073,\n",
       " 'LTP265': 2.7135114097801241,\n",
       " 'LTP267': 0.9047742054439627,\n",
       " 'LTP268': 2.9265276559461451,\n",
       " 'LTP269': 2.2416815515101747,\n",
       " 'LTP270': 1.501755819632576,\n",
       " 'LTP271': 1.505409119594471,\n",
       " 'LTP272': 3.1137764993171126,\n",
       " 'LTP273': 1.3273754354780123,\n",
       " 'LTP274': 1.8200939226375115,\n",
       " 'LTP275': 3.0148629584074533,\n",
       " 'LTP276': 2.2376906014699074,\n",
       " 'LTP277': 1.9907476952254801,\n",
       " 'LTP278': 1.6398468633279679,\n",
       " 'LTP279': 2.2521629749160477,\n",
       " 'LTP280': 2.0572862321883862,\n",
       " 'LTP281': 1.3913491429430473,\n",
       " 'LTP282': 2.0857755262942486,\n",
       " 'LTP283': 2.5654990025787612,\n",
       " 'LTP284': 2.0536457808092674,\n",
       " 'LTP285': 2.0731747503089495,\n",
       " 'LTP286': 2.9536172990485898,\n",
       " 'LTP287': 2.3207813781719548,\n",
       " 'LTP288': 2.4399490427956656,\n",
       " 'LTP289': 2.3151457826080706,\n",
       " 'LTP290': 2.1875406077790056,\n",
       " 'LTP291': 1.7289664290775975,\n",
       " 'LTP292': 2.3273837016214229,\n",
       " 'LTP293': 2.3286902084601357}"
      ]
     },
     "execution_count": 28,
     "metadata": {},
     "output_type": "execute_result"
    }
   ],
   "source": [
    "participant_criterion"
   ]
  },
  {
   "cell_type": "code",
   "execution_count": 42,
   "metadata": {
    "collapsed": false
   },
   "outputs": [
    {
     "data": {
      "text/plain": [
       "{'LTP063': (3.7624413810557042, 1.9535127426105425, 0.32895970937275798),\n",
       " 'LTP064': (1.9457103123583557, 1.9081135247799685, 0.68854483989957005),\n",
       " 'LTP065': (2.6784790354886145, 1.8468365423521509, 0.44940463616868015),\n",
       " 'LTP066': (1.8954857027655931, 1.7388073543019895, 0.41636607144438181),\n",
       " 'LTP067': (1.8451298507347353, 1.9124328194814522, 0.80647692987564445),\n",
       " 'LTP069': (4.4712265500749204, 1.9049085752395467, 0.18629885963208112),\n",
       " 'LTP070': (1.6674966401624225, 1.854723129276034, 0.8301853418935996),\n",
       " 'LTP073': (2.9613027771997604, 2.1651480223856825, 0.43364176000553656),\n",
       " 'LTP074': (1.9880849184601659, 2.0023013605135498, 0.62729328442736898),\n",
       " 'LTP075': (1.732652649919503, 1.5203611833820707, 0.73489483316180471),\n",
       " 'LTP076': (-10.573267170159626, 1.8341206671233248, 0.043706828287922744),\n",
       " 'LTP077': (4.3700926106839466, 1.5323164947365753, 0.057396470921993237),\n",
       " 'LTP079': (7.121611404380225, 2.0725015827218347, 0.076407453076011614),\n",
       " 'LTP081': (1.9228656075282227, 1.9402636462562, 0.773093115882311),\n",
       " 'LTP082': (3.9212808129137899, 2.4428404025205963, 0.2535456044637901),\n",
       " 'LTP084': (-14.345041829121536, 1.1567227072717519, 0.010452247945159475),\n",
       " 'LTP085': (1.6384407911787346, 1.8552698478311089, 0.79219476434609004),\n",
       " 'LTP086': (1.9849562614186362, 1.5448591262004439, 0.58251496405133973),\n",
       " 'LTP087': (2.4291724961296794, 1.1719074027562102, 0.53618346786467996),\n",
       " 'LTP088': (2.1090742479965288, 1.4981975235212612, 0.59627632434530076),\n",
       " 'LTP089': (-5.3474021355548276, 0.57715573774195439, 0.093463466646956997),\n",
       " 'LTP090': (2.8158497188815321, 2.3120986254468039, 0.32289912505316509),\n",
       " 'LTP091': (1.4481333145473128, 1.2161735283149953, 0.86137029179245261),\n",
       " 'LTP092': (2.2362737539093112, 2.3387714295964681, 0.70285599127867115),\n",
       " 'LTP093': (3.3647698029520634, 1.9106271978874521, 0.43600625600416892),\n",
       " 'LTP094': (1.9179368608722822, 1.822599594057128, 0.56608397326562931),\n",
       " 'LTP095': (1.9356521187855877, 1.4339795547973266, 0.60918721179318869),\n",
       " 'LTP096': (2.0447767201474902, 1.4310992292131886, 0.54323552988167156),\n",
       " 'LTP098': (1.9460625721059865, 1.7981860303550674, 0.81382213269236414),\n",
       " 'LTP099': (1.6888828632732855, 1.521049711017473, 0.60501133886868852),\n",
       " 'LTP100': (1.7350750794370811, 1.8321471175615505, 0.69579554923579112),\n",
       " 'LTP101': (2.1228488091624023, 1.8589832304803573, 0.81863385398290045),\n",
       " 'LTP102': (2.7653028989793431, 2.0043160177591028, 0.53275077534813464),\n",
       " 'LTP103': (1.4155969232689398, 1.1751029480290338, 0.86355138032252998),\n",
       " 'LTP104': (2.5294536247563646, 2.4738908120334613, 0.42739257859198848),\n",
       " 'LTP105': (3.6171647766199979, 1.7925237779321659, 0.21272275609777594),\n",
       " 'LTP106': (11.371185938235261, 2.1440364489710322, 0.046278116616645111),\n",
       " 'LTP107': (2.3154883847430372, 2.2997576838877754, 0.54886245870403993),\n",
       " 'LTP108': (1.6096779570754667, 1.7279019582393027, 0.70690861309654529),\n",
       " 'LTP110': (14.990769948265363, 2.2758617155885066, 0.017779230731874089),\n",
       " 'LTP111': (1.4801653808763586, 1.3804924568561967, 0.88138047554225329),\n",
       " 'LTP112': (2.9060572688562352, 1.7737666849431002, 0.23285235393671316),\n",
       " 'LTP113': (1.7770171409884319, 1.8718786245118215, 0.81346824554053387),\n",
       " 'LTP114': (1.5351038042657745, 1.8524871128816156, 0.75099201827124973),\n",
       " 'LTP115': (14.380173237487105, 2.083898727420729, 0.0079529925839631251),\n",
       " 'LTP117': (1.7914671139698175, 1.545781064729655, 0.55260517730307512),\n",
       " 'LTP118': (1.5318966500591404, 1.6312616810084342, 0.68850345101358024),\n",
       " 'LTP119': (1.7321575811219396, 1.981275492642925, 0.61459740582561662),\n",
       " 'LTP120': (6.2387556913690387, 1.8332882193738111, 0.079379047946999362),\n",
       " 'LTP122': (7.5642130850720459, 2.0935400243123792, 0.052671547400528915),\n",
       " 'LTP123': (1.7061157440898247, 1.7814139885641005, 0.8826662911860137),\n",
       " 'LTP124': (2.6151128217796731, 2.2258620915225569, 0.57850000776489485),\n",
       " 'LTP125': (5.4299627047440255, 1.6768850186074742, 0.13850005133612717),\n",
       " 'LTP127': (3.0354346495884985, 2.113267095608113, 0.44443836353738192),\n",
       " 'LTP128': (7.0497057098010902, 1.8794999428307635, 0.05314788888051826),\n",
       " 'LTP130': (2.8600021897177941, 2.0186552395269493, 0.38207338657145246),\n",
       " 'LTP131': (2.7189499039740972, 1.8001084104194851, 0.45846270247479959),\n",
       " 'LTP132': (1.7216151296518152, 1.8368820103642849, 0.73617463969634256),\n",
       " 'LTP133': (3.7684754732132455, 2.3371061711576004, 0.34398653993541867),\n",
       " 'LTP134': (2.3849693166767687, 1.6893526980699429, 0.6668145424108245),\n",
       " 'LTP135': (2.1074207255660586, 2.0305570678957063, 0.67554068565576719),\n",
       " 'LTP136': (1.696493033930659, 1.5818076864967385, 0.75545182401829414),\n",
       " 'LTP137': (4.0943926310539718, 2.062259042349138, 0.22254136004050259),\n",
       " 'LTP138': (1.9481555620714677, 1.8833606125799696, 0.47007152445502931),\n",
       " 'LTP139': (2.1536543031725905, 1.8584679713422225, 0.66172341687125746),\n",
       " 'LTP140': (2.2554003725705263, 1.9025669055626468, 0.64772201945813479),\n",
       " 'LTP141': (2.1475588603155602, 1.826484367232887, 0.68415268830831488),\n",
       " 'LTP142': (1.8537754647753346, 1.9218426942590221, 0.64327759784650318),\n",
       " 'LTP143': (2.8856879432881377, 1.6880134665629254, 0.19628085550511654),\n",
       " 'LTP144': (2.6190717677652526, 2.3443978068760805, 0.516919677216373),\n",
       " 'LTP145': (2.7467252132373678, 1.9981112823464682, 0.51809779737690709),\n",
       " 'LTP146': (12.954018335153195, 1.3938625839003447, 0.015216140391445929),\n",
       " 'LTP147': (3.4516412271326571, 1.9266291355007767, 0.19697955769553058),\n",
       " 'LTP148': (4.5375417276767553, 2.2128610031395741, 0.21117691936899785),\n",
       " 'LTP149': (2.0622597129477147, 2.0449434136525326, 0.55223134578028921),\n",
       " 'LTP150': (2.4464472271194668, 2.3329807207824498, 0.61565251104534469),\n",
       " 'LTP151': (2.8011661045666645, 2.2044991294025658, 0.4425038021735227),\n",
       " 'LTP153': (1.9926914673868128, 1.8088607083922827, 0.73172811432215512),\n",
       " 'LTP155': (1.8388475591488984, 1.9133812354129318, 0.72778212034482948),\n",
       " 'LTP159': (1.8719697147473791, 2.0509927987869911, 0.7206601666204977),\n",
       " 'LTP166': (2.8426472784002619, 2.0032084969410047, 0.54931276508609017),\n",
       " 'LTP168': (1.4106282516361954, 1.4639178583346644, 0.75962078208632933),\n",
       " 'LTP174': (3.1044163063828356, 2.5071131607940642, 0.31850918662126659),\n",
       " 'LTP184': (1.5213218077553883, 1.4507948480907293, 0.77907220175982927),\n",
       " 'LTP185': (3.0196983020773582, 2.0355377274263038, 0.3726799527876084),\n",
       " 'LTP186': (2.4908081274488265, 2.1644677907874326, 0.40342345909853977),\n",
       " 'LTP187': (1.7123272091314763, 1.5325597637275297, 0.65491450504662729),\n",
       " 'LTP188': (1.4691067637831128, 1.1749818402884782, 0.85280313669379637),\n",
       " 'LTP189': (1.2810216400930063, 1.5402548212750049, 0.77369790523637794),\n",
       " 'LTP190': (3.3383601656154092, 1.6958628127599606, 0.42556475435525959),\n",
       " 'LTP191': (2.5353089925384746, 2.2453346101570211, 0.34535730318711505),\n",
       " 'LTP192': (3.0603458220815032, 2.3469342818465644, 0.3526876790210316),\n",
       " 'LTP193': (2.4636061770983586, 2.2581385641111975, 0.48722098874270059),\n",
       " 'LTP194': (1.3683737572645516, 1.5824704094433091, 0.90820776199715214),\n",
       " 'LTP195': (2.266671529181167, 2.3285280339601542, 0.5608029176213214),\n",
       " 'LTP196': (1.7709290222110594, 1.8235845686667109, 0.54943707092583616),\n",
       " 'LTP197': (2.5393514208879959, 2.0691112482233747, 0.44633522051833352),\n",
       " 'LTP198': (1.737011463464728, 2.4045972212580176, 0.62894067352051197),\n",
       " 'LTP199': (4.6665737940674212, 2.1683509733394621, 0.2088082993748378),\n",
       " 'LTP200': (1.9908306874122654, 1.8495795637375343, 0.7496411429065637),\n",
       " 'LTP201': (1.785179387928963, 1.436674951507487, 0.79422587926139709),\n",
       " 'LTP202': (1.7859236669239114, 1.9895485120699672, 0.76798526662626421),\n",
       " 'LTP207': (2.2986176433331988, 1.9870427827045789, 0.60677585080110741),\n",
       " 'LTP209': (1.9051144817277157, 2.1406503359810682, 0.56553356949188149),\n",
       " 'LTP210': (2.4950053858350985, 2.1614526029583692, 0.68813634178062877),\n",
       " 'LTP211': (3.4268814194346238, 2.5406600869689728, 0.17729940777978404),\n",
       " 'LTP212': (1.6940445340062358, 1.9728578098452343, 0.71937375243535584),\n",
       " 'LTP214': (1.6916256971296912, 2.0817231923853354, 0.59099483400771491),\n",
       " 'LTP215': (1.3075249311294095, 1.3770930576655058, 0.88202939820048865),\n",
       " 'LTP227': (1.8328540996885239, 1.8593507285621307, 0.64407798440290531),\n",
       " 'LTP228': (2.1479377589831659, 2.1751183396118656, 0.58031669047545953),\n",
       " 'LTP229': (1.5674042726527735, 2.3488648075956373, 0.59447014571097267),\n",
       " 'LTP230': (2.3029257754989434, 1.8412424679799124, 0.50934908493358011),\n",
       " 'LTP231': (2.0028884823764366, 1.7398852276298928, 0.52599193451841975),\n",
       " 'LTP232': (12.583155021672578, 1.7077839427265598, 0.020934985684608876),\n",
       " 'LTP233': (1.8253785651921841, 1.7681650290117692, 0.65503981875673445),\n",
       " 'LTP234': (2.1947759393225494, 2.2191609453048251, 0.53656286832698452),\n",
       " 'LTP235': (2.4661462239589254, 2.0511145493402729, 0.59477949977281741),\n",
       " 'LTP236': (1.8050247013357092, 1.6727840780610803, 0.70014982589538732),\n",
       " 'LTP237': (1.4587956866312253, 1.566512620802252, 0.87207196015764854),\n",
       " 'LTP238': (4.7605842023732388, 2.2010382561622697, 0.24054909339033362),\n",
       " 'LTP239': (11.698320538798374, 1.2443216116253091, 0.049824156903170387),\n",
       " 'LTP240': (3.0829093212727177, 2.2182167316715873, 0.29126104335735137),\n",
       " 'LTP241': (1.6837711028931783, 1.9548571926495599, 0.73288472153528605),\n",
       " 'LTP242': (2.0699236420377383, 2.1785744705185142, 0.38119630022692397),\n",
       " 'LTP243': (2.6446310913273909, 2.1340150053511038, 0.55926777810827355),\n",
       " 'LTP244': (2.691262790980431, 1.9263413537277199, 0.43921678558362082),\n",
       " 'LTP245': (1.7906139433773682, 1.5945756210794606, 0.58934032362644584),\n",
       " 'LTP246': (2.798851220005846, 2.0547314265458607, 0.35953205760200835),\n",
       " 'LTP247': (1.9877000248305601, 1.9658401952595244, 0.76130954112265226),\n",
       " 'LTP249': (1.6102779292085805, 1.7559238699294784, 0.80404739084699739),\n",
       " 'LTP250': (1.4964212401829904, 1.2049639623989585, 0.76004292101543025),\n",
       " 'LTP251': (1.7204154334371329, 1.3152192594794718, 0.76437185219111237),\n",
       " 'LTP252': (1.7513222415608196, 1.9801762709161383, 0.59288721490634366),\n",
       " 'LTP253': (1.5794719890348872, 1.7316185095681771, 0.72705162581512495),\n",
       " 'LTP254': (2.9387419923747982, 2.3605720024611778, 0.3405642772923354),\n",
       " 'LTP256': (1.850079766128047, 1.8982106938870571, 0.67194000492248407),\n",
       " 'LTP258': (2.1428993547906607, 2.008679052679792, 0.63009662737753069),\n",
       " 'LTP259': (1.9689848946220319, 1.917466165165808, 0.72768539930535736),\n",
       " 'LTP260': (2.6235553606841031, 2.2069994687448844, 0.33730021402761057),\n",
       " 'LTP261': (4.2336735095062057, 2.3450009630833746, 0.30051294958203678),\n",
       " 'LTP263': (1.769472380061095, 1.8285516614989255, 0.88744910902486362),\n",
       " 'LTP264': (1.3731422743042072, 2.0644634782082782, 0.55019965766472367),\n",
       " 'LTP265': (2.4798134820015805, 2.1520418608270258, 0.51492605633603217),\n",
       " 'LTP267': (1.2755713677092393, 0.93592697616553644, 0.7825678308220837),\n",
       " 'LTP268': (2.1791306184020383, 2.287696250599069, 0.56918263079113474),\n",
       " 'LTP269': (1.9731375019476305, 1.8959140043307072, 0.54774917176635296),\n",
       " 'LTP270': (1.4103355862157831, 1.3966019737800304, 0.91049707350068543),\n",
       " 'LTP271': (1.4729055354840208, 1.3333395506089893, 0.9015264279494607),\n",
       " 'LTP272': (1.8505070276584199, 2.5084366238491027, 0.62382406756515618),\n",
       " 'LTP273': (1.4354520986736259, 1.2193185279301884, 0.76569060765563179),\n",
       " 'LTP274': (1.5393166785166452, 1.5549506028506186, 0.80219670165745516),\n",
       " 'LTP275': (2.9580931000753434, 2.3358922453841644, 0.34016263892112142),\n",
       " 'LTP276': (1.6029628664116451, 2.0252018395264253, 0.52237132274885767),\n",
       " 'LTP277': (1.7893023441696236, 1.6374099094820778, 0.76573416934345273),\n",
       " 'LTP278': (1.5142874962092805, 1.4320268896573343, 0.77754612135434498),\n",
       " 'LTP279': (2.1243407058012789, 1.76366774271145, 0.70156234190024613),\n",
       " 'LTP280': (1.8434248682677947, 1.7143544761221587, 0.7689227251956755),\n",
       " 'LTP281': (1.5335366652530347, 1.2796168252578641, 0.79707262396304923),\n",
       " 'LTP282': (1.2629727268695363, 1.9721494055235191, 0.94232010170361569),\n",
       " 'LTP283': (2.2492594087396118, 2.0830635199565339, 0.42642617520120701),\n",
       " 'LTP284': (1.8568989552511543, 1.7284087781368527, 0.72311698401884328),\n",
       " 'LTP285': (1.5295589316619176, 1.8174575882022335, 0.74105405206356545),\n",
       " 'LTP286': (2.2646507888874976, 2.2897789549559593, 0.59558381640065006),\n",
       " 'LTP287': (1.5237115144943572, 1.94613132021566, 0.78026596121209835),\n",
       " 'LTP288': (1.354178983333822, 2.2395811120461468, 0.63227496852173981),\n",
       " 'LTP289': (1.6445742217195272, 1.9490340469608785, 0.7201377406487377),\n",
       " 'LTP290': (2.0209592030740056, 1.7921391810120062, 0.71419108683753063),\n",
       " 'LTP291': (1.5346104057966823, 1.5001624975393111, 0.74056795254006269),\n",
       " 'LTP292': (2.0584097047069618, 1.8720584576128747, 0.67134716089989288),\n",
       " 'LTP293': (1.9421282782861153, 1.8906252396033767, 0.74286068831853047)}"
      ]
     },
     "execution_count": 42,
     "metadata": {},
     "output_type": "execute_result"
    }
   ],
   "source": [
    "participant_regression"
   ]
  },
  {
   "cell_type": "code",
   "execution_count": 46,
   "metadata": {
    "collapsed": false
   },
   "outputs": [
    {
     "data": {
      "text/plain": [
       "(array([  3.,   7.,  19.,  46.,  68.,  28.]),\n",
       " array([-0.18700669, -0.02387512,  0.13925645,  0.30238802,  0.46551959,\n",
       "         0.62865116,  0.79178274]),\n",
       " <a list of 6 Patch objects>)"
      ]
     },
     "execution_count": 46,
     "metadata": {},
     "output_type": "execute_result"
    },
    {
     "data": {
      "image/png": "[encoded data removed]",
      "text/plain": [
       "<matplotlib.figure.Figure at 0x10ce35630>"
      ]
     },
     "metadata": {},
     "output_type": "display_data"
    }
   ],
   "source": [
    "import matplotlib.pyplot as plt\n",
    "%matplotlib inline\n",
    "plt.title('Distribution of 1/σ_s')\n",
    "plt.hist(list(map(lambda a: a[0], participant_regression.values())), 6)"
   ]
  },
  {
   "cell_type": "code",
   "execution_count": 40,
   "metadata": {
    "collapsed": false
   },
   "outputs": [
    {
     "data": {
      "text/plain": [
       "(array([  1.,   8.,  24.,  50.,  61.,  27.]),\n",
       " array([ 0.57715574,  0.90440646,  1.23165719,  1.55890791,  1.88615864,\n",
       "         2.21340936,  2.54066009]),\n",
       " <a list of 6 Patch objects>)"
      ]
     },
     "execution_count": 40,
     "metadata": {},
     "output_type": "execute_result"
    },
    {
     "data": {
      "image/png": "[encoded data removed]",
      "text/plain": [
       "<matplotlib.figure.Figure at 0x10dc8a470>"
      ]
     },
     "metadata": {},
     "output_type": "display_data"
    }
   ],
   "source": [
    "plt.title('Distribution of d\\'')\n",
    "plt.hist(list(map(lambda a: a[1], participant_regression.values())), 6)"
   ]
  }
 ],
 "metadata": {
  "anaconda-cloud": {},
  "kernelspec": {
   "display_name": "Python [default]",
   "language": "python",
   "name": "python3"
  },
  "language_info": {
   "codemirror_mode": {
    "name": "ipython",
    "version": 3
   },
   "file_extension": ".py",
   "mimetype": "text/x-python",
   "name": "python",
   "nbconvert_exporter": "python",
   "pygments_lexer": "ipython3",
   "version": "3.5.2"
  }
 },
 "nbformat": 4,
 "nbformat_minor": 1
}
