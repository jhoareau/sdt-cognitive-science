{
 "cells": [
  {
   "cell_type": "code",
   "execution_count": 1,
   "metadata": {
    "collapsed": true
   },
   "outputs": [],
   "source": [
    "import pandas as pd\n",
    "import numpy as np"
   ]
  },
  {
   "cell_type": "code",
   "execution_count": 2,
   "metadata": {
    "collapsed": false
   },
   "outputs": [
    {
     "name": "stdout",
     "output_type": "stream",
     "text": [
      "3.5.2 |Anaconda 2.4.1 (x86_64)| (default, Jul  2 2016, 17:52:12) \n",
      "[GCC 4.2.1 Compatible Apple LLVM 4.2 (clang-425.0.28)]\n"
     ]
    }
   ],
   "source": [
    "import sys\n",
    "print(sys.version)"
   ]
  },
  {
   "cell_type": "code",
   "execution_count": 3,
   "metadata": {
    "collapsed": false
   },
   "outputs": [
    {
     "data": {
      "text/plain": [
       "'0.21.0'"
      ]
     },
     "execution_count": 3,
     "metadata": {},
     "output_type": "execute_result"
    }
   ],
   "source": [
    "pd.__version__"
   ]
  },
  {
   "cell_type": "code",
   "execution_count": 18,
   "metadata": {
    "collapsed": false
   },
   "outputs": [
    {
     "name": "stdout",
     "output_type": "stream",
     "text": [
      "718240\n"
     ]
    }
   ],
   "source": [
    "data = pd.read_csv('final_recall_data.csv')\n",
    "print(len(data))"
   ]
  },
  {
   "cell_type": "code",
   "execution_count": 5,
   "metadata": {
    "collapsed": false
   },
   "outputs": [
    {
     "data": {
      "text/html": [
       "<div>\n",
       "<style scoped>\n",
       "    .dataframe tbody tr th:only-of-type {\n",
       "        vertical-align: middle;\n",
       "    }\n",
       "\n",
       "    .dataframe tbody tr th {\n",
       "        vertical-align: top;\n",
       "    }\n",
       "\n",
       "    .dataframe thead th {\n",
       "        text-align: right;\n",
       "    }\n",
       "</style>\n",
       "<table border=\"1\" class=\"dataframe\">\n",
       "  <thead>\n",
       "    <tr style=\"text-align: right;\">\n",
       "      <th></th>\n",
       "      <th>participant</th>\n",
       "      <th>ground_truth</th>\n",
       "      <th>recog_resp</th>\n",
       "      <th>recog_conf</th>\n",
       "      <th>recog_rt</th>\n",
       "      <th>participant_session</th>\n",
       "      <th>hmm</th>\n",
       "    </tr>\n",
       "  </thead>\n",
       "  <tbody>\n",
       "    <tr>\n",
       "      <th>0</th>\n",
       "      <td>LTP268</td>\n",
       "      <td>old</td>\n",
       "      <td>old</td>\n",
       "      <td>5</td>\n",
       "      <td>1395.0</td>\n",
       "      <td>LTP2681</td>\n",
       "      <td>tp</td>\n",
       "    </tr>\n",
       "    <tr>\n",
       "      <th>1</th>\n",
       "      <td>LTP268</td>\n",
       "      <td>old</td>\n",
       "      <td>new</td>\n",
       "      <td>2</td>\n",
       "      <td>1788.0</td>\n",
       "      <td>LTP2681</td>\n",
       "      <td>fn</td>\n",
       "    </tr>\n",
       "    <tr>\n",
       "      <th>2</th>\n",
       "      <td>LTP268</td>\n",
       "      <td>old</td>\n",
       "      <td>new</td>\n",
       "      <td>3</td>\n",
       "      <td>2308.0</td>\n",
       "      <td>LTP2681</td>\n",
       "      <td>fn</td>\n",
       "    </tr>\n",
       "    <tr>\n",
       "      <th>3</th>\n",
       "      <td>LTP268</td>\n",
       "      <td>old</td>\n",
       "      <td>old</td>\n",
       "      <td>5</td>\n",
       "      <td>1320.0</td>\n",
       "      <td>LTP2681</td>\n",
       "      <td>tp</td>\n",
       "    </tr>\n",
       "    <tr>\n",
       "      <th>4</th>\n",
       "      <td>LTP268</td>\n",
       "      <td>old</td>\n",
       "      <td>old</td>\n",
       "      <td>5</td>\n",
       "      <td>1025.0</td>\n",
       "      <td>LTP2681</td>\n",
       "      <td>tp</td>\n",
       "    </tr>\n",
       "  </tbody>\n",
       "</table>\n",
       "</div>"
      ],
      "text/plain": [
       "  participant ground_truth recog_resp  recog_conf  recog_rt  \\\n",
       "0      LTP268          old        old           5    1395.0   \n",
       "1      LTP268          old        new           2    1788.0   \n",
       "2      LTP268          old        new           3    2308.0   \n",
       "3      LTP268          old        old           5    1320.0   \n",
       "4      LTP268          old        old           5    1025.0   \n",
       "\n",
       "  participant_session hmm  \n",
       "0             LTP2681  tp  \n",
       "1             LTP2681  fn  \n",
       "2             LTP2681  fn  \n",
       "3             LTP2681  tp  \n",
       "4             LTP2681  tp  "
      ]
     },
     "execution_count": 5,
     "metadata": {},
     "output_type": "execute_result"
    }
   ],
   "source": [
    "data[:5]"
   ]
  },
  {
   "cell_type": "code",
   "execution_count": 6,
   "metadata": {
    "collapsed": false
   },
   "outputs": [],
   "source": [
    "# Defining the bins based on quantiles (~same amount of entities in each bin)\n",
    "response_times = data['recog_rt'].values\n",
    "bins = np.percentile(response_times,[20, 40, 60, 80, 100])"
   ]
  },
  {
   "cell_type": "code",
   "execution_count": 7,
   "metadata": {
    "collapsed": false
   },
   "outputs": [
    {
     "name": "stdout",
     "output_type": "stream",
     "text": [
      "Bins: [  607.   704.   816.  1024.  2999.]\n",
      "Elements in each bin: [144242, 144339, 142558, 143464, 143637]\n",
      "STD on elements in bins: 640.686194638\n",
      "Sum of elements in bins: 718240\n",
      "Size of data: 718240\n"
     ]
    }
   ],
   "source": [
    "# Creating bins\n",
    "conditions = [(data[\"recog_rt\"] <= bins[0]),\n",
    "              (data[\"recog_rt\"] <= bins[1]),\n",
    "              (data[\"recog_rt\"] <= bins[2]),\n",
    "              (data[\"recog_rt\"] <= bins[3])]\n",
    "\n",
    "choices = [1, 2, 3, 4]\n",
    "\n",
    "data['bins'] = np.select(conditions, choices, default=5)\n",
    "\n",
    "print('Bins:',bins)\n",
    "\n",
    "y = data['bins'].values\n",
    "l = [np.count_nonzero(y == x) for x in range(1,6)]\n",
    "print('Elements in each bin:',l)\n",
    "print('STD on elements in bins:',np.std(l))\n",
    "print('Sum of elements in bins:',sum(l))\n",
    "print('Size of data:',len(data))"
   ]
  },
  {
   "cell_type": "code",
   "execution_count": 8,
   "metadata": {
    "collapsed": false
   },
   "outputs": [
    {
     "data": {
      "text/html": [
       "<div>\n",
       "<style scoped>\n",
       "    .dataframe tbody tr th:only-of-type {\n",
       "        vertical-align: middle;\n",
       "    }\n",
       "\n",
       "    .dataframe tbody tr th {\n",
       "        vertical-align: top;\n",
       "    }\n",
       "\n",
       "    .dataframe thead th {\n",
       "        text-align: right;\n",
       "    }\n",
       "</style>\n",
       "<table border=\"1\" class=\"dataframe\">\n",
       "  <thead>\n",
       "    <tr style=\"text-align: right;\">\n",
       "      <th></th>\n",
       "      <th>participant</th>\n",
       "      <th>ground_truth</th>\n",
       "      <th>recog_resp</th>\n",
       "      <th>recog_conf</th>\n",
       "      <th>recog_rt</th>\n",
       "      <th>participant_session</th>\n",
       "      <th>hmm</th>\n",
       "      <th>bins</th>\n",
       "    </tr>\n",
       "  </thead>\n",
       "  <tbody>\n",
       "    <tr>\n",
       "      <th>8</th>\n",
       "      <td>LTP268</td>\n",
       "      <td>old</td>\n",
       "      <td>new</td>\n",
       "      <td>3</td>\n",
       "      <td>1635.0</td>\n",
       "      <td>LTP2681</td>\n",
       "      <td>fn</td>\n",
       "      <td>5</td>\n",
       "    </tr>\n",
       "    <tr>\n",
       "      <th>9</th>\n",
       "      <td>LTP268</td>\n",
       "      <td>old</td>\n",
       "      <td>new</td>\n",
       "      <td>2</td>\n",
       "      <td>2430.0</td>\n",
       "      <td>LTP2681</td>\n",
       "      <td>fn</td>\n",
       "      <td>5</td>\n",
       "    </tr>\n",
       "    <tr>\n",
       "      <th>10</th>\n",
       "      <td>LTP268</td>\n",
       "      <td>old</td>\n",
       "      <td>new</td>\n",
       "      <td>1</td>\n",
       "      <td>2536.0</td>\n",
       "      <td>LTP2681</td>\n",
       "      <td>fn</td>\n",
       "      <td>5</td>\n",
       "    </tr>\n",
       "    <tr>\n",
       "      <th>11</th>\n",
       "      <td>LTP268</td>\n",
       "      <td>new</td>\n",
       "      <td>old</td>\n",
       "      <td>2</td>\n",
       "      <td>2040.0</td>\n",
       "      <td>LTP2681</td>\n",
       "      <td>fp</td>\n",
       "      <td>5</td>\n",
       "    </tr>\n",
       "    <tr>\n",
       "      <th>12</th>\n",
       "      <td>LTP268</td>\n",
       "      <td>new</td>\n",
       "      <td>new</td>\n",
       "      <td>2</td>\n",
       "      <td>2655.0</td>\n",
       "      <td>LTP2681</td>\n",
       "      <td>tn</td>\n",
       "      <td>5</td>\n",
       "    </tr>\n",
       "    <tr>\n",
       "      <th>13</th>\n",
       "      <td>LTP268</td>\n",
       "      <td>old</td>\n",
       "      <td>old</td>\n",
       "      <td>5</td>\n",
       "      <td>1205.0</td>\n",
       "      <td>LTP2681</td>\n",
       "      <td>tp</td>\n",
       "      <td>5</td>\n",
       "    </tr>\n",
       "    <tr>\n",
       "      <th>14</th>\n",
       "      <td>LTP268</td>\n",
       "      <td>old</td>\n",
       "      <td>old</td>\n",
       "      <td>5</td>\n",
       "      <td>989.0</td>\n",
       "      <td>LTP2681</td>\n",
       "      <td>tp</td>\n",
       "      <td>4</td>\n",
       "    </tr>\n",
       "    <tr>\n",
       "      <th>15</th>\n",
       "      <td>LTP268</td>\n",
       "      <td>old</td>\n",
       "      <td>old</td>\n",
       "      <td>5</td>\n",
       "      <td>806.0</td>\n",
       "      <td>LTP2681</td>\n",
       "      <td>tp</td>\n",
       "      <td>3</td>\n",
       "    </tr>\n",
       "  </tbody>\n",
       "</table>\n",
       "</div>"
      ],
      "text/plain": [
       "   participant ground_truth recog_resp  recog_conf  recog_rt  \\\n",
       "8       LTP268          old        new           3    1635.0   \n",
       "9       LTP268          old        new           2    2430.0   \n",
       "10      LTP268          old        new           1    2536.0   \n",
       "11      LTP268          new        old           2    2040.0   \n",
       "12      LTP268          new        new           2    2655.0   \n",
       "13      LTP268          old        old           5    1205.0   \n",
       "14      LTP268          old        old           5     989.0   \n",
       "15      LTP268          old        old           5     806.0   \n",
       "\n",
       "   participant_session hmm  bins  \n",
       "8              LTP2681  fn     5  \n",
       "9              LTP2681  fn     5  \n",
       "10             LTP2681  fn     5  \n",
       "11             LTP2681  fp     5  \n",
       "12             LTP2681  tn     5  \n",
       "13             LTP2681  tp     5  \n",
       "14             LTP2681  tp     4  \n",
       "15             LTP2681  tp     3  "
      ]
     },
     "execution_count": 8,
     "metadata": {},
     "output_type": "execute_result"
    }
   ],
   "source": [
    "data[8:16]"
   ]
  },
  {
   "cell_type": "code",
   "execution_count": 9,
   "metadata": {
    "collapsed": false
   },
   "outputs": [
    {
     "data": {
      "text/html": [
       "<div>\n",
       "<style scoped>\n",
       "    .dataframe tbody tr th:only-of-type {\n",
       "        vertical-align: middle;\n",
       "    }\n",
       "\n",
       "    .dataframe tbody tr th {\n",
       "        vertical-align: top;\n",
       "    }\n",
       "\n",
       "    .dataframe thead th {\n",
       "        text-align: right;\n",
       "    }\n",
       "</style>\n",
       "<table border=\"1\" class=\"dataframe\">\n",
       "  <thead>\n",
       "    <tr style=\"text-align: right;\">\n",
       "      <th></th>\n",
       "      <th></th>\n",
       "      <th>participant_session</th>\n",
       "    </tr>\n",
       "    <tr>\n",
       "      <th>hmm</th>\n",
       "      <th>bins</th>\n",
       "      <th></th>\n",
       "    </tr>\n",
       "  </thead>\n",
       "  <tbody>\n",
       "    <tr>\n",
       "      <th rowspan=\"5\" valign=\"top\">fn</th>\n",
       "      <th>1</th>\n",
       "      <td>3000</td>\n",
       "    </tr>\n",
       "    <tr>\n",
       "      <th>2</th>\n",
       "      <td>4328</td>\n",
       "    </tr>\n",
       "    <tr>\n",
       "      <th>3</th>\n",
       "      <td>7773</td>\n",
       "    </tr>\n",
       "    <tr>\n",
       "      <th>4</th>\n",
       "      <td>12603</td>\n",
       "    </tr>\n",
       "    <tr>\n",
       "      <th>5</th>\n",
       "      <td>18090</td>\n",
       "    </tr>\n",
       "    <tr>\n",
       "      <th rowspan=\"5\" valign=\"top\">fp</th>\n",
       "      <th>1</th>\n",
       "      <td>10355</td>\n",
       "    </tr>\n",
       "    <tr>\n",
       "      <th>2</th>\n",
       "      <td>5021</td>\n",
       "    </tr>\n",
       "    <tr>\n",
       "      <th>3</th>\n",
       "      <td>4997</td>\n",
       "    </tr>\n",
       "    <tr>\n",
       "      <th>4</th>\n",
       "      <td>6621</td>\n",
       "    </tr>\n",
       "    <tr>\n",
       "      <th>5</th>\n",
       "      <td>12324</td>\n",
       "    </tr>\n",
       "    <tr>\n",
       "      <th rowspan=\"5\" valign=\"top\">tn</th>\n",
       "      <th>1</th>\n",
       "      <td>11718</td>\n",
       "    </tr>\n",
       "    <tr>\n",
       "      <th>2</th>\n",
       "      <td>27161</td>\n",
       "    </tr>\n",
       "    <tr>\n",
       "      <th>3</th>\n",
       "      <td>44044</td>\n",
       "    </tr>\n",
       "    <tr>\n",
       "      <th>4</th>\n",
       "      <td>55557</td>\n",
       "    </tr>\n",
       "    <tr>\n",
       "      <th>5</th>\n",
       "      <td>55545</td>\n",
       "    </tr>\n",
       "    <tr>\n",
       "      <th rowspan=\"5\" valign=\"top\">tp</th>\n",
       "      <th>1</th>\n",
       "      <td>119169</td>\n",
       "    </tr>\n",
       "    <tr>\n",
       "      <th>2</th>\n",
       "      <td>107829</td>\n",
       "    </tr>\n",
       "    <tr>\n",
       "      <th>3</th>\n",
       "      <td>85744</td>\n",
       "    </tr>\n",
       "    <tr>\n",
       "      <th>4</th>\n",
       "      <td>68683</td>\n",
       "    </tr>\n",
       "    <tr>\n",
       "      <th>5</th>\n",
       "      <td>57678</td>\n",
       "    </tr>\n",
       "  </tbody>\n",
       "</table>\n",
       "</div>"
      ],
      "text/plain": [
       "          participant_session\n",
       "hmm bins                     \n",
       "fn  1                    3000\n",
       "    2                    4328\n",
       "    3                    7773\n",
       "    4                   12603\n",
       "    5                   18090\n",
       "fp  1                   10355\n",
       "    2                    5021\n",
       "    3                    4997\n",
       "    4                    6621\n",
       "    5                   12324\n",
       "tn  1                   11718\n",
       "    2                   27161\n",
       "    3                   44044\n",
       "    4                   55557\n",
       "    5                   55545\n",
       "tp  1                  119169\n",
       "    2                  107829\n",
       "    3                   85744\n",
       "    4                   68683\n",
       "    5                   57678"
      ]
     },
     "execution_count": 9,
     "metadata": {},
     "output_type": "execute_result"
    }
   ],
   "source": [
    "distribution = data.loc[:, ['bins', 'hmm', 'participant_session']].groupby(['hmm', 'bins']).count()\n",
    "distribution"
   ]
  },
  {
   "cell_type": "code",
   "execution_count": 10,
   "metadata": {
    "collapsed": false
   },
   "outputs": [
    {
     "name": "stdout",
     "output_type": "stream",
     "text": [
      "Sum of lures (new): 233343\n",
      "Sum of targets (old): 484897\n"
     ]
    }
   ],
   "source": [
    "# Creating the \"RAW\" section of \"Table 1\"\n",
    "raw_new_lure = distribution.loc['tn']\n",
    "raw_old_lure = distribution.loc['fp']\n",
    "sum_raw_new_lure = sum(raw_new_lure.values)[0]\n",
    "sum_raw_old_lure = sum(raw_old_lure.values)[0]\n",
    "sum_raw_lure = sum_raw_new_lure + sum_raw_old_lure\n",
    "\n",
    "raw_new_target = distribution.loc['fn']\n",
    "raw_old_target = distribution.loc['tp']\n",
    "sum_raw_new_target = sum(raw_new_target.values)[0]\n",
    "sum_raw_old_target = sum(raw_old_target.values)[0]\n",
    "sum_raw_target = sum_raw_new_target + sum_raw_old_target\n",
    "\n",
    "print(\"Sum of lures (new):\",sum_raw_lure)\n",
    "print(\"Sum of targets (old):\",sum_raw_target)"
   ]
  },
  {
   "cell_type": "code",
   "execution_count": 11,
   "metadata": {
    "collapsed": false
   },
   "outputs": [
    {
     "name": "stdout",
     "output_type": "stream",
     "text": [
      "Sum of lures (new): 1.0\n",
      "Sum of targets (old): 1.0\n"
     ]
    }
   ],
   "source": [
    "# Creaating the \"ALL\" section of \"Table 1\"\n",
    "all_new_lure = raw_new_lure/sum_raw_lure\n",
    "all_old_lure = raw_old_lure/sum_raw_lure\n",
    "sum_all_new_lure = sum(all_new_lure.values)[0]\n",
    "sum_all_old_lure = sum(all_old_lure.values)[0]\n",
    "sum_all_lure = sum_all_new_lure + sum_all_old_lure\n",
    "\n",
    "all_new_target = raw_new_target/sum_raw_target\n",
    "all_old_target = raw_old_target/sum_raw_target\n",
    "sum_all_new_target = sum(all_new_target.values)[0]\n",
    "sum_all_old_target = sum(all_old_target.values)[0]\n",
    "sum_all_target = sum_all_new_target + sum_all_old_target\n",
    "\n",
    "print(\"Sum of lures (new):\",sum_all_lure)\n",
    "print(\"Sum of targets (old):\",sum_all_target)"
   ]
  },
  {
   "cell_type": "code",
   "execution_count": 12,
   "metadata": {
    "collapsed": false
   },
   "outputs": [
    {
     "name": "stdout",
     "output_type": "stream",
     "text": [
      "Sum of lures (new): 2.0\n",
      "Sum of targets (old): 2.0\n"
     ]
    }
   ],
   "source": [
    "# Creaating the \"REC\" section of \"Table 1\"\n",
    "rec_new_lure = raw_new_lure/sum_raw_new_lure\n",
    "rec_old_lure = raw_old_lure/sum_raw_old_lure\n",
    "sum_rec_new_lure = sum(rec_new_lure.values)[0]\n",
    "sum_rec_old_lure = sum(rec_old_lure.values)[0]\n",
    "sum_rec_lure = sum_rec_new_lure + sum_rec_old_lure\n",
    "\n",
    "rec_new_target = raw_new_target/sum_raw_new_target\n",
    "rec_old_target = raw_old_target/sum_raw_old_target\n",
    "sum_rec_new_target = sum(rec_new_target.values)[0]\n",
    "sum_rec_old_target = sum(rec_old_target.values)[0]\n",
    "sum_rec_target = sum_rec_new_target + sum_rec_old_target\n",
    "\n",
    "print(\"Sum of lures (new):\",sum_rec_lure)\n",
    "print(\"Sum of targets (old):\",sum_rec_target)"
   ]
  },
  {
   "cell_type": "code",
   "execution_count": 13,
   "metadata": {
    "collapsed": false
   },
   "outputs": [],
   "source": [
    "# Creating \"Table 2\"\n",
    "raw_fa = pd.concat([raw_old_lure.iloc[::-1], raw_new_lure ]).cumsum()\n",
    "raw_hit = pd.concat([raw_old_target.iloc[::-1], raw_new_target ]).cumsum()\n",
    "all_fa = [0] + list(np.transpose(raw_fa/sum_raw_lure).values[0])\n",
    "all_hit = [0] + list(np.transpose(raw_hit/sum_raw_target).values[0])"
   ]
  },
  {
   "cell_type": "code",
   "execution_count": 14,
   "metadata": {
    "collapsed": false
   },
   "outputs": [
    {
     "data": {
      "text/plain": [
       "<matplotlib.collections.PathCollection at 0x10c9e68d0>"
      ]
     },
     "execution_count": 14,
     "metadata": {},
     "output_type": "execute_result"
    },
    {
     "data": {
      "image/png": "[encoded data removed]",
      "text/plain": [
       "<matplotlib.figure.Figure at 0x10c8afc88>"
      ]
     },
     "metadata": {},
     "output_type": "display_data"
    }
   ],
   "source": [
    "import matplotlib.pyplot as plt\n",
    "%matplotlib inline\n",
    "\n",
    "plt.figure(figsize=(5,5))\n",
    "plt.title('ROC Curve')\n",
    "plt.xlabel('p(FA)')\n",
    "plt.ylabel('p(Hit)')\n",
    "plt.axis(xmin=0, xmax=1, ymin=0, ymax=1)\n",
    "plt.scatter(all_fa[:5], all_hit[:5], 20, c='r', marker='^')\n",
    "plt.scatter(all_fa[5:], all_hit[5:], 20, c='g', marker='v')\n",
    "plt.plot(all_fa[:6], all_hit[:6], c='r')\n",
    "plt.plot(all_fa[5:], all_hit[5:], c='g', linestyle='--')\n",
    "plt.plot([0, 1], [0, 1], c='gray', linestyle=':')\n",
    "plt.plot([0, all_fa[5]], [0, all_hit[5]], c='gray', linestyle=':')\n",
    "plt.plot([all_fa[5], 1], [all_hit[5], 1], c='gray', linestyle=':')\n",
    "plt.scatter(all_fa[5], all_hit[5], 25, c='b', marker='D')"
   ]
  },
  {
   "cell_type": "code",
   "execution_count": 15,
   "metadata": {
    "collapsed": false
   },
   "outputs": [],
   "source": [
    "# Calculating ROC per participant in order to get d' per participant\n",
    "from scipy.stats import norm\n",
    "from scipy.integrate import trapz\n",
    "from math import sqrt\n",
    "\n",
    "distribution_grouped = data.loc[:, ['participant', 'bins', 'hmm', 'participant_session']].groupby(['participant', 'hmm', 'bins']).count()\n",
    "participant_list = list(distribution_grouped.index.levels[0])\n",
    "participant_criterion = dict()\n",
    "participant_auc = dict()\n",
    "for participant in participant_list:\n",
    "    raw_new_lure = distribution_grouped.loc[participant, 'tn'].reindex([1, 2, 3, 4, 5], fill_value=0, copy=False)\n",
    "    raw_old_lure = distribution_grouped.loc[participant, 'fp'].reindex([1, 2, 3, 4, 5], fill_value=0, copy=False)\n",
    "    sum_raw_new_lure = sum(raw_new_lure.values)[0]\n",
    "    sum_raw_old_lure = sum(raw_old_lure.values)[0]\n",
    "    sum_raw_lure = sum_raw_new_lure + sum_raw_old_lure\n",
    "\n",
    "    raw_new_target = distribution_grouped.loc[participant, 'fn'].reindex([1, 2, 3, 4, 5], fill_value=0, copy=False)\n",
    "    raw_old_target = distribution_grouped.loc[participant, 'tp'].reindex([1, 2, 3, 4, 5], fill_value=0, copy=False)\n",
    "    sum_raw_new_target = sum(raw_new_target.values)[0]\n",
    "    sum_raw_old_target = sum(raw_old_target.values)[0]\n",
    "    sum_raw_target = sum_raw_new_target + sum_raw_old_target\n",
    "    \n",
    "    raw_fa = pd.concat([raw_old_lure.iloc[::-1], raw_new_lure ]).cumsum()\n",
    "    raw_hit = pd.concat([raw_old_target.iloc[::-1], raw_new_target ]).cumsum()\n",
    "    all_fa = [0] + list(np.transpose(raw_fa/sum_raw_lure).values[0])\n",
    "    all_hit = [0] + list(np.transpose(raw_hit/sum_raw_target).values[0])\n",
    "    \n",
    "    auc = trapz(all_hit, all_fa)\n",
    "    participant_auc[participant] = auc\n",
    "    participant_criterion[participant] = sqrt(2) * norm.ppf(auc)"
   ]
  },
  {
   "cell_type": "code",
   "execution_count": 16,
   "metadata": {
    "collapsed": true
   },
   "outputs": [],
   "source": [
    "import pickle\n",
    "pickle.dump(participant_auc, open( \"recalled_auc_response_time.bin\", \"wb\" ))"
   ]
  },
  {
   "cell_type": "code",
   "execution_count": 17,
   "metadata": {
    "collapsed": false
   },
   "outputs": [
    {
     "data": {
      "text/plain": [
       "{'LTP063': 0.91897430163952032,\n",
       " 'LTP064': 0.8679805364733022,\n",
       " 'LTP065': 0.87214551310027633,\n",
       " 'LTP066': 0.8395426022853042,\n",
       " 'LTP067': 0.85601957028029096,\n",
       " 'LTP069': 0.91914221503150428,\n",
       " 'LTP070': 0.8349119310956119,\n",
       " 'LTP073': 0.89661394245363457,\n",
       " 'LTP074': 0.86924255388940574,\n",
       " 'LTP075': 0.7648306441285696,\n",
       " 'LTP076': 0.92746781298004699,\n",
       " 'LTP077': 0.78730787868079155,\n",
       " 'LTP079': 0.93087918628875543,\n",
       " 'LTP081': 0.87964710043628047,\n",
       " 'LTP082': 0.95988749570594289,\n",
       " 'LTP084': 0.75204495830624063,\n",
       " 'LTP085': 0.83164262734171757,\n",
       " 'LTP086': 0.78329127450185321,\n",
       " 'LTP087': 0.77845577421726841,\n",
       " 'LTP088': 0.74517047348807575,\n",
       " 'LTP089': 0.79914033818198027,\n",
       " 'LTP090': 0.93525316608423437,\n",
       " 'LTP091': 0.69861623990259125,\n",
       " 'LTP092': 0.92042753629541085,\n",
       " 'LTP093': 0.92540475690591162,\n",
       " 'LTP094': 0.83063199838249802,\n",
       " 'LTP095': 0.75865476414586919,\n",
       " 'LTP096': 0.74193268232141563,\n",
       " 'LTP098': 0.81863045735803031,\n",
       " 'LTP099': 0.78697189887875185,\n",
       " 'LTP100': 0.8165057082526842,\n",
       " 'LTP101': 0.86379014438120516,\n",
       " 'LTP102': 0.89027539913334341,\n",
       " 'LTP103': 0.71129852511167668,\n",
       " 'LTP104': 0.93650101059761826,\n",
       " 'LTP105': 0.86924795363211804,\n",
       " 'LTP106': 0.94735878294579789,\n",
       " 'LTP107': 0.90993003102576608,\n",
       " 'LTP108': 0.80302443083052877,\n",
       " 'LTP110': 0.94213762921602651,\n",
       " 'LTP111': 0.76908284129394011,\n",
       " 'LTP112': 0.86316328217548643,\n",
       " 'LTP113': 0.83107664599145981,\n",
       " 'LTP114': 0.81039302041918448,\n",
       " 'LTP115': 0.90831021348631624,\n",
       " 'LTP117': 0.78589560195937669,\n",
       " 'LTP118': 0.78436423377986908,\n",
       " 'LTP119': 0.83272157706546857,\n",
       " 'LTP120': 0.89410965719055957,\n",
       " 'LTP122': 0.90521966396037734,\n",
       " 'LTP123': 0.80248332035513725,\n",
       " 'LTP124': 0.91117366675450029,\n",
       " 'LTP125': 0.90312766518741239,\n",
       " 'LTP127': 0.86945815900238232,\n",
       " 'LTP128': 0.88993949252085636,\n",
       " 'LTP130': 0.92916738733183424,\n",
       " 'LTP131': 0.87910959265868982,\n",
       " 'LTP132': 0.83484551701561527,\n",
       " 'LTP133': 0.95917377843826968,\n",
       " 'LTP134': 0.87233537358939373,\n",
       " 'LTP135': 0.85889280145976743,\n",
       " 'LTP136': 0.808569346450694,\n",
       " 'LTP137': 0.87355423275439847,\n",
       " 'LTP138': 0.8472738553928878,\n",
       " 'LTP139': 0.86234392368814705,\n",
       " 'LTP140': 0.88307021298598742,\n",
       " 'LTP141': 0.86138187823223833,\n",
       " 'LTP142': 0.82171627691661775,\n",
       " 'LTP143': 0.78358523336937869,\n",
       " 'LTP144': 0.94589859781613139,\n",
       " 'LTP145': 0.89959356387927814,\n",
       " 'LTP146': 0.85404472714422741,\n",
       " 'LTP147': 0.82079655018587361,\n",
       " 'LTP148': 0.94019558699049055,\n",
       " 'LTP149': 0.87557745301491974,\n",
       " 'LTP150': 0.92446815955931316,\n",
       " 'LTP151': 0.93727833281126061,\n",
       " 'LTP153': 0.81666120685771593,\n",
       " 'LTP155': 0.87180471662438397,\n",
       " 'LTP159': 0.90809802688537389,\n",
       " 'LTP166': 0.89815445962808405,\n",
       " 'LTP168': 0.73935578101826838,\n",
       " 'LTP174': 0.93598885819584932,\n",
       " 'LTP184': 0.7710350026732713,\n",
       " 'LTP185': 0.90155616511076508,\n",
       " 'LTP186': 0.83750909772117776,\n",
       " 'LTP187': 0.76765135809210172,\n",
       " 'LTP188': 0.73389101307497584,\n",
       " 'LTP189': 0.78469857699941548,\n",
       " 'LTP190': 0.87369415294709074,\n",
       " 'LTP191': 0.93541477482931423,\n",
       " 'LTP192': 0.94355218457173429,\n",
       " 'LTP193': 0.92829633247380561,\n",
       " 'LTP194': 0.71144745953688338,\n",
       " 'LTP195': 0.9343582225043997,\n",
       " 'LTP196': 0.83736626823895777,\n",
       " 'LTP197': 0.90192841765115817,\n",
       " 'LTP198': 0.91474792270505501,\n",
       " 'LTP199': 0.9417802972269036,\n",
       " 'LTP200': 0.85826595297262265,\n",
       " 'LTP201': 0.7888211975490067,\n",
       " 'LTP202': 0.84543041700634125,\n",
       " 'LTP207': 0.83898608898757865,\n",
       " 'LTP209': 0.88517810090715199,\n",
       " 'LTP210': 0.92087706887101173,\n",
       " 'LTP211': 0.96661536356795963,\n",
       " 'LTP212': 0.85307307851399394,\n",
       " 'LTP214': 0.87028384329761832,\n",
       " 'LTP215': 0.74800425227978673,\n",
       " 'LTP227': 0.86134510852768764,\n",
       " 'LTP228': 0.92469144710619999,\n",
       " 'LTP229': 0.91960845607277186,\n",
       " 'LTP230': 0.86690357175526289,\n",
       " 'LTP231': 0.87817307120701893,\n",
       " 'LTP232': 0.82884569703795108,\n",
       " 'LTP233': 0.81581653596465853,\n",
       " 'LTP234': 0.89983931083747648,\n",
       " 'LTP235': 0.90874736765666975,\n",
       " 'LTP236': 0.78455395596074484,\n",
       " 'LTP237': 0.70411177577631412,\n",
       " 'LTP238': 0.92227045859647183,\n",
       " 'LTP239': 0.82747193178492573,\n",
       " 'LTP240': 0.93744294595967781,\n",
       " 'LTP241': 0.87085474756174253,\n",
       " 'LTP242': 0.90480099502487565,\n",
       " 'LTP243': 0.88566631604963819,\n",
       " 'LTP244': 0.89558439000624546,\n",
       " 'LTP245': 0.82074597061760091,\n",
       " 'LTP246': 0.91855048635314074,\n",
       " 'LTP247': 0.87755538652716303,\n",
       " 'LTP249': 0.79402565769194688,\n",
       " 'LTP250': 0.74177024625223476,\n",
       " 'LTP251': 0.69416522241478917,\n",
       " 'LTP252': 0.85051273278952766,\n",
       " 'LTP253': 0.77363339940516129,\n",
       " 'LTP254': 0.95374363379031146,\n",
       " 'LTP256': 0.85864465993211725,\n",
       " 'LTP258': 0.86341225920415043,\n",
       " 'LTP259': 0.87202046969857816,\n",
       " 'LTP260': 0.90748811210603486,\n",
       " 'LTP261': 0.95695167625833566,\n",
       " 'LTP263': 0.85353323907456857,\n",
       " 'LTP264': 0.87817853197162077,\n",
       " 'LTP265': 0.88628828303693619,\n",
       " 'LTP267': 0.69974433739012842,\n",
       " 'LTP268': 0.916778252301648,\n",
       " 'LTP269': 0.85924979401779233,\n",
       " 'LTP270': 0.67437475690011661,\n",
       " 'LTP271': 0.74577611258702159,\n",
       " 'LTP272': 0.92235577929097501,\n",
       " 'LTP273': 0.71502724427628617,\n",
       " 'LTP274': 0.79497331902659418,\n",
       " 'LTP275': 0.92927551430254762,\n",
       " 'LTP276': 0.90393697479670465,\n",
       " 'LTP277': 0.82164130160804438,\n",
       " 'LTP278': 0.79173933523977302,\n",
       " 'LTP279': 0.84511289516207666,\n",
       " 'LTP280': 0.80225941373338117,\n",
       " 'LTP281': 0.74952683776213191,\n",
       " 'LTP282': 0.82427600906104315,\n",
       " 'LTP283': 0.87476194669332519,\n",
       " 'LTP284': 0.84524671416168751,\n",
       " 'LTP285': 0.80349549752145477,\n",
       " 'LTP286': 0.92246267397477077,\n",
       " 'LTP287': 0.85758126918709787,\n",
       " 'LTP288': 0.8507526888594803,\n",
       " 'LTP289': 0.85910821051542563,\n",
       " 'LTP290': 0.84774622904517039,\n",
       " 'LTP291': 0.77303714913703014,\n",
       " 'LTP292': 0.86885826891937312,\n",
       " 'LTP293': 0.8905780492132972}"
      ]
     },
     "execution_count": 17,
     "metadata": {},
     "output_type": "execute_result"
    }
   ],
   "source": [
    "participant_auc"
   ]
  },
  {
   "cell_type": "code",
   "execution_count": null,
   "metadata": {
    "collapsed": true
   },
   "outputs": [],
   "source": []
  }
 ],
 "metadata": {
  "anaconda-cloud": {},
  "kernelspec": {
   "display_name": "Python [default]",
   "language": "python",
   "name": "python3"
  },
  "language_info": {
   "codemirror_mode": {
    "name": "ipython",
    "version": 3
   },
   "file_extension": ".py",
   "mimetype": "text/x-python",
   "name": "python",
   "nbconvert_exporter": "python",
   "pygments_lexer": "ipython3",
   "version": "3.5.2"
  }
 },
 "nbformat": 4,
 "nbformat_minor": 1
}
