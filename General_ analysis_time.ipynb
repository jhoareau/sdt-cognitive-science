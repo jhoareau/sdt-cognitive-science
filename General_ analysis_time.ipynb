{
 "cells": [
  {
   "cell_type": "code",
   "execution_count": 1,
   "metadata": {
    "collapsed": true
   },
   "outputs": [],
   "source": [
    "import pandas as pd\n",
    "import numpy as np"
   ]
  },
  {
   "cell_type": "code",
   "execution_count": 2,
   "metadata": {
    "collapsed": false
   },
   "outputs": [
    {
     "name": "stdout",
     "output_type": "stream",
     "text": [
      "3.5.2 |Anaconda 2.4.1 (x86_64)| (default, Jul  2 2016, 17:52:12) \n",
      "[GCC 4.2.1 Compatible Apple LLVM 4.2 (clang-425.0.28)]\n"
     ]
    }
   ],
   "source": [
    "import sys\n",
    "print(sys.version)"
   ]
  },
  {
   "cell_type": "code",
   "execution_count": 3,
   "metadata": {
    "collapsed": false
   },
   "outputs": [
    {
     "data": {
      "text/plain": [
       "'0.21.0'"
      ]
     },
     "execution_count": 3,
     "metadata": {},
     "output_type": "execute_result"
    }
   ],
   "source": [
    "pd.__version__"
   ]
  },
  {
   "cell_type": "code",
   "execution_count": 4,
   "metadata": {
    "collapsed": false
   },
   "outputs": [
    {
     "name": "stdout",
     "output_type": "stream",
     "text": [
      "853624\n"
     ]
    }
   ],
   "source": [
    "data = pd.read_csv('final_general_data.csv')\n",
    "print(len(data))"
   ]
  },
  {
   "cell_type": "code",
   "execution_count": 5,
   "metadata": {
    "collapsed": false
   },
   "outputs": [
    {
     "data": {
      "text/html": [
       "<div>\n",
       "<style scoped>\n",
       "    .dataframe tbody tr th:only-of-type {\n",
       "        vertical-align: middle;\n",
       "    }\n",
       "\n",
       "    .dataframe tbody tr th {\n",
       "        vertical-align: top;\n",
       "    }\n",
       "\n",
       "    .dataframe thead th {\n",
       "        text-align: right;\n",
       "    }\n",
       "</style>\n",
       "<table border=\"1\" class=\"dataframe\">\n",
       "  <thead>\n",
       "    <tr style=\"text-align: right;\">\n",
       "      <th></th>\n",
       "      <th>participant</th>\n",
       "      <th>ground_truth</th>\n",
       "      <th>recog_resp</th>\n",
       "      <th>recog_conf</th>\n",
       "      <th>recog_rt</th>\n",
       "      <th>participant_session</th>\n",
       "      <th>hmm</th>\n",
       "    </tr>\n",
       "  </thead>\n",
       "  <tbody>\n",
       "    <tr>\n",
       "      <th>0</th>\n",
       "      <td>LTP268</td>\n",
       "      <td>old</td>\n",
       "      <td>old</td>\n",
       "      <td>5</td>\n",
       "      <td>1395.0</td>\n",
       "      <td>LTP2681</td>\n",
       "      <td>tp</td>\n",
       "    </tr>\n",
       "    <tr>\n",
       "      <th>1</th>\n",
       "      <td>LTP268</td>\n",
       "      <td>old</td>\n",
       "      <td>new</td>\n",
       "      <td>2</td>\n",
       "      <td>1788.0</td>\n",
       "      <td>LTP2681</td>\n",
       "      <td>fn</td>\n",
       "    </tr>\n",
       "    <tr>\n",
       "      <th>2</th>\n",
       "      <td>LTP268</td>\n",
       "      <td>old</td>\n",
       "      <td>new</td>\n",
       "      <td>3</td>\n",
       "      <td>2308.0</td>\n",
       "      <td>LTP2681</td>\n",
       "      <td>fn</td>\n",
       "    </tr>\n",
       "    <tr>\n",
       "      <th>3</th>\n",
       "      <td>LTP268</td>\n",
       "      <td>old</td>\n",
       "      <td>old</td>\n",
       "      <td>5</td>\n",
       "      <td>1320.0</td>\n",
       "      <td>LTP2681</td>\n",
       "      <td>tp</td>\n",
       "    </tr>\n",
       "    <tr>\n",
       "      <th>4</th>\n",
       "      <td>LTP268</td>\n",
       "      <td>old</td>\n",
       "      <td>old</td>\n",
       "      <td>5</td>\n",
       "      <td>1025.0</td>\n",
       "      <td>LTP2681</td>\n",
       "      <td>tp</td>\n",
       "    </tr>\n",
       "  </tbody>\n",
       "</table>\n",
       "</div>"
      ],
      "text/plain": [
       "  participant ground_truth recog_resp  recog_conf  recog_rt  \\\n",
       "0      LTP268          old        old           5    1395.0   \n",
       "1      LTP268          old        new           2    1788.0   \n",
       "2      LTP268          old        new           3    2308.0   \n",
       "3      LTP268          old        old           5    1320.0   \n",
       "4      LTP268          old        old           5    1025.0   \n",
       "\n",
       "  participant_session hmm  \n",
       "0             LTP2681  tp  \n",
       "1             LTP2681  fn  \n",
       "2             LTP2681  fn  \n",
       "3             LTP2681  tp  \n",
       "4             LTP2681  tp  "
      ]
     },
     "execution_count": 5,
     "metadata": {},
     "output_type": "execute_result"
    }
   ],
   "source": [
    "data[:5]"
   ]
  },
  {
   "cell_type": "code",
   "execution_count": 6,
   "metadata": {
    "collapsed": false
   },
   "outputs": [
    {
     "name": "stdout",
     "output_type": "stream",
     "text": [
      "[  706.   809.   935.  1178.  3000.]\n",
      "[  573.   654.   745.   917.  3000.]\n"
     ]
    }
   ],
   "source": [
    "# Defining the bins based on quantiles (~same amount of entities in each bin)\n",
    "new_response_times = data.loc[data['recog_resp'] == 'new']['recog_rt'].values\n",
    "old_response_times = data.loc[data['recog_resp'] == 'old']['recog_rt'].values\n",
    "new_bins = np.percentile(new_response_times,[20, 40, 60, 80, 100])\n",
    "old_bins = np.percentile(old_response_times,[20, 40, 60, 80, 100])\n",
    "print(new_bins)\n",
    "print(old_bins)"
   ]
  },
  {
   "cell_type": "code",
   "execution_count": 7,
   "metadata": {
    "collapsed": false
   },
   "outputs": [
    {
     "name": "stdout",
     "output_type": "stream",
     "text": [
      "Elements in each bin: [170480, 170490, 169976, 170530, 172148]\n",
      "STD on elements in bins: 740.162792904\n",
      "Sum of elements in bins: 853624\n",
      "Size of data: 853624\n"
     ]
    }
   ],
   "source": [
    "# Creating bins\n",
    "conditions = [(((data['recog_resp'] == 'new') & (data[\"recog_rt\"] <= new_bins[0])) | ((data['recog_resp'] == 'old') & (data[\"recog_rt\"] <= old_bins[0]))),\n",
    "              (((data['recog_resp'] == 'new') & (data[\"recog_rt\"] <= new_bins[1])) | ((data['recog_resp'] == 'old') & (data[\"recog_rt\"] <= old_bins[1]))),\n",
    "              (((data['recog_resp'] == 'new') & (data[\"recog_rt\"] <= new_bins[2])) | ((data['recog_resp'] == 'old') & (data[\"recog_rt\"] <= old_bins[2]))),\n",
    "              (((data['recog_resp'] == 'new') & (data[\"recog_rt\"] <= new_bins[3])) | ((data['recog_resp'] == 'old') & (data[\"recog_rt\"] <= old_bins[3])))]\n",
    "\n",
    "choices = [5, 4, 3, 2]\n",
    "\n",
    "data['bins'] = np.select(conditions, choices, default=1)\n",
    "\n",
    "y = data['bins'].values\n",
    "l = [np.count_nonzero(y == x) for x in range(1,6)]\n",
    "print('Elements in each bin:',l)\n",
    "print('STD on elements in bins:',np.std(l))\n",
    "print('Sum of elements in bins:',sum(l))\n",
    "print('Size of data:',len(data))"
   ]
  },
  {
   "cell_type": "code",
   "execution_count": 8,
   "metadata": {
    "collapsed": false
   },
   "outputs": [
    {
     "data": {
      "text/html": [
       "<div>\n",
       "<style scoped>\n",
       "    .dataframe tbody tr th:only-of-type {\n",
       "        vertical-align: middle;\n",
       "    }\n",
       "\n",
       "    .dataframe tbody tr th {\n",
       "        vertical-align: top;\n",
       "    }\n",
       "\n",
       "    .dataframe thead th {\n",
       "        text-align: right;\n",
       "    }\n",
       "</style>\n",
       "<table border=\"1\" class=\"dataframe\">\n",
       "  <thead>\n",
       "    <tr style=\"text-align: right;\">\n",
       "      <th></th>\n",
       "      <th></th>\n",
       "      <th>participant_session</th>\n",
       "    </tr>\n",
       "    <tr>\n",
       "      <th>hmm</th>\n",
       "      <th>bins</th>\n",
       "      <th></th>\n",
       "    </tr>\n",
       "  </thead>\n",
       "  <tbody>\n",
       "    <tr>\n",
       "      <th rowspan=\"5\" valign=\"top\">fn</th>\n",
       "      <th>1</th>\n",
       "      <td>13652</td>\n",
       "    </tr>\n",
       "    <tr>\n",
       "      <th>2</th>\n",
       "      <td>11043</td>\n",
       "    </tr>\n",
       "    <tr>\n",
       "      <th>3</th>\n",
       "      <td>9176</td>\n",
       "    </tr>\n",
       "    <tr>\n",
       "      <th>4</th>\n",
       "      <td>7775</td>\n",
       "    </tr>\n",
       "    <tr>\n",
       "      <th>5</th>\n",
       "      <td>8181</td>\n",
       "    </tr>\n",
       "    <tr>\n",
       "      <th rowspan=\"5\" valign=\"top\">fp</th>\n",
       "      <th>1</th>\n",
       "      <td>17251</td>\n",
       "    </tr>\n",
       "    <tr>\n",
       "      <th>2</th>\n",
       "      <td>7549</td>\n",
       "    </tr>\n",
       "    <tr>\n",
       "      <th>3</th>\n",
       "      <td>4930</td>\n",
       "    </tr>\n",
       "    <tr>\n",
       "      <th>4</th>\n",
       "      <td>4756</td>\n",
       "    </tr>\n",
       "    <tr>\n",
       "      <th>5</th>\n",
       "      <td>9830</td>\n",
       "    </tr>\n",
       "    <tr>\n",
       "      <th rowspan=\"5\" valign=\"top\">tn</th>\n",
       "      <th>1</th>\n",
       "      <td>42843</td>\n",
       "    </tr>\n",
       "    <tr>\n",
       "      <th>2</th>\n",
       "      <td>45429</td>\n",
       "    </tr>\n",
       "    <tr>\n",
       "      <th>3</th>\n",
       "      <td>47221</td>\n",
       "    </tr>\n",
       "    <tr>\n",
       "      <th>4</th>\n",
       "      <td>48860</td>\n",
       "    </tr>\n",
       "    <tr>\n",
       "      <th>5</th>\n",
       "      <td>48866</td>\n",
       "    </tr>\n",
       "    <tr>\n",
       "      <th rowspan=\"5\" valign=\"top\">tp</th>\n",
       "      <th>1</th>\n",
       "      <td>96734</td>\n",
       "    </tr>\n",
       "    <tr>\n",
       "      <th>2</th>\n",
       "      <td>106469</td>\n",
       "    </tr>\n",
       "    <tr>\n",
       "      <th>3</th>\n",
       "      <td>108649</td>\n",
       "    </tr>\n",
       "    <tr>\n",
       "      <th>4</th>\n",
       "      <td>109139</td>\n",
       "    </tr>\n",
       "    <tr>\n",
       "      <th>5</th>\n",
       "      <td>105271</td>\n",
       "    </tr>\n",
       "  </tbody>\n",
       "</table>\n",
       "</div>"
      ],
      "text/plain": [
       "          participant_session\n",
       "hmm bins                     \n",
       "fn  1                   13652\n",
       "    2                   11043\n",
       "    3                    9176\n",
       "    4                    7775\n",
       "    5                    8181\n",
       "fp  1                   17251\n",
       "    2                    7549\n",
       "    3                    4930\n",
       "    4                    4756\n",
       "    5                    9830\n",
       "tn  1                   42843\n",
       "    2                   45429\n",
       "    3                   47221\n",
       "    4                   48860\n",
       "    5                   48866\n",
       "tp  1                   96734\n",
       "    2                  106469\n",
       "    3                  108649\n",
       "    4                  109139\n",
       "    5                  105271"
      ]
     },
     "execution_count": 8,
     "metadata": {},
     "output_type": "execute_result"
    }
   ],
   "source": [
    "distribution = data.loc[:, ['bins', 'hmm', 'participant_session']].groupby(['hmm', 'bins']).count()\n",
    "distribution"
   ]
  },
  {
   "cell_type": "code",
   "execution_count": 9,
   "metadata": {
    "collapsed": false
   },
   "outputs": [
    {
     "name": "stdout",
     "output_type": "stream",
     "text": [
      "Sum of lures (new): 277535\n",
      "Sum of targets (old): 576089\n"
     ]
    }
   ],
   "source": [
    "# Creating the \"RAW\" section of \"Table 1\"\n",
    "raw_new_lure = distribution.loc['tn']\n",
    "raw_old_lure = distribution.loc['fp']\n",
    "sum_raw_new_lure = sum(raw_new_lure.values)[0]\n",
    "sum_raw_old_lure = sum(raw_old_lure.values)[0]\n",
    "sum_raw_lure = sum_raw_new_lure + sum_raw_old_lure\n",
    "\n",
    "raw_new_target = distribution.loc['fn']\n",
    "raw_old_target = distribution.loc['tp']\n",
    "sum_raw_new_target = sum(raw_new_target.values)[0]\n",
    "sum_raw_old_target = sum(raw_old_target.values)[0]\n",
    "sum_raw_target = sum_raw_new_target + sum_raw_old_target\n",
    "\n",
    "print(\"Sum of lures (new):\",sum_raw_lure)\n",
    "print(\"Sum of targets (old):\",sum_raw_target)"
   ]
  },
  {
   "cell_type": "code",
   "execution_count": 10,
   "metadata": {
    "collapsed": false
   },
   "outputs": [
    {
     "name": "stdout",
     "output_type": "stream",
     "text": [
      "Sum of lures (new): 1.0\n",
      "Sum of targets (old): 1.0\n"
     ]
    }
   ],
   "source": [
    "# Creaating the \"ALL\" section of \"Table 1\"\n",
    "all_new_lure = raw_new_lure/sum_raw_lure\n",
    "all_old_lure = raw_old_lure/sum_raw_lure\n",
    "sum_all_new_lure = sum(all_new_lure.values)[0]\n",
    "sum_all_old_lure = sum(all_old_lure.values)[0]\n",
    "sum_all_lure = sum_all_new_lure + sum_all_old_lure\n",
    "\n",
    "all_new_target = raw_new_target/sum_raw_target\n",
    "all_old_target = raw_old_target/sum_raw_target\n",
    "sum_all_new_target = sum(all_new_target.values)[0]\n",
    "sum_all_old_target = sum(all_old_target.values)[0]\n",
    "sum_all_target = sum_all_new_target + sum_all_old_target\n",
    "\n",
    "print(\"Sum of lures (new):\",sum_all_lure)\n",
    "print(\"Sum of targets (old):\",sum_all_target)"
   ]
  },
  {
   "cell_type": "code",
   "execution_count": 11,
   "metadata": {
    "collapsed": false
   },
   "outputs": [
    {
     "name": "stdout",
     "output_type": "stream",
     "text": [
      "Sum of lures (new): 2.0\n",
      "Sum of targets (old): 2.0\n"
     ]
    }
   ],
   "source": [
    "# Creaating the \"REC\" section of \"Table 1\"\n",
    "rec_new_lure = raw_new_lure/sum_raw_new_lure\n",
    "rec_old_lure = raw_old_lure/sum_raw_old_lure\n",
    "sum_rec_new_lure = sum(rec_new_lure.values)[0]\n",
    "sum_rec_old_lure = sum(rec_old_lure.values)[0]\n",
    "sum_rec_lure = sum_rec_new_lure + sum_rec_old_lure\n",
    "\n",
    "rec_new_target = raw_new_target/sum_raw_new_target\n",
    "rec_old_target = raw_old_target/sum_raw_old_target\n",
    "sum_rec_new_target = sum(rec_new_target.values)[0]\n",
    "sum_rec_old_target = sum(rec_old_target.values)[0]\n",
    "sum_rec_target = sum_rec_new_target + sum_rec_old_target\n",
    "\n",
    "print(\"Sum of lures (new):\",sum_rec_lure)\n",
    "print(\"Sum of targets (old):\",sum_rec_target)"
   ]
  },
  {
   "cell_type": "code",
   "execution_count": 12,
   "metadata": {
    "collapsed": false
   },
   "outputs": [],
   "source": [
    "# Creating \"Table 2\"\n",
    "raw_fa = pd.concat([raw_old_lure.iloc[::-1], raw_new_lure ]).cumsum()\n",
    "raw_hit = pd.concat([raw_old_target.iloc[::-1], raw_new_target ]).cumsum()\n",
    "all_fa = [0] + list(np.transpose(raw_fa/sum_raw_lure).values[0])\n",
    "all_hit = [0] + list(np.transpose(raw_hit/sum_raw_target).values[0])"
   ]
  },
  {
   "cell_type": "code",
   "execution_count": 13,
   "metadata": {
    "collapsed": false
   },
   "outputs": [
    {
     "data": {
      "text/plain": [
       "<matplotlib.collections.PathCollection at 0x10bdf9f60>"
      ]
     },
     "execution_count": 13,
     "metadata": {},
     "output_type": "execute_result"
    },
    {
     "data": {
      "image/png": "[encoded data removed]",
      "text/plain": [
       "<matplotlib.figure.Figure at 0x109182128>"
      ]
     },
     "metadata": {},
     "output_type": "display_data"
    }
   ],
   "source": [
    "import matplotlib.pyplot as plt\n",
    "%matplotlib inline\n",
    "\n",
    "plt.figure(figsize=(5,5))\n",
    "plt.title('ROC Curve')\n",
    "plt.xlabel('p(FA)')\n",
    "plt.ylabel('p(Hit)')\n",
    "plt.axis(xmin=0, xmax=1, ymin=0, ymax=1)\n",
    "plt.scatter(all_fa[:5], all_hit[:5], 20, c='r', marker='^')\n",
    "plt.scatter(all_fa[5:], all_hit[5:], 20, c='g', marker='v')\n",
    "plt.plot(all_fa[:6], all_hit[:6], c='r')\n",
    "plt.plot(all_fa[5:], all_hit[5:], c='g', linestyle='--')\n",
    "plt.plot([0, 1], [0, 1], c='gray', linestyle=':')\n",
    "plt.plot([0, all_fa[5]], [0, all_hit[5]], c='gray', linestyle=':')\n",
    "plt.plot([all_fa[5], 1], [all_hit[5], 1], c='gray', linestyle=':')\n",
    "plt.scatter(all_fa[5], all_hit[5], 25, c='b', marker='D')"
   ]
  },
  {
   "cell_type": "code",
   "execution_count": 14,
   "metadata": {
    "collapsed": false
   },
   "outputs": [],
   "source": [
    "# Calculating ROC per participant in order to get d' per participant\n",
    "from scipy.stats import norm\n",
    "from scipy.integrate import trapz\n",
    "from math import sqrt\n",
    "from collections import defaultdict\n",
    "\n",
    "distribution_grouped = data.loc[:, ['bins', 'hmm', 'participant_session', 'participant']].groupby(['participant_session', 'hmm', 'bins']).count()\n",
    "session_list = list(distribution_grouped.index.levels[0])\n",
    "\n",
    "participant_session_auc = defaultdict(list)\n",
    "for session in session_list:\n",
    "    raw_new_lure = distribution_grouped.loc[session, 'tn'].reindex([1, 2, 3, 4, 5], fill_value=0, copy=False)\n",
    "    raw_old_lure = distribution_grouped.loc[session, 'fp'].reindex([1, 2, 3, 4, 5], fill_value=0, copy=False)\n",
    "    sum_raw_new_lure = sum(raw_new_lure.values)[0]\n",
    "    sum_raw_old_lure = sum(raw_old_lure.values)[0]\n",
    "    sum_raw_lure = sum_raw_new_lure + sum_raw_old_lure\n",
    "\n",
    "    raw_new_target = distribution_grouped.loc[session, 'fn'].reindex([1, 2, 3, 4, 5], fill_value=0, copy=False)\n",
    "    raw_old_target = distribution_grouped.loc[session, 'tp'].reindex([1, 2, 3, 4, 5], fill_value=0, copy=False)\n",
    "    sum_raw_new_target = sum(raw_new_target.values)[0]\n",
    "    sum_raw_old_target = sum(raw_old_target.values)[0]\n",
    "    sum_raw_target = sum_raw_new_target + sum_raw_old_target\n",
    "    \n",
    "    raw_fa = pd.concat([raw_old_lure.iloc[::-1], raw_new_lure ]).cumsum()\n",
    "    raw_hit = pd.concat([raw_old_target.iloc[::-1], raw_new_target ]).cumsum()\n",
    "    all_fa = [0] + list(np.transpose(raw_fa/sum_raw_lure).values[0])\n",
    "    all_hit = [0] + list(np.transpose(raw_hit/sum_raw_target).values[0])\n",
    "    \n",
    "    auc = trapz(all_hit, all_fa)\n",
    "    participant_session_auc[session[:6]].append(auc)\n",
    "\n",
    "\n",
    "participant_auc = { k: np.mean(participant_session_auc[k]) for k in participant_session_auc }\n",
    "participant_criterion = { k: sqrt(2) * norm.ppf(participant_auc[k]) for k in participant_auc }"
   ]
  },
  {
   "cell_type": "code",
   "execution_count": 15,
   "metadata": {
    "collapsed": true
   },
   "outputs": [],
   "source": [
    "import pickle\n",
    "pickle.dump(participant_auc, open( \"auc_response_time.bin\", \"wb\" ))"
   ]
  },
  {
   "cell_type": "code",
   "execution_count": 16,
   "metadata": {
    "collapsed": false
   },
   "outputs": [
    {
     "data": {
      "text/plain": [
       "{'LTP063': 0.95479236158373537,\n",
       " 'LTP064': 0.86794726146054302,\n",
       " 'LTP065': 0.92830311777572161,\n",
       " 'LTP066': 0.8607037703629834,\n",
       " 'LTP067': 0.86436220198519575,\n",
       " 'LTP069': 0.93449590647288727,\n",
       " 'LTP070': 0.86339450339361645,\n",
       " 'LTP073': 0.95002405171356996,\n",
       " 'LTP074': 0.9215906772621375,\n",
       " 'LTP075': 0.82336326252911995,\n",
       " 'LTP076': 0.95662888373420041,\n",
       " 'LTP077': 0.82108248403662143,\n",
       " 'LTP079': 0.97355762428051562,\n",
       " 'LTP081': 0.92264616440551317,\n",
       " 'LTP082': 0.97440266561741595,\n",
       " 'LTP084': 0.65633428485060374,\n",
       " 'LTP085': 0.8999579830852289,\n",
       " 'LTP086': 0.77005601375849142,\n",
       " 'LTP087': 0.74781817154711505,\n",
       " 'LTP088': 0.78074838774566968,\n",
       " 'LTP089': 0.75245869172275859,\n",
       " 'LTP090': 0.96124500510158872,\n",
       " 'LTP091': 0.68471799737120553,\n",
       " 'LTP092': 0.96711148808480185,\n",
       " 'LTP093': 0.926193045027494,\n",
       " 'LTP094': 0.91593676528600609,\n",
       " 'LTP095': 0.79739609780330289,\n",
       " 'LTP096': 0.80016851387601073,\n",
       " 'LTP098': 0.89575978368803888,\n",
       " 'LTP099': 0.73975399398264574,\n",
       " 'LTP100': 0.87861955849560991,\n",
       " 'LTP101': 0.89743827212303384,\n",
       " 'LTP102': 0.92599194079064462,\n",
       " 'LTP103': 0.72418474514268671,\n",
       " 'LTP104': 0.97441286198501542,\n",
       " 'LTP105': 0.90659031763852249,\n",
       " 'LTP106': 0.91115546052416418,\n",
       " 'LTP107': 0.94751316574232958,\n",
       " 'LTP108': 0.8691900407242471,\n",
       " 'LTP110': 0.9739777189884028,\n",
       " 'LTP111': 0.77315859078780813,\n",
       " 'LTP112': 0.88861073814276192,\n",
       " 'LTP113': 0.88568483831303035,\n",
       " 'LTP114': 0.85640432791623,\n",
       " 'LTP115': 0.96106878585212485,\n",
       " 'LTP117': 0.74481457255654082,\n",
       " 'LTP118': 0.7597104430566054,\n",
       " 'LTP119': 0.84622142459710514,\n",
       " 'LTP120': 0.93402569743758201,\n",
       " 'LTP122': 0.95914198730628841,\n",
       " 'LTP123': 0.88353964807232954,\n",
       " 'LTP124': 0.95008807956749208,\n",
       " 'LTP125': 0.93767590977644466,\n",
       " 'LTP127': 0.92517779875524231,\n",
       " 'LTP128': 0.9382117258624173,\n",
       " 'LTP130': 0.94735903338560346,\n",
       " 'LTP131': 0.91626543889695533,\n",
       " 'LTP132': 0.85498460445220736,\n",
       " 'LTP133': 0.97072179228662037,\n",
       " 'LTP134': 0.90314786675554148,\n",
       " 'LTP135': 0.93679060511712697,\n",
       " 'LTP136': 0.84342984223267459,\n",
       " 'LTP137': 0.92933681909630406,\n",
       " 'LTP138': 0.91131859729767972,\n",
       " 'LTP139': 0.91685854670534095,\n",
       " 'LTP140': 0.91234949293023815,\n",
       " 'LTP141': 0.89653187985879301,\n",
       " 'LTP142': 0.88823993026515269,\n",
       " 'LTP143': 0.83775715078422319,\n",
       " 'LTP144': 0.95639695593496588,\n",
       " 'LTP145': 0.94646706246898604,\n",
       " 'LTP146': 0.87894069715402101,\n",
       " 'LTP147': 0.84647147317936933,\n",
       " 'LTP148': 0.96784772578347833,\n",
       " 'LTP149': 0.92970692767485263,\n",
       " 'LTP150': 0.96643595439531538,\n",
       " 'LTP151': 0.96444460479597893,\n",
       " 'LTP153': 0.89493963058991444,\n",
       " 'LTP155': 0.91246865654488418,\n",
       " 'LTP159': 0.9229984485232563,\n",
       " 'LTP166': 0.94408415216204911,\n",
       " 'LTP168': 0.7346818484565929,\n",
       " 'LTP174': 0.97804682631338347,\n",
       " 'LTP184': 0.74278198532935358,\n",
       " 'LTP185': 0.94499016683169157,\n",
       " 'LTP186': 0.94010116257089105,\n",
       " 'LTP187': 0.82303713212612251,\n",
       " 'LTP188': 0.73153805517964998,\n",
       " 'LTP189': 0.80330176076564219,\n",
       " 'LTP190': 0.91902767885555481,\n",
       " 'LTP191': 0.95328794199090539,\n",
       " 'LTP192': 0.97274914901659615,\n",
       " 'LTP193': 0.96171617220169636,\n",
       " 'LTP194': 0.80176983098575438,\n",
       " 'LTP195': 0.9705471326585372,\n",
       " 'LTP196': 0.878066945475932,\n",
       " 'LTP197': 0.94787692285516933,\n",
       " 'LTP198': 0.92763415925836268,\n",
       " 'LTP199': 0.96741500711085338,\n",
       " 'LTP200': 0.90439930672055235,\n",
       " 'LTP201': 0.82111093605983143,\n",
       " 'LTP202': 0.90903040051994533,\n",
       " 'LTP207': 0.92868670389784014,\n",
       " 'LTP209': 0.94409493061145822,\n",
       " 'LTP210': 0.95611866952871671,\n",
       " 'LTP211': 0.97738307679870695,\n",
       " 'LTP212': 0.90527935635788492,\n",
       " 'LTP214': 0.90537702760446148,\n",
       " 'LTP215': 0.79744177657689252,\n",
       " 'LTP227': 0.92374084247614319,\n",
       " 'LTP228': 0.94637848887681963,\n",
       " 'LTP229': 0.9531420549046572,\n",
       " 'LTP230': 0.89941587146735746,\n",
       " 'LTP231': 0.8789192399051281,\n",
       " 'LTP232': 0.88816696264515438,\n",
       " 'LTP233': 0.83840325502268365,\n",
       " 'LTP234': 0.94417620993302687,\n",
       " 'LTP235': 0.93934964043732716,\n",
       " 'LTP236': 0.85715535542294297,\n",
       " 'LTP237': 0.77419220746484418,\n",
       " 'LTP238': 0.95866875339409452,\n",
       " 'LTP239': 0.82310220058079353,\n",
       " 'LTP240': 0.95725092165700143,\n",
       " 'LTP241': 0.88394626725123104,\n",
       " 'LTP242': 0.94605665669359784,\n",
       " 'LTP243': 0.94328537868133056,\n",
       " 'LTP244': 0.91067960514174651,\n",
       " 'LTP245': 0.84332139517558657,\n",
       " 'LTP246': 0.94219741514789901,\n",
       " 'LTP247': 0.93399845513878976,\n",
       " 'LTP249': 0.84108857774650114,\n",
       " 'LTP250': 0.72196713796653689,\n",
       " 'LTP251': 0.73724996211038596,\n",
       " 'LTP252': 0.91904429122264431,\n",
       " 'LTP253': 0.86925745561357959,\n",
       " 'LTP254': 0.96180555759253561,\n",
       " 'LTP256': 0.91116991503588185,\n",
       " 'LTP258': 0.93021338599070069,\n",
       " 'LTP259': 0.8712287716879249,\n",
       " 'LTP260': 0.9375343543195378,\n",
       " 'LTP261': 0.97802687910778352,\n",
       " 'LTP263': 0.90085438950010099,\n",
       " 'LTP264': 0.82912290227736862,\n",
       " 'LTP265': 0.93131791672188835,\n",
       " 'LTP267': 0.62045497180097731,\n",
       " 'LTP268': 0.95379371817849745,\n",
       " 'LTP269': 0.89808596981658617,\n",
       " 'LTP270': 0.76121289200165565,\n",
       " 'LTP271': 0.7758296359247695,\n",
       " 'LTP272': 0.96783755034115804,\n",
       " 'LTP273': 0.71122222224079557,\n",
       " 'LTP274': 0.83488449577803503,\n",
       " 'LTP275': 0.96655239820650374,\n",
       " 'LTP276': 0.91414536373335109,\n",
       " 'LTP277': 0.85909908008389257,\n",
       " 'LTP278': 0.72560667661883127,\n",
       " 'LTP279': 0.89507632408105875,\n",
       " 'LTP280': 0.86861343460480323,\n",
       " 'LTP281': 0.71851026453293532,\n",
       " 'LTP282': 0.88300159614461615,\n",
       " 'LTP283': 0.94777738331518047,\n",
       " 'LTP284': 0.82688270832929334,\n",
       " 'LTP285': 0.88780662694470946,\n",
       " 'LTP286': 0.96131218321152789,\n",
       " 'LTP287': 0.91603404418086831,\n",
       " 'LTP288': 0.89160019816276836,\n",
       " 'LTP289': 0.9169772112490806,\n",
       " 'LTP290': 0.9043267583116531,\n",
       " 'LTP291': 0.83245687139051794,\n",
       " 'LTP292': 0.90639290580799581,\n",
       " 'LTP293': 0.8941919516004212}"
      ]
     },
     "execution_count": 16,
     "metadata": {},
     "output_type": "execute_result"
    }
   ],
   "source": [
    "participant_auc"
   ]
  },
  {
   "cell_type": "code",
   "execution_count": 17,
   "metadata": {
    "collapsed": false
   },
   "outputs": [
    {
     "name": "stdout",
     "output_type": "stream",
     "text": [
      "171\n"
     ]
    }
   ],
   "source": [
    "print(len(participant_auc))"
   ]
  },
  {
   "cell_type": "code",
   "execution_count": 18,
   "metadata": {
    "collapsed": false
   },
   "outputs": [
    {
     "data": {
      "text/plain": [
       "(array([  6.,  22.,  28.,  50.,  41.,  24.]),\n",
       " array([ 0.43370525,  0.83635728,  1.2390093 ,  1.64166133,  2.04431336,\n",
       "         2.44696538,  2.84961741]),\n",
       " <a list of 6 Patch objects>)"
      ]
     },
     "execution_count": 18,
     "metadata": {},
     "output_type": "execute_result"
    },
    {
     "data": {
      "image/png": "[encoded data removed]",
      "text/plain": [
       "<matplotlib.figure.Figure at 0x1068dad30>"
      ]
     },
     "metadata": {},
     "output_type": "display_data"
    }
   ],
   "source": [
    "import matplotlib.pyplot as plt\n",
    "%matplotlib inline\n",
    "plt.hist(list(participant_criterion.values()), 6)"
   ]
  },
  {
   "cell_type": "code",
   "execution_count": null,
   "metadata": {
    "collapsed": true
   },
   "outputs": [],
   "source": []
  }
 ],
 "metadata": {
  "anaconda-cloud": {},
  "kernelspec": {
   "display_name": "Python [default]",
   "language": "python",
   "name": "python3"
  },
  "language_info": {
   "codemirror_mode": {
    "name": "ipython",
    "version": 3
   },
   "file_extension": ".py",
   "mimetype": "text/x-python",
   "name": "python",
   "nbconvert_exporter": "python",
   "pygments_lexer": "ipython3",
   "version": "3.5.2"
  }
 },
 "nbformat": 4,
 "nbformat_minor": 1
}
