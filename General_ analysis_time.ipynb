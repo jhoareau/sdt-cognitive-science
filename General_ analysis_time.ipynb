{
 "cells": [
  {
   "cell_type": "code",
   "execution_count": 1,
   "metadata": {
    "collapsed": true
   },
   "outputs": [],
   "source": [
    "import pandas as pd\n",
    "import numpy as np"
   ]
  },
  {
   "cell_type": "code",
   "execution_count": 2,
   "metadata": {
    "collapsed": false
   },
   "outputs": [
    {
     "name": "stdout",
     "output_type": "stream",
     "text": [
      "3.5.2 |Anaconda 2.4.1 (x86_64)| (default, Jul  2 2016, 17:52:12) \n",
      "[GCC 4.2.1 Compatible Apple LLVM 4.2 (clang-425.0.28)]\n"
     ]
    }
   ],
   "source": [
    "import sys\n",
    "print(sys.version)"
   ]
  },
  {
   "cell_type": "code",
   "execution_count": 3,
   "metadata": {
    "collapsed": false
   },
   "outputs": [
    {
     "data": {
      "text/plain": [
       "'0.21.0'"
      ]
     },
     "execution_count": 3,
     "metadata": {},
     "output_type": "execute_result"
    }
   ],
   "source": [
    "pd.__version__"
   ]
  },
  {
   "cell_type": "code",
   "execution_count": 4,
   "metadata": {
    "collapsed": false
   },
   "outputs": [
    {
     "name": "stdout",
     "output_type": "stream",
     "text": [
      "853624\n"
     ]
    }
   ],
   "source": [
    "data = pd.read_csv('final_general_data.csv')\n",
    "print(len(data))"
   ]
  },
  {
   "cell_type": "code",
   "execution_count": 5,
   "metadata": {
    "collapsed": false
   },
   "outputs": [
    {
     "data": {
      "text/html": [
       "<div>\n",
       "<style scoped>\n",
       "    .dataframe tbody tr th:only-of-type {\n",
       "        vertical-align: middle;\n",
       "    }\n",
       "\n",
       "    .dataframe tbody tr th {\n",
       "        vertical-align: top;\n",
       "    }\n",
       "\n",
       "    .dataframe thead th {\n",
       "        text-align: right;\n",
       "    }\n",
       "</style>\n",
       "<table border=\"1\" class=\"dataframe\">\n",
       "  <thead>\n",
       "    <tr style=\"text-align: right;\">\n",
       "      <th></th>\n",
       "      <th>participant</th>\n",
       "      <th>ground_truth</th>\n",
       "      <th>recog_resp</th>\n",
       "      <th>recog_conf</th>\n",
       "      <th>recog_rt</th>\n",
       "      <th>participant_session</th>\n",
       "      <th>hmm</th>\n",
       "    </tr>\n",
       "  </thead>\n",
       "  <tbody>\n",
       "    <tr>\n",
       "      <th>0</th>\n",
       "      <td>LTP268</td>\n",
       "      <td>old</td>\n",
       "      <td>old</td>\n",
       "      <td>5</td>\n",
       "      <td>1395.0</td>\n",
       "      <td>LTP2681</td>\n",
       "      <td>tp</td>\n",
       "    </tr>\n",
       "    <tr>\n",
       "      <th>1</th>\n",
       "      <td>LTP268</td>\n",
       "      <td>old</td>\n",
       "      <td>new</td>\n",
       "      <td>2</td>\n",
       "      <td>1788.0</td>\n",
       "      <td>LTP2681</td>\n",
       "      <td>fn</td>\n",
       "    </tr>\n",
       "    <tr>\n",
       "      <th>2</th>\n",
       "      <td>LTP268</td>\n",
       "      <td>old</td>\n",
       "      <td>new</td>\n",
       "      <td>3</td>\n",
       "      <td>2308.0</td>\n",
       "      <td>LTP2681</td>\n",
       "      <td>fn</td>\n",
       "    </tr>\n",
       "    <tr>\n",
       "      <th>3</th>\n",
       "      <td>LTP268</td>\n",
       "      <td>old</td>\n",
       "      <td>old</td>\n",
       "      <td>5</td>\n",
       "      <td>1320.0</td>\n",
       "      <td>LTP2681</td>\n",
       "      <td>tp</td>\n",
       "    </tr>\n",
       "    <tr>\n",
       "      <th>4</th>\n",
       "      <td>LTP268</td>\n",
       "      <td>old</td>\n",
       "      <td>old</td>\n",
       "      <td>5</td>\n",
       "      <td>1025.0</td>\n",
       "      <td>LTP2681</td>\n",
       "      <td>tp</td>\n",
       "    </tr>\n",
       "  </tbody>\n",
       "</table>\n",
       "</div>"
      ],
      "text/plain": [
       "  participant ground_truth recog_resp  recog_conf  recog_rt  \\\n",
       "0      LTP268          old        old           5    1395.0   \n",
       "1      LTP268          old        new           2    1788.0   \n",
       "2      LTP268          old        new           3    2308.0   \n",
       "3      LTP268          old        old           5    1320.0   \n",
       "4      LTP268          old        old           5    1025.0   \n",
       "\n",
       "  participant_session hmm  \n",
       "0             LTP2681  tp  \n",
       "1             LTP2681  fn  \n",
       "2             LTP2681  fn  \n",
       "3             LTP2681  tp  \n",
       "4             LTP2681  tp  "
      ]
     },
     "execution_count": 5,
     "metadata": {},
     "output_type": "execute_result"
    }
   ],
   "source": [
    "data[:5]"
   ]
  },
  {
   "cell_type": "code",
   "execution_count": 6,
   "metadata": {
    "collapsed": false
   },
   "outputs": [
    {
     "name": "stdout",
     "output_type": "stream",
     "text": [
      "[  706.   809.   935.  1178.  3000.]\n",
      "[  573.   654.   745.   917.  3000.]\n"
     ]
    }
   ],
   "source": [
    "# Defining the bins based on quantiles (~same amount of entities in each bin)\n",
    "new_response_times = data.loc[data['recog_resp'] == 'new']['recog_rt'].values\n",
    "old_response_times = data.loc[data['recog_resp'] == 'old']['recog_rt'].values\n",
    "new_bins = np.percentile(new_response_times,[20, 40, 60, 80, 100])\n",
    "old_bins = np.percentile(old_response_times,[20, 40, 60, 80, 100])\n",
    "print(new_bins)\n",
    "print(old_bins)"
   ]
  },
  {
   "cell_type": "code",
   "execution_count": 7,
   "metadata": {
    "collapsed": false
   },
   "outputs": [
    {
     "name": "stdout",
     "output_type": "stream",
     "text": [
      "Elements in each bin: [172148, 170530, 169976, 170490, 170480]\n",
      "STD on elements in bins: 740.162792904\n",
      "Sum of elements in bins: 853624\n",
      "Size of data: 853624\n"
     ]
    }
   ],
   "source": [
    "# Creating bins\n",
    "conditions = [(((data['recog_resp'] == 'new') & (data[\"recog_rt\"] <= new_bins[0])) | ((data['recog_resp'] == 'old') & (data[\"recog_rt\"] <= old_bins[0]))),\n",
    "              (((data['recog_resp'] == 'new') & (data[\"recog_rt\"] <= new_bins[1])) | ((data['recog_resp'] == 'old') & (data[\"recog_rt\"] <= old_bins[1]))),\n",
    "              (((data['recog_resp'] == 'new') & (data[\"recog_rt\"] <= new_bins[2])) | ((data['recog_resp'] == 'old') & (data[\"recog_rt\"] <= old_bins[2]))),\n",
    "              (((data['recog_resp'] == 'new') & (data[\"recog_rt\"] <= new_bins[3])) | ((data['recog_resp'] == 'old') & (data[\"recog_rt\"] <= old_bins[3])))]\n",
    "\n",
    "choices = [1, 2, 3, 4]\n",
    "\n",
    "data['bins'] = np.select(conditions, choices, default=5)\n",
    "\n",
    "y = data['bins'].values\n",
    "l = [np.count_nonzero(y == x) for x in range(1,6)]\n",
    "print('Elements in each bin:',l)\n",
    "print('STD on elements in bins:',np.std(l))\n",
    "print('Sum of elements in bins:',sum(l))\n",
    "print('Size of data:',len(data))"
   ]
  },
  {
   "cell_type": "code",
   "execution_count": 8,
   "metadata": {
    "collapsed": false
   },
   "outputs": [
    {
     "data": {
      "text/html": [
       "<div>\n",
       "<style scoped>\n",
       "    .dataframe tbody tr th:only-of-type {\n",
       "        vertical-align: middle;\n",
       "    }\n",
       "\n",
       "    .dataframe tbody tr th {\n",
       "        vertical-align: top;\n",
       "    }\n",
       "\n",
       "    .dataframe thead th {\n",
       "        text-align: right;\n",
       "    }\n",
       "</style>\n",
       "<table border=\"1\" class=\"dataframe\">\n",
       "  <thead>\n",
       "    <tr style=\"text-align: right;\">\n",
       "      <th></th>\n",
       "      <th></th>\n",
       "      <th>participant_session</th>\n",
       "    </tr>\n",
       "    <tr>\n",
       "      <th>hmm</th>\n",
       "      <th>bins</th>\n",
       "      <th></th>\n",
       "    </tr>\n",
       "  </thead>\n",
       "  <tbody>\n",
       "    <tr>\n",
       "      <th rowspan=\"5\" valign=\"top\">fn</th>\n",
       "      <th>1</th>\n",
       "      <td>8181</td>\n",
       "    </tr>\n",
       "    <tr>\n",
       "      <th>2</th>\n",
       "      <td>7775</td>\n",
       "    </tr>\n",
       "    <tr>\n",
       "      <th>3</th>\n",
       "      <td>9176</td>\n",
       "    </tr>\n",
       "    <tr>\n",
       "      <th>4</th>\n",
       "      <td>11043</td>\n",
       "    </tr>\n",
       "    <tr>\n",
       "      <th>5</th>\n",
       "      <td>13652</td>\n",
       "    </tr>\n",
       "    <tr>\n",
       "      <th rowspan=\"5\" valign=\"top\">fp</th>\n",
       "      <th>1</th>\n",
       "      <td>9830</td>\n",
       "    </tr>\n",
       "    <tr>\n",
       "      <th>2</th>\n",
       "      <td>4756</td>\n",
       "    </tr>\n",
       "    <tr>\n",
       "      <th>3</th>\n",
       "      <td>4930</td>\n",
       "    </tr>\n",
       "    <tr>\n",
       "      <th>4</th>\n",
       "      <td>7549</td>\n",
       "    </tr>\n",
       "    <tr>\n",
       "      <th>5</th>\n",
       "      <td>17251</td>\n",
       "    </tr>\n",
       "    <tr>\n",
       "      <th rowspan=\"5\" valign=\"top\">tn</th>\n",
       "      <th>1</th>\n",
       "      <td>48866</td>\n",
       "    </tr>\n",
       "    <tr>\n",
       "      <th>2</th>\n",
       "      <td>48860</td>\n",
       "    </tr>\n",
       "    <tr>\n",
       "      <th>3</th>\n",
       "      <td>47221</td>\n",
       "    </tr>\n",
       "    <tr>\n",
       "      <th>4</th>\n",
       "      <td>45429</td>\n",
       "    </tr>\n",
       "    <tr>\n",
       "      <th>5</th>\n",
       "      <td>42843</td>\n",
       "    </tr>\n",
       "    <tr>\n",
       "      <th rowspan=\"5\" valign=\"top\">tp</th>\n",
       "      <th>1</th>\n",
       "      <td>105271</td>\n",
       "    </tr>\n",
       "    <tr>\n",
       "      <th>2</th>\n",
       "      <td>109139</td>\n",
       "    </tr>\n",
       "    <tr>\n",
       "      <th>3</th>\n",
       "      <td>108649</td>\n",
       "    </tr>\n",
       "    <tr>\n",
       "      <th>4</th>\n",
       "      <td>106469</td>\n",
       "    </tr>\n",
       "    <tr>\n",
       "      <th>5</th>\n",
       "      <td>96734</td>\n",
       "    </tr>\n",
       "  </tbody>\n",
       "</table>\n",
       "</div>"
      ],
      "text/plain": [
       "          participant_session\n",
       "hmm bins                     \n",
       "fn  1                    8181\n",
       "    2                    7775\n",
       "    3                    9176\n",
       "    4                   11043\n",
       "    5                   13652\n",
       "fp  1                    9830\n",
       "    2                    4756\n",
       "    3                    4930\n",
       "    4                    7549\n",
       "    5                   17251\n",
       "tn  1                   48866\n",
       "    2                   48860\n",
       "    3                   47221\n",
       "    4                   45429\n",
       "    5                   42843\n",
       "tp  1                  105271\n",
       "    2                  109139\n",
       "    3                  108649\n",
       "    4                  106469\n",
       "    5                   96734"
      ]
     },
     "execution_count": 8,
     "metadata": {},
     "output_type": "execute_result"
    }
   ],
   "source": [
    "distribution = data.loc[:, ['bins', 'hmm', 'participant_session']].groupby(['hmm', 'bins']).count()\n",
    "distribution"
   ]
  },
  {
   "cell_type": "code",
   "execution_count": 9,
   "metadata": {
    "collapsed": false
   },
   "outputs": [
    {
     "name": "stdout",
     "output_type": "stream",
     "text": [
      "Sum of lures (new): 277535\n",
      "Sum of targets (old): 576089\n"
     ]
    }
   ],
   "source": [
    "# Creating the \"RAW\" section of \"Table 1\"\n",
    "raw_new_lure = distribution.loc['tn']\n",
    "raw_old_lure = distribution.loc['fp']\n",
    "sum_raw_new_lure = sum(raw_new_lure.values)[0]\n",
    "sum_raw_old_lure = sum(raw_old_lure.values)[0]\n",
    "sum_raw_lure = sum_raw_new_lure + sum_raw_old_lure\n",
    "\n",
    "raw_new_target = distribution.loc['fn']\n",
    "raw_old_target = distribution.loc['tp']\n",
    "sum_raw_new_target = sum(raw_new_target.values)[0]\n",
    "sum_raw_old_target = sum(raw_old_target.values)[0]\n",
    "sum_raw_target = sum_raw_new_target + sum_raw_old_target\n",
    "\n",
    "print(\"Sum of lures (new):\",sum_raw_lure)\n",
    "print(\"Sum of targets (old):\",sum_raw_target)"
   ]
  },
  {
   "cell_type": "code",
   "execution_count": 10,
   "metadata": {
    "collapsed": false
   },
   "outputs": [
    {
     "name": "stdout",
     "output_type": "stream",
     "text": [
      "Sum of lures (new): 1.0\n",
      "Sum of targets (old): 1.0\n"
     ]
    }
   ],
   "source": [
    "# Creaating the \"ALL\" section of \"Table 1\"\n",
    "all_new_lure = raw_new_lure/sum_raw_lure\n",
    "all_old_lure = raw_old_lure/sum_raw_lure\n",
    "sum_all_new_lure = sum(all_new_lure.values)[0]\n",
    "sum_all_old_lure = sum(all_old_lure.values)[0]\n",
    "sum_all_lure = sum_all_new_lure + sum_all_old_lure\n",
    "\n",
    "all_new_target = raw_new_target/sum_raw_target\n",
    "all_old_target = raw_old_target/sum_raw_target\n",
    "sum_all_new_target = sum(all_new_target.values)[0]\n",
    "sum_all_old_target = sum(all_old_target.values)[0]\n",
    "sum_all_target = sum_all_new_target + sum_all_old_target\n",
    "\n",
    "print(\"Sum of lures (new):\",sum_all_lure)\n",
    "print(\"Sum of targets (old):\",sum_all_target)"
   ]
  },
  {
   "cell_type": "code",
   "execution_count": 11,
   "metadata": {
    "collapsed": false
   },
   "outputs": [
    {
     "name": "stdout",
     "output_type": "stream",
     "text": [
      "Sum of lures (new): 2.0\n",
      "Sum of targets (old): 2.0\n"
     ]
    }
   ],
   "source": [
    "# Creaating the \"REC\" section of \"Table 1\"\n",
    "rec_new_lure = raw_new_lure/sum_raw_new_lure\n",
    "rec_old_lure = raw_old_lure/sum_raw_old_lure\n",
    "sum_rec_new_lure = sum(rec_new_lure.values)[0]\n",
    "sum_rec_old_lure = sum(rec_old_lure.values)[0]\n",
    "sum_rec_lure = sum_rec_new_lure + sum_rec_old_lure\n",
    "\n",
    "rec_new_target = raw_new_target/sum_raw_new_target\n",
    "rec_old_target = raw_old_target/sum_raw_old_target\n",
    "sum_rec_new_target = sum(rec_new_target.values)[0]\n",
    "sum_rec_old_target = sum(rec_old_target.values)[0]\n",
    "sum_rec_target = sum_rec_new_target + sum_rec_old_target\n",
    "\n",
    "print(\"Sum of lures (new):\",sum_rec_lure)\n",
    "print(\"Sum of targets (old):\",sum_rec_target)"
   ]
  },
  {
   "cell_type": "code",
   "execution_count": 12,
   "metadata": {
    "collapsed": false
   },
   "outputs": [],
   "source": [
    "# Creating \"Table 2\"\n",
    "raw_fa = pd.concat([raw_old_lure.iloc[::-1], raw_new_lure ]).cumsum()\n",
    "raw_hit = pd.concat([raw_old_target.iloc[::-1], raw_new_target ]).cumsum()\n",
    "all_fa = [0] + list(np.transpose(raw_fa/sum_raw_lure).values[0])\n",
    "all_hit = [0] + list(np.transpose(raw_hit/sum_raw_target).values[0])"
   ]
  },
  {
   "cell_type": "code",
   "execution_count": 13,
   "metadata": {
    "collapsed": false
   },
   "outputs": [
    {
     "data": {
      "text/plain": [
       "<matplotlib.collections.PathCollection at 0x10bda81d0>"
      ]
     },
     "execution_count": 13,
     "metadata": {},
     "output_type": "execute_result"
    },
    {
     "data": {
      "image/png": "[encoded data removed]",
      "text/plain": [
       "<matplotlib.figure.Figure at 0x10919e198>"
      ]
     },
     "metadata": {},
     "output_type": "display_data"
    }
   ],
   "source": [
    "import matplotlib.pyplot as plt\n",
    "%matplotlib inline\n",
    "\n",
    "plt.figure(figsize=(5,5))\n",
    "plt.title('ROC Curve')\n",
    "plt.xlabel('p(FA)')\n",
    "plt.ylabel('p(Hit)')\n",
    "plt.axis(xmin=0, xmax=1, ymin=0, ymax=1)\n",
    "plt.scatter(all_fa[:5], all_hit[:5], 20, c='r', marker='^')\n",
    "plt.scatter(all_fa[5:], all_hit[5:], 20, c='g', marker='v')\n",
    "plt.plot(all_fa[:6], all_hit[:6], c='r')\n",
    "plt.plot(all_fa[5:], all_hit[5:], c='g', linestyle='--')\n",
    "plt.plot([0, 1], [0, 1], c='gray', linestyle=':')\n",
    "plt.plot([0, all_fa[5]], [0, all_hit[5]], c='gray', linestyle=':')\n",
    "plt.plot([all_fa[5], 1], [all_hit[5], 1], c='gray', linestyle=':')\n",
    "plt.scatter(all_fa[5], all_hit[5], 25, c='b', marker='D')"
   ]
  },
  {
   "cell_type": "code",
   "execution_count": 14,
   "metadata": {
    "collapsed": false
   },
   "outputs": [],
   "source": [
    "# Calculating ROC per participant in order to get d' per participant\n",
    "from scipy.stats import norm\n",
    "from scipy.integrate import trapz\n",
    "from math import sqrt\n",
    "from collections import defaultdict\n",
    "\n",
    "distribution_grouped = data.loc[:, ['bins', 'hmm', 'participant_session', 'participant']].groupby(['participant_session', 'hmm', 'bins']).count()\n",
    "session_list = list(distribution_grouped.index.levels[0])\n",
    "\n",
    "participant_session_auc = defaultdict(list)\n",
    "for session in session_list:\n",
    "    raw_new_lure = distribution_grouped.loc[session, 'tn'].reindex([1, 2, 3, 4, 5], fill_value=0, copy=False)\n",
    "    raw_old_lure = distribution_grouped.loc[session, 'fp'].reindex([1, 2, 3, 4, 5], fill_value=0, copy=False)\n",
    "    sum_raw_new_lure = sum(raw_new_lure.values)[0]\n",
    "    sum_raw_old_lure = sum(raw_old_lure.values)[0]\n",
    "    sum_raw_lure = sum_raw_new_lure + sum_raw_old_lure\n",
    "\n",
    "    raw_new_target = distribution_grouped.loc[session, 'fn'].reindex([1, 2, 3, 4, 5], fill_value=0, copy=False)\n",
    "    raw_old_target = distribution_grouped.loc[session, 'tp'].reindex([1, 2, 3, 4, 5], fill_value=0, copy=False)\n",
    "    sum_raw_new_target = sum(raw_new_target.values)[0]\n",
    "    sum_raw_old_target = sum(raw_old_target.values)[0]\n",
    "    sum_raw_target = sum_raw_new_target + sum_raw_old_target\n",
    "    \n",
    "    raw_fa = pd.concat([raw_old_lure.iloc[::-1], raw_new_lure ]).cumsum()\n",
    "    raw_hit = pd.concat([raw_old_target.iloc[::-1], raw_new_target ]).cumsum()\n",
    "    all_fa = [0] + list(np.transpose(raw_fa/sum_raw_lure).values[0])\n",
    "    all_hit = [0] + list(np.transpose(raw_hit/sum_raw_target).values[0])\n",
    "    \n",
    "    auc = trapz(all_hit, all_fa)\n",
    "    participant_session_auc[session[:6]].append(auc)\n",
    "\n",
    "\n",
    "participant_auc = { k: np.mean(participant_session_auc[k]) for k in participant_session_auc }\n",
    "participant_criterion = { k: sqrt(2) * norm.ppf(participant_auc[k]) for k in participant_auc }"
   ]
  },
  {
   "cell_type": "code",
   "execution_count": 15,
   "metadata": {
    "collapsed": true
   },
   "outputs": [],
   "source": [
    "import pickle\n",
    "pickle.dump(participant_auc, open( \"auc_response_time.bin\", \"wb\" ))"
   ]
  },
  {
   "cell_type": "code",
   "execution_count": 16,
   "metadata": {
    "collapsed": false
   },
   "outputs": [
    {
     "data": {
      "text/plain": [
       "{'LTP063': 0.90196122402853229,\n",
       " 'LTP064': 0.86999375437436033,\n",
       " 'LTP065': 0.87112150205654115,\n",
       " 'LTP066': 0.83699755645743379,\n",
       " 'LTP067': 0.84787202385788807,\n",
       " 'LTP069': 0.91497967397638291,\n",
       " 'LTP070': 0.82727496620029495,\n",
       " 'LTP073': 0.89759539934697263,\n",
       " 'LTP074': 0.87296828124671944,\n",
       " 'LTP075': 0.76736038142507923,\n",
       " 'LTP076': 0.9189968348872315,\n",
       " 'LTP077': 0.7954996724217186,\n",
       " 'LTP079': 0.94145006245146867,\n",
       " 'LTP081': 0.87657624960000702,\n",
       " 'LTP082': 0.95942143778340583,\n",
       " 'LTP084': 0.66407946585571975,\n",
       " 'LTP085': 0.84078639005480471,\n",
       " 'LTP086': 0.7677083484175411,\n",
       " 'LTP087': 0.75261808480842385,\n",
       " 'LTP088': 0.73773998124550866,\n",
       " 'LTP089': 0.75868114852533586,\n",
       " 'LTP090': 0.94056105838134596,\n",
       " 'LTP091': 0.69934755902849677,\n",
       " 'LTP092': 0.92253473265306152,\n",
       " 'LTP093': 0.91927664567190592,\n",
       " 'LTP094': 0.83981666436642632,\n",
       " 'LTP095': 0.74986102990560599,\n",
       " 'LTP096': 0.74933858315168034,\n",
       " 'LTP098': 0.8220954996382025,\n",
       " 'LTP099': 0.74334375531960761,\n",
       " 'LTP100': 0.81800597772178885,\n",
       " 'LTP101': 0.85495712701861026,\n",
       " 'LTP102': 0.89251275685035414,\n",
       " 'LTP103': 0.68638181302050205,\n",
       " 'LTP104': 0.93244480691447562,\n",
       " 'LTP105': 0.86634936756254233,\n",
       " 'LTP106': 0.90653473631820436,\n",
       " 'LTP107': 0.91401801423970197,\n",
       " 'LTP108': 0.80603675764531302,\n",
       " 'LTP110': 0.93830792732976642,\n",
       " 'LTP111': 0.76015982914606428,\n",
       " 'LTP112': 0.85186785294897205,\n",
       " 'LTP113': 0.8360411823392434,\n",
       " 'LTP114': 0.8041972580904666,\n",
       " 'LTP115': 0.94088391327782694,\n",
       " 'LTP117': 0.77640761162925376,\n",
       " 'LTP118': 0.7792911997591222,\n",
       " 'LTP119': 0.78818599850219462,\n",
       " 'LTP120': 0.91377010109418422,\n",
       " 'LTP122': 0.93017774434452727,\n",
       " 'LTP123': 0.79210905054852987,\n",
       " 'LTP124': 0.91971687543964264,\n",
       " 'LTP125': 0.90529233824117272,\n",
       " 'LTP127': 0.88953004559583349,\n",
       " 'LTP128': 0.90563621288007246,\n",
       " 'LTP130': 0.92937091827068874,\n",
       " 'LTP131': 0.88079750997205009,\n",
       " 'LTP132': 0.82186470804037892,\n",
       " 'LTP133': 0.95361245273094086,\n",
       " 'LTP134': 0.88032307374898289,\n",
       " 'LTP135': 0.89948569271321754,\n",
       " 'LTP136': 0.81671911737531067,\n",
       " 'LTP137': 0.88937887362449008,\n",
       " 'LTP138': 0.8617191380013931,\n",
       " 'LTP139': 0.86067265392973591,\n",
       " 'LTP140': 0.88094748075325102,\n",
       " 'LTP141': 0.85950735946247359,\n",
       " 'LTP142': 0.80816253796797999,\n",
       " 'LTP143': 0.7789316458336849,\n",
       " 'LTP144': 0.94368937146949328,\n",
       " 'LTP145': 0.90024844489996281,\n",
       " 'LTP146': 0.84522781278973369,\n",
       " 'LTP147': 0.82811723663603876,\n",
       " 'LTP148': 0.935366992202877,\n",
       " 'LTP149': 0.88691138245184209,\n",
       " 'LTP150': 0.93080061262008673,\n",
       " 'LTP151': 0.93797025167763259,\n",
       " 'LTP153': 0.81835793502056919,\n",
       " 'LTP155': 0.87023066050863063,\n",
       " 'LTP159': 0.89845428837988472,\n",
       " 'LTP166': 0.90871389004415093,\n",
       " 'LTP168': 0.74653126027347061,\n",
       " 'LTP174': 0.93477470076052527,\n",
       " 'LTP184': 0.76399792836548419,\n",
       " 'LTP185': 0.91728967088678703,\n",
       " 'LTP186': 0.85685952363830786,\n",
       " 'LTP187': 0.77334966963943219,\n",
       " 'LTP188': 0.71417048141203721,\n",
       " 'LTP189': 0.77874558853192288,\n",
       " 'LTP190': 0.87746924999778442,\n",
       " 'LTP191': 0.93207522648228314,\n",
       " 'LTP192': 0.94584910174412196,\n",
       " 'LTP193': 0.93422101361297782,\n",
       " 'LTP194': 0.7040009364638713,\n",
       " 'LTP195': 0.93813134385459418,\n",
       " 'LTP196': 0.83748300164569722,\n",
       " 'LTP197': 0.90839437189587957,\n",
       " 'LTP198': 0.91688232875287523,\n",
       " 'LTP199': 0.95393510404592652,\n",
       " 'LTP200': 0.8665352715406488,\n",
       " 'LTP201': 0.77568941029779348,\n",
       " 'LTP202': 0.84507474212202249,\n",
       " 'LTP207': 0.85816580676305332,\n",
       " 'LTP209': 0.89898257025989403,\n",
       " 'LTP210': 0.91796279736540443,\n",
       " 'LTP211': 0.96874215573335165,\n",
       " 'LTP212': 0.86462296330563337,\n",
       " 'LTP214': 0.86821896706856316,\n",
       " 'LTP215': 0.74785166653353941,\n",
       " 'LTP227': 0.86374608344083015,\n",
       " 'LTP228': 0.91885611493138186,\n",
       " 'LTP229': 0.92778199690685403,\n",
       " 'LTP230': 0.8609573191170935,\n",
       " 'LTP231': 0.8649658469627749,\n",
       " 'LTP232': 0.83368844634193517,\n",
       " 'LTP233': 0.80976088611764818,\n",
       " 'LTP234': 0.89312109741721568,\n",
       " 'LTP235': 0.89850005509915809,\n",
       " 'LTP236': 0.79889865726269504,\n",
       " 'LTP237': 0.72201258633036836,\n",
       " 'LTP238': 0.93749522333644408,\n",
       " 'LTP239': 0.80842298497070053,\n",
       " 'LTP240': 0.93998155107103543,\n",
       " 'LTP241': 0.85690524850802419,\n",
       " 'LTP242': 0.90821892710052687,\n",
       " 'LTP243': 0.88711890153056439,\n",
       " 'LTP244': 0.89143211947939283,\n",
       " 'LTP245': 0.81401919631854736,\n",
       " 'LTP246': 0.93054284350293326,\n",
       " 'LTP247': 0.87618229596846975,\n",
       " 'LTP249': 0.80774580668176554,\n",
       " 'LTP250': 0.71948273727133227,\n",
       " 'LTP251': 0.70264361188780977,\n",
       " 'LTP252': 0.85744736116735276,\n",
       " 'LTP253': 0.78346868692929217,\n",
       " 'LTP254': 0.9510385247161568,\n",
       " 'LTP256': 0.84995792650488744,\n",
       " 'LTP258': 0.87318074988824557,\n",
       " 'LTP259': 0.86738742654558398,\n",
       " 'LTP260': 0.91337009629723664,\n",
       " 'LTP261': 0.95287814227094403,\n",
       " 'LTP263': 0.84245251066976468,\n",
       " 'LTP264': 0.85806053699765039,\n",
       " 'LTP265': 0.90229234067862918,\n",
       " 'LTP267': 0.66394309841153754,\n",
       " 'LTP268': 0.92620287594466189,\n",
       " 'LTP269': 0.85993131079120277,\n",
       " 'LTP270': 0.67082162298950621,\n",
       " 'LTP271': 0.74126751399084356,\n",
       " 'LTP272': 0.92979152666251574,\n",
       " 'LTP273': 0.69769668944135077,\n",
       " 'LTP274': 0.79732147236199535,\n",
       " 'LTP275': 0.93237301232278769,\n",
       " 'LTP276': 0.88462271037620854,\n",
       " 'LTP277': 0.81761604922730557,\n",
       " 'LTP278': 0.78332553078011935,\n",
       " 'LTP279': 0.83382739330188416,\n",
       " 'LTP280': 0.79693597232430746,\n",
       " 'LTP281': 0.72281854077061347,\n",
       " 'LTP282': 0.81341837285682195,\n",
       " 'LTP283': 0.88431167190808679,\n",
       " 'LTP284': 0.82988398696049048,\n",
       " 'LTP285': 0.79987054963088666,\n",
       " 'LTP286': 0.88908283997625248,\n",
       " 'LTP287': 0.86324149214715484,\n",
       " 'LTP288': 0.87037629055669508,\n",
       " 'LTP289': 0.8553839635934759,\n",
       " 'LTP290': 0.83383270050524394,\n",
       " 'LTP291': 0.77523481270942329,\n",
       " 'LTP292': 0.86729597520683011,\n",
       " 'LTP293': 0.88882989911875243}"
      ]
     },
     "execution_count": 16,
     "metadata": {},
     "output_type": "execute_result"
    }
   ],
   "source": [
    "participant_auc"
   ]
  },
  {
   "cell_type": "code",
   "execution_count": 17,
   "metadata": {
    "collapsed": false
   },
   "outputs": [
    {
     "name": "stdout",
     "output_type": "stream",
     "text": [
      "171\n"
     ]
    }
   ],
   "source": [
    "print(len(participant_auc))"
   ]
  },
  {
   "cell_type": "code",
   "execution_count": 18,
   "metadata": {
    "collapsed": false
   },
   "outputs": [
    {
     "data": {
      "text/plain": [
       "(array([ 15.,  35.,  49.,  35.,  31.,   6.]),\n",
       " array([ 0.59856408,  0.93782725,  1.27709041,  1.61635357,  1.95561674,\n",
       "         2.2948799 ,  2.63414307]),\n",
       " <a list of 6 Patch objects>)"
      ]
     },
     "execution_count": 18,
     "metadata": {},
     "output_type": "execute_result"
    },
    {
     "data": {
      "image/png": "[encoded data removed]",
      "text/plain": [
       "<matplotlib.figure.Figure at 0x10cab15c0>"
      ]
     },
     "metadata": {},
     "output_type": "display_data"
    }
   ],
   "source": [
    "import matplotlib.pyplot as plt\n",
    "%matplotlib inline\n",
    "plt.hist(list(participant_criterion.values()), 6)"
   ]
  },
  {
   "cell_type": "code",
   "execution_count": null,
   "metadata": {
    "collapsed": true
   },
   "outputs": [],
   "source": []
  }
 ],
 "metadata": {
  "anaconda-cloud": {},
  "kernelspec": {
   "display_name": "Python [default]",
   "language": "python",
   "name": "python3"
  },
  "language_info": {
   "codemirror_mode": {
    "name": "ipython",
    "version": 3
   },
   "file_extension": ".py",
   "mimetype": "text/x-python",
   "name": "python",
   "nbconvert_exporter": "python",
   "pygments_lexer": "ipython3",
   "version": "3.5.2"
  }
 },
 "nbformat": 4,
 "nbformat_minor": 1
}
