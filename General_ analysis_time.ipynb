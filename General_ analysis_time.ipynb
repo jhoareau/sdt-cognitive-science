{
 "cells": [
  {
   "cell_type": "code",
   "execution_count": 14,
   "metadata": {
    "collapsed": true
   },
   "outputs": [],
   "source": [
    "import pandas as pd\n",
    "import numpy as np"
   ]
  },
  {
   "cell_type": "code",
   "execution_count": 15,
   "metadata": {
    "collapsed": false
   },
   "outputs": [
    {
     "name": "stdout",
     "output_type": "stream",
     "text": [
      "3.5.2 |Anaconda 2.4.1 (x86_64)| (default, Jul  2 2016, 17:52:12) \n",
      "[GCC 4.2.1 Compatible Apple LLVM 4.2 (clang-425.0.28)]\n"
     ]
    }
   ],
   "source": [
    "import sys\n",
    "print(sys.version)"
   ]
  },
  {
   "cell_type": "code",
   "execution_count": 16,
   "metadata": {
    "collapsed": false
   },
   "outputs": [
    {
     "data": {
      "text/plain": [
       "'0.21.0'"
      ]
     },
     "execution_count": 16,
     "metadata": {},
     "output_type": "execute_result"
    }
   ],
   "source": [
    "pd.__version__"
   ]
  },
  {
   "cell_type": "code",
   "execution_count": 17,
   "metadata": {
    "collapsed": false
   },
   "outputs": [
    {
     "name": "stdout",
     "output_type": "stream",
     "text": [
      "853624\n"
     ]
    }
   ],
   "source": [
    "data = pd.read_csv('final_general_data.csv')\n",
    "print(len(data))"
   ]
  },
  {
   "cell_type": "code",
   "execution_count": 18,
   "metadata": {
    "collapsed": false
   },
   "outputs": [
    {
     "data": {
      "text/html": [
       "<div>\n",
       "<style scoped>\n",
       "    .dataframe tbody tr th:only-of-type {\n",
       "        vertical-align: middle;\n",
       "    }\n",
       "\n",
       "    .dataframe tbody tr th {\n",
       "        vertical-align: top;\n",
       "    }\n",
       "\n",
       "    .dataframe thead th {\n",
       "        text-align: right;\n",
       "    }\n",
       "</style>\n",
       "<table border=\"1\" class=\"dataframe\">\n",
       "  <thead>\n",
       "    <tr style=\"text-align: right;\">\n",
       "      <th></th>\n",
       "      <th>participant</th>\n",
       "      <th>ground_truth</th>\n",
       "      <th>recog_resp</th>\n",
       "      <th>recog_conf</th>\n",
       "      <th>recog_rt</th>\n",
       "      <th>participant_session</th>\n",
       "      <th>hmm</th>\n",
       "    </tr>\n",
       "  </thead>\n",
       "  <tbody>\n",
       "    <tr>\n",
       "      <th>0</th>\n",
       "      <td>LTP268</td>\n",
       "      <td>old</td>\n",
       "      <td>old</td>\n",
       "      <td>5</td>\n",
       "      <td>1395.0</td>\n",
       "      <td>LTP2681</td>\n",
       "      <td>tp</td>\n",
       "    </tr>\n",
       "    <tr>\n",
       "      <th>1</th>\n",
       "      <td>LTP268</td>\n",
       "      <td>old</td>\n",
       "      <td>new</td>\n",
       "      <td>2</td>\n",
       "      <td>1788.0</td>\n",
       "      <td>LTP2681</td>\n",
       "      <td>fn</td>\n",
       "    </tr>\n",
       "    <tr>\n",
       "      <th>2</th>\n",
       "      <td>LTP268</td>\n",
       "      <td>old</td>\n",
       "      <td>new</td>\n",
       "      <td>3</td>\n",
       "      <td>2308.0</td>\n",
       "      <td>LTP2681</td>\n",
       "      <td>fn</td>\n",
       "    </tr>\n",
       "    <tr>\n",
       "      <th>3</th>\n",
       "      <td>LTP268</td>\n",
       "      <td>old</td>\n",
       "      <td>old</td>\n",
       "      <td>5</td>\n",
       "      <td>1320.0</td>\n",
       "      <td>LTP2681</td>\n",
       "      <td>tp</td>\n",
       "    </tr>\n",
       "    <tr>\n",
       "      <th>4</th>\n",
       "      <td>LTP268</td>\n",
       "      <td>old</td>\n",
       "      <td>old</td>\n",
       "      <td>5</td>\n",
       "      <td>1025.0</td>\n",
       "      <td>LTP2681</td>\n",
       "      <td>tp</td>\n",
       "    </tr>\n",
       "  </tbody>\n",
       "</table>\n",
       "</div>"
      ],
      "text/plain": [
       "  participant ground_truth recog_resp  recog_conf  recog_rt  \\\n",
       "0      LTP268          old        old           5    1395.0   \n",
       "1      LTP268          old        new           2    1788.0   \n",
       "2      LTP268          old        new           3    2308.0   \n",
       "3      LTP268          old        old           5    1320.0   \n",
       "4      LTP268          old        old           5    1025.0   \n",
       "\n",
       "  participant_session hmm  \n",
       "0             LTP2681  tp  \n",
       "1             LTP2681  fn  \n",
       "2             LTP2681  fn  \n",
       "3             LTP2681  tp  \n",
       "4             LTP2681  tp  "
      ]
     },
     "execution_count": 18,
     "metadata": {},
     "output_type": "execute_result"
    }
   ],
   "source": [
    "data[:5]"
   ]
  },
  {
   "cell_type": "code",
   "execution_count": 19,
   "metadata": {
    "collapsed": false
   },
   "outputs": [
    {
     "name": "stdout",
     "output_type": "stream",
     "text": [
      "[  706.   809.   935.  1178.  3000.]\n",
      "[  573.   654.   745.   917.  3000.]\n"
     ]
    }
   ],
   "source": [
    "# Defining the bins based on quantiles (~same amount of entities in each bin)\n",
    "new_response_times = data.loc[data['recog_resp'] == 'new']['recog_rt'].values\n",
    "old_response_times = data.loc[data['recog_resp'] == 'old']['recog_rt'].values\n",
    "new_bins = np.percentile(new_response_times,[20, 40, 60, 80, 100])\n",
    "old_bins = np.percentile(old_response_times,[20, 40, 60, 80, 100])\n",
    "print(new_bins)\n",
    "print(old_bins)"
   ]
  },
  {
   "cell_type": "code",
   "execution_count": 20,
   "metadata": {
    "collapsed": false
   },
   "outputs": [
    {
     "name": "stdout",
     "output_type": "stream",
     "text": [
      "Elements in each bin: [170480, 170490, 169976, 170530, 172148]\n",
      "STD on elements in bins: 740.162792904\n",
      "Sum of elements in bins: 853624\n",
      "Size of data: 853624\n"
     ]
    }
   ],
   "source": [
    "# Creating bins\n",
    "conditions = [(((data['recog_resp'] == 'new') & (data[\"recog_rt\"] <= new_bins[0])) | ((data['recog_resp'] == 'old') & (data[\"recog_rt\"] <= old_bins[0]))),\n",
    "              (((data['recog_resp'] == 'new') & (data[\"recog_rt\"] <= new_bins[1])) | ((data['recog_resp'] == 'old') & (data[\"recog_rt\"] <= old_bins[1]))),\n",
    "              (((data['recog_resp'] == 'new') & (data[\"recog_rt\"] <= new_bins[2])) | ((data['recog_resp'] == 'old') & (data[\"recog_rt\"] <= old_bins[2]))),\n",
    "              (((data['recog_resp'] == 'new') & (data[\"recog_rt\"] <= new_bins[3])) | ((data['recog_resp'] == 'old') & (data[\"recog_rt\"] <= old_bins[3])))]\n",
    "\n",
    "choices = [5, 4, 3, 2]\n",
    "\n",
    "data['bins'] = np.select(conditions, choices, default=1)\n",
    "\n",
    "y = data['bins'].values\n",
    "l = [np.count_nonzero(y == x) for x in range(1,6)]\n",
    "print('Elements in each bin:',l)\n",
    "print('STD on elements in bins:',np.std(l))\n",
    "print('Sum of elements in bins:',sum(l))\n",
    "print('Size of data:',len(data))"
   ]
  },
  {
   "cell_type": "code",
   "execution_count": 21,
   "metadata": {
    "collapsed": false
   },
   "outputs": [
    {
     "data": {
      "text/html": [
       "<div>\n",
       "<style scoped>\n",
       "    .dataframe tbody tr th:only-of-type {\n",
       "        vertical-align: middle;\n",
       "    }\n",
       "\n",
       "    .dataframe tbody tr th {\n",
       "        vertical-align: top;\n",
       "    }\n",
       "\n",
       "    .dataframe thead th {\n",
       "        text-align: right;\n",
       "    }\n",
       "</style>\n",
       "<table border=\"1\" class=\"dataframe\">\n",
       "  <thead>\n",
       "    <tr style=\"text-align: right;\">\n",
       "      <th></th>\n",
       "      <th></th>\n",
       "      <th>participant_session</th>\n",
       "    </tr>\n",
       "    <tr>\n",
       "      <th>hmm</th>\n",
       "      <th>bins</th>\n",
       "      <th></th>\n",
       "    </tr>\n",
       "  </thead>\n",
       "  <tbody>\n",
       "    <tr>\n",
       "      <th rowspan=\"5\" valign=\"top\">fn</th>\n",
       "      <th>1</th>\n",
       "      <td>13652</td>\n",
       "    </tr>\n",
       "    <tr>\n",
       "      <th>2</th>\n",
       "      <td>11043</td>\n",
       "    </tr>\n",
       "    <tr>\n",
       "      <th>3</th>\n",
       "      <td>9176</td>\n",
       "    </tr>\n",
       "    <tr>\n",
       "      <th>4</th>\n",
       "      <td>7775</td>\n",
       "    </tr>\n",
       "    <tr>\n",
       "      <th>5</th>\n",
       "      <td>8181</td>\n",
       "    </tr>\n",
       "    <tr>\n",
       "      <th rowspan=\"5\" valign=\"top\">fp</th>\n",
       "      <th>1</th>\n",
       "      <td>17251</td>\n",
       "    </tr>\n",
       "    <tr>\n",
       "      <th>2</th>\n",
       "      <td>7549</td>\n",
       "    </tr>\n",
       "    <tr>\n",
       "      <th>3</th>\n",
       "      <td>4930</td>\n",
       "    </tr>\n",
       "    <tr>\n",
       "      <th>4</th>\n",
       "      <td>4756</td>\n",
       "    </tr>\n",
       "    <tr>\n",
       "      <th>5</th>\n",
       "      <td>9830</td>\n",
       "    </tr>\n",
       "    <tr>\n",
       "      <th rowspan=\"5\" valign=\"top\">tn</th>\n",
       "      <th>1</th>\n",
       "      <td>42843</td>\n",
       "    </tr>\n",
       "    <tr>\n",
       "      <th>2</th>\n",
       "      <td>45429</td>\n",
       "    </tr>\n",
       "    <tr>\n",
       "      <th>3</th>\n",
       "      <td>47221</td>\n",
       "    </tr>\n",
       "    <tr>\n",
       "      <th>4</th>\n",
       "      <td>48860</td>\n",
       "    </tr>\n",
       "    <tr>\n",
       "      <th>5</th>\n",
       "      <td>48866</td>\n",
       "    </tr>\n",
       "    <tr>\n",
       "      <th rowspan=\"5\" valign=\"top\">tp</th>\n",
       "      <th>1</th>\n",
       "      <td>96734</td>\n",
       "    </tr>\n",
       "    <tr>\n",
       "      <th>2</th>\n",
       "      <td>106469</td>\n",
       "    </tr>\n",
       "    <tr>\n",
       "      <th>3</th>\n",
       "      <td>108649</td>\n",
       "    </tr>\n",
       "    <tr>\n",
       "      <th>4</th>\n",
       "      <td>109139</td>\n",
       "    </tr>\n",
       "    <tr>\n",
       "      <th>5</th>\n",
       "      <td>105271</td>\n",
       "    </tr>\n",
       "  </tbody>\n",
       "</table>\n",
       "</div>"
      ],
      "text/plain": [
       "          participant_session\n",
       "hmm bins                     \n",
       "fn  1                   13652\n",
       "    2                   11043\n",
       "    3                    9176\n",
       "    4                    7775\n",
       "    5                    8181\n",
       "fp  1                   17251\n",
       "    2                    7549\n",
       "    3                    4930\n",
       "    4                    4756\n",
       "    5                    9830\n",
       "tn  1                   42843\n",
       "    2                   45429\n",
       "    3                   47221\n",
       "    4                   48860\n",
       "    5                   48866\n",
       "tp  1                   96734\n",
       "    2                  106469\n",
       "    3                  108649\n",
       "    4                  109139\n",
       "    5                  105271"
      ]
     },
     "execution_count": 21,
     "metadata": {},
     "output_type": "execute_result"
    }
   ],
   "source": [
    "distribution = data.loc[:, ['bins', 'hmm', 'participant_session']].groupby(['hmm', 'bins']).count()\n",
    "distribution"
   ]
  },
  {
   "cell_type": "code",
   "execution_count": 22,
   "metadata": {
    "collapsed": false
   },
   "outputs": [
    {
     "name": "stdout",
     "output_type": "stream",
     "text": [
      "Sum of lures (new): 277535\n",
      "Sum of targets (old): 576089\n"
     ]
    }
   ],
   "source": [
    "# Creating the \"RAW\" section of \"Table 1\"\n",
    "raw_new_lure = distribution.loc['tn']\n",
    "raw_old_lure = distribution.loc['fp']\n",
    "sum_raw_new_lure = sum(raw_new_lure.values)[0]\n",
    "sum_raw_old_lure = sum(raw_old_lure.values)[0]\n",
    "sum_raw_lure = sum_raw_new_lure + sum_raw_old_lure\n",
    "\n",
    "raw_new_target = distribution.loc['fn']\n",
    "raw_old_target = distribution.loc['tp']\n",
    "sum_raw_new_target = sum(raw_new_target.values)[0]\n",
    "sum_raw_old_target = sum(raw_old_target.values)[0]\n",
    "sum_raw_target = sum_raw_new_target + sum_raw_old_target\n",
    "\n",
    "print(\"Sum of lures (new):\",sum_raw_lure)\n",
    "print(\"Sum of targets (old):\",sum_raw_target)"
   ]
  },
  {
   "cell_type": "code",
   "execution_count": 23,
   "metadata": {
    "collapsed": false
   },
   "outputs": [
    {
     "name": "stdout",
     "output_type": "stream",
     "text": [
      "Sum of lures (new): 1.0\n",
      "Sum of targets (old): 1.0\n"
     ]
    }
   ],
   "source": [
    "# Creaating the \"ALL\" section of \"Table 1\"\n",
    "all_new_lure = raw_new_lure/sum_raw_lure\n",
    "all_old_lure = raw_old_lure/sum_raw_lure\n",
    "sum_all_new_lure = sum(all_new_lure.values)[0]\n",
    "sum_all_old_lure = sum(all_old_lure.values)[0]\n",
    "sum_all_lure = sum_all_new_lure + sum_all_old_lure\n",
    "\n",
    "all_new_target = raw_new_target/sum_raw_target\n",
    "all_old_target = raw_old_target/sum_raw_target\n",
    "sum_all_new_target = sum(all_new_target.values)[0]\n",
    "sum_all_old_target = sum(all_old_target.values)[0]\n",
    "sum_all_target = sum_all_new_target + sum_all_old_target\n",
    "\n",
    "print(\"Sum of lures (new):\",sum_all_lure)\n",
    "print(\"Sum of targets (old):\",sum_all_target)"
   ]
  },
  {
   "cell_type": "code",
   "execution_count": 24,
   "metadata": {
    "collapsed": false
   },
   "outputs": [
    {
     "name": "stdout",
     "output_type": "stream",
     "text": [
      "Sum of lures (new): 2.0\n",
      "Sum of targets (old): 2.0\n"
     ]
    }
   ],
   "source": [
    "# Creaating the \"REC\" section of \"Table 1\"\n",
    "rec_new_lure = raw_new_lure/sum_raw_new_lure\n",
    "rec_old_lure = raw_old_lure/sum_raw_old_lure\n",
    "sum_rec_new_lure = sum(rec_new_lure.values)[0]\n",
    "sum_rec_old_lure = sum(rec_old_lure.values)[0]\n",
    "sum_rec_lure = sum_rec_new_lure + sum_rec_old_lure\n",
    "\n",
    "rec_new_target = raw_new_target/sum_raw_new_target\n",
    "rec_old_target = raw_old_target/sum_raw_old_target\n",
    "sum_rec_new_target = sum(rec_new_target.values)[0]\n",
    "sum_rec_old_target = sum(rec_old_target.values)[0]\n",
    "sum_rec_target = sum_rec_new_target + sum_rec_old_target\n",
    "\n",
    "print(\"Sum of lures (new):\",sum_rec_lure)\n",
    "print(\"Sum of targets (old):\",sum_rec_target)"
   ]
  },
  {
   "cell_type": "code",
   "execution_count": 25,
   "metadata": {
    "collapsed": false
   },
   "outputs": [],
   "source": [
    "# Creating \"Table 2\"\n",
    "raw_fa = pd.concat([raw_old_lure.iloc[::-1], raw_new_lure ]).cumsum()\n",
    "raw_hit = pd.concat([raw_old_target.iloc[::-1], raw_new_target ]).cumsum()\n",
    "all_fa = [0] + list(np.transpose(raw_fa/sum_raw_lure).values[0])\n",
    "all_hit = [0] + list(np.transpose(raw_hit/sum_raw_target).values[0])"
   ]
  },
  {
   "cell_type": "code",
   "execution_count": 26,
   "metadata": {
    "collapsed": false
   },
   "outputs": [
    {
     "data": {
      "text/plain": [
       "<matplotlib.collections.PathCollection at 0x10674ed30>"
      ]
     },
     "execution_count": 26,
     "metadata": {},
     "output_type": "execute_result"
    },
    {
     "data": {
      "image/png": "[encoded data removed]",
      "text/plain": [
       "<matplotlib.figure.Figure at 0x10a754860>"
      ]
     },
     "metadata": {},
     "output_type": "display_data"
    }
   ],
   "source": [
    "import matplotlib.pyplot as plt\n",
    "%matplotlib inline\n",
    "\n",
    "plt.figure(figsize=(5,5))\n",
    "plt.title('ROC Curve')\n",
    "plt.xlabel('p(FA)')\n",
    "plt.ylabel('p(Hit)')\n",
    "plt.axis(xmin=0, xmax=1, ymin=0, ymax=1)\n",
    "plt.scatter(all_fa[:5], all_hit[:5], 20, c='r', marker='^')\n",
    "plt.scatter(all_fa[5:], all_hit[5:], 20, c='g', marker='v')\n",
    "plt.plot(all_fa[:6], all_hit[:6], c='r')\n",
    "plt.plot(all_fa[5:], all_hit[5:], c='g', linestyle='--')\n",
    "plt.plot([0, 1], [0, 1], c='gray', linestyle=':')\n",
    "plt.plot([0, all_fa[5]], [0, all_hit[5]], c='gray', linestyle=':')\n",
    "plt.plot([all_fa[5], 1], [all_hit[5], 1], c='gray', linestyle=':')\n",
    "plt.scatter(all_fa[5], all_hit[5], 25, c='b', marker='D')"
   ]
  },
  {
   "cell_type": "code",
   "execution_count": 27,
   "metadata": {
    "collapsed": false
   },
   "outputs": [],
   "source": [
    "# Calculating ROC per participant in order to get d' per participant\n",
    "from scipy.stats import norm\n",
    "from scipy.integrate import trapz\n",
    "from math import sqrt\n",
    "from collections import defaultdict\n",
    "\n",
    "distribution_grouped = data.loc[:, ['bins', 'hmm', 'participant_session', 'participant']].groupby(['participant_session', 'hmm', 'bins']).count()\n",
    "session_list = list(distribution_grouped.index.levels[0])\n",
    "\n",
    "participant_session_auc = defaultdict(list)\n",
    "for session in session_list:\n",
    "    raw_new_lure = distribution_grouped.loc[session, 'tn'].reindex([1, 2, 3, 4, 5], fill_value=0, copy=False)\n",
    "    raw_old_lure = distribution_grouped.loc[session, 'fp'].reindex([1, 2, 3, 4, 5], fill_value=0, copy=False)\n",
    "    sum_raw_new_lure = sum(raw_new_lure.values)[0]\n",
    "    sum_raw_old_lure = sum(raw_old_lure.values)[0]\n",
    "    sum_raw_lure = sum_raw_new_lure + sum_raw_old_lure\n",
    "\n",
    "    raw_new_target = distribution_grouped.loc[session, 'fn'].reindex([1, 2, 3, 4, 5], fill_value=0, copy=False)\n",
    "    raw_old_target = distribution_grouped.loc[session, 'tp'].reindex([1, 2, 3, 4, 5], fill_value=0, copy=False)\n",
    "    sum_raw_new_target = sum(raw_new_target.values)[0]\n",
    "    sum_raw_old_target = sum(raw_old_target.values)[0]\n",
    "    sum_raw_target = sum_raw_new_target + sum_raw_old_target\n",
    "    \n",
    "    raw_fa = pd.concat([raw_old_lure.iloc[::-1], raw_new_lure ]).cumsum()\n",
    "    raw_hit = pd.concat([raw_old_target.iloc[::-1], raw_new_target ]).cumsum()\n",
    "    all_fa = [0] + list(np.transpose(raw_fa/sum_raw_lure).values[0])\n",
    "    all_hit = [0] + list(np.transpose(raw_hit/sum_raw_target).values[0])\n",
    "    \n",
    "    auc = trapz(all_hit, all_fa)\n",
    "    participant_session_auc[session[:6]].append(auc)\n",
    "\n",
    "\n",
    "participant_auc = { k: np.mean(participant_session_auc[k]) for k in participant_session_auc }\n",
    "participant_criterion = { k: sqrt(2) * norm.ppf(participant_auc[k]) for k in participant_auc }"
   ]
  },
  {
   "cell_type": "code",
   "execution_count": 28,
   "metadata": {
    "collapsed": true
   },
   "outputs": [],
   "source": [
    "import pickle\n",
    "pickle.dump(participant_auc, open( \"auc_response_time.bin\", \"wb\" ))"
   ]
  },
  {
   "cell_type": "code",
   "execution_count": 29,
   "metadata": {
    "collapsed": false
   },
   "outputs": [
    {
     "data": {
      "text/plain": [
       "{'LTP063': 0.95685710962169923,\n",
       " 'LTP064': 0.86821557659648863,\n",
       " 'LTP065': 0.93068271259161717,\n",
       " 'LTP066': 0.86254316343071424,\n",
       " 'LTP067': 0.86687959372987322,\n",
       " 'LTP069': 0.93565574805090712,\n",
       " 'LTP070': 0.86504036822198971,\n",
       " 'LTP073': 0.95801496652016738,\n",
       " 'LTP074': 0.92535791261889488,\n",
       " 'LTP075': 0.83535113822406937,\n",
       " 'LTP076': 0.95991917731642529,\n",
       " 'LTP077': 0.82151441302542527,\n",
       " 'LTP079': 0.97845504078254131,\n",
       " 'LTP081': 0.92828262147240515,\n",
       " 'LTP082': 0.97479680491777687,\n",
       " 'LTP084': 0.66060336255890084,\n",
       " 'LTP085': 0.90527801697260968,\n",
       " 'LTP086': 0.77004631340853513,\n",
       " 'LTP087': 0.75081848559975839,\n",
       " 'LTP088': 0.78434946139239092,\n",
       " 'LTP089': 0.7567333181772059,\n",
       " 'LTP090': 0.96524147634540258,\n",
       " 'LTP091': 0.69078901718300967,\n",
       " 'LTP092': 0.97000101780289583,\n",
       " 'LTP093': 0.92696279054395847,\n",
       " 'LTP094': 0.92084027836940829,\n",
       " 'LTP095': 0.80749773037184558,\n",
       " 'LTP096': 0.80306840500030408,\n",
       " 'LTP098': 0.90561283184336239,\n",
       " 'LTP099': 0.74101550039796493,\n",
       " 'LTP100': 0.89229741265568552,\n",
       " 'LTP101': 0.90193579849389938,\n",
       " 'LTP102': 0.929514362531631,\n",
       " 'LTP103': 0.72879474668435429,\n",
       " 'LTP104': 0.97538962702103105,\n",
       " 'LTP105': 0.907572783455737,\n",
       " 'LTP106': 0.91137270867197551,\n",
       " 'LTP107': 0.95205784138696681,\n",
       " 'LTP108': 0.87651843729691092,\n",
       " 'LTP110': 0.97493514203115417,\n",
       " 'LTP111': 0.78507293504573894,\n",
       " 'LTP112': 0.89828608999238235,\n",
       " 'LTP113': 0.89463503207322503,\n",
       " 'LTP114': 0.86157248437553202,\n",
       " 'LTP115': 0.96312029065422067,\n",
       " 'LTP117': 0.74395270402768332,\n",
       " 'LTP118': 0.75993539335985971,\n",
       " 'LTP119': 0.84635745886689828,\n",
       " 'LTP120': 0.93875127125009017,\n",
       " 'LTP122': 0.96136191315844,\n",
       " 'LTP123': 0.89073697123679096,\n",
       " 'LTP124': 0.95240413854510275,\n",
       " 'LTP125': 0.93908187464419457,\n",
       " 'LTP127': 0.93173787732524427,\n",
       " 'LTP128': 0.94724696566652244,\n",
       " 'LTP130': 0.95572470134946097,\n",
       " 'LTP131': 0.92320387664158443,\n",
       " 'LTP132': 0.85595040073169693,\n",
       " 'LTP133': 0.97618069416132369,\n",
       " 'LTP134': 0.90897121086820076,\n",
       " 'LTP135': 0.94498726547144751,\n",
       " 'LTP136': 0.84559228281278753,\n",
       " 'LTP137': 0.93956951145673551,\n",
       " 'LTP138': 0.91784241960214463,\n",
       " 'LTP139': 0.92329918316046677,\n",
       " 'LTP140': 0.91569928100134634,\n",
       " 'LTP141': 0.90201365274388345,\n",
       " 'LTP142': 0.89747017614481028,\n",
       " 'LTP143': 0.84207750260432357,\n",
       " 'LTP144': 0.96019321417040937,\n",
       " 'LTP145': 0.95476307258498083,\n",
       " 'LTP146': 0.88644815939715738,\n",
       " 'LTP147': 0.84879172250599366,\n",
       " 'LTP148': 0.97285437052186685,\n",
       " 'LTP149': 0.93712798878705217,\n",
       " 'LTP150': 0.97100995272644397,\n",
       " 'LTP151': 0.97103950343178569,\n",
       " 'LTP153': 0.90194363897878671,\n",
       " 'LTP155': 0.91569020853135663,\n",
       " 'LTP159': 0.92417552538871295,\n",
       " 'LTP166': 0.95180125591830078,\n",
       " 'LTP168': 0.73617586660070011,\n",
       " 'LTP174': 0.97931762640042086,\n",
       " 'LTP184': 0.74404978958549584,\n",
       " 'LTP185': 0.94772690048164809,\n",
       " 'LTP186': 0.94344793114496572,\n",
       " 'LTP187': 0.84256474097072476,\n",
       " 'LTP188': 0.73723569275621126,\n",
       " 'LTP189': 0.81562914146428034,\n",
       " 'LTP190': 0.92365927127110692,\n",
       " 'LTP191': 0.95694633120499184,\n",
       " 'LTP192': 0.97383580791752999,\n",
       " 'LTP193': 0.96404891832204753,\n",
       " 'LTP194': 0.81932597773976268,\n",
       " 'LTP195': 0.97347252083921054,\n",
       " 'LTP196': 0.89195075183385142,\n",
       " 'LTP197': 0.95489099276493195,\n",
       " 'LTP198': 0.92773548733330369,\n",
       " 'LTP199': 0.97191922662808961,\n",
       " 'LTP200': 0.91688269548587142,\n",
       " 'LTP201': 0.83351475816871368,\n",
       " 'LTP202': 0.91111883684745898,\n",
       " 'LTP207': 0.93946581658395945,\n",
       " 'LTP209': 0.94835979463489672,\n",
       " 'LTP210': 0.96082214445605474,\n",
       " 'LTP211': 0.97875954089113926,\n",
       " 'LTP212': 0.92303521815940082,\n",
       " 'LTP214': 0.90974934853277123,\n",
       " 'LTP215': 0.81720244896502736,\n",
       " 'LTP227': 0.93039027692195808,\n",
       " 'LTP228': 0.9561713098351069,\n",
       " 'LTP229': 0.9589753509849066,\n",
       " 'LTP230': 0.90708334007640523,\n",
       " 'LTP231': 0.88446812676769471,\n",
       " 'LTP232': 0.89223184246785858,\n",
       " 'LTP233': 0.83915418229694583,\n",
       " 'LTP234': 0.9506859773096169,\n",
       " 'LTP235': 0.94799323141217895,\n",
       " 'LTP236': 0.86868212690835878,\n",
       " 'LTP237': 0.78352576553952136,\n",
       " 'LTP238': 0.9647232024385719,\n",
       " 'LTP239': 0.82678268584476577,\n",
       " 'LTP240': 0.96682276401418277,\n",
       " 'LTP241': 0.88877974688869743,\n",
       " 'LTP242': 0.94985566120584541,\n",
       " 'LTP243': 0.95608181933880021,\n",
       " 'LTP244': 0.9150695938922272,\n",
       " 'LTP245': 0.84690477800123176,\n",
       " 'LTP246': 0.94455154386497708,\n",
       " 'LTP247': 0.93820739272740039,\n",
       " 'LTP249': 0.84131592204448824,\n",
       " 'LTP250': 0.7278292641100147,\n",
       " 'LTP251': 0.7415445101787751,\n",
       " 'LTP252': 0.93326977817915269,\n",
       " 'LTP253': 0.89146098291387477,\n",
       " 'LTP254': 0.97027280366949498,\n",
       " 'LTP256': 0.91446114650992028,\n",
       " 'LTP258': 0.93809651722069343,\n",
       " 'LTP259': 0.87338379363373497,\n",
       " 'LTP260': 0.93882018991791083,\n",
       " 'LTP261': 0.9827879526395521,\n",
       " 'LTP263': 0.90750563519998084,\n",
       " 'LTP264': 0.83112258045795706,\n",
       " 'LTP265': 0.94273180644519594,\n",
       " 'LTP267': 0.6209787105454796,\n",
       " 'LTP268': 0.96503384186092234,\n",
       " 'LTP269': 0.90931495752354707,\n",
       " 'LTP270': 0.76685140248252748,\n",
       " 'LTP271': 0.78168774822543141,\n",
       " 'LTP272': 0.97056118591348972,\n",
       " 'LTP273': 0.7148811335302947,\n",
       " 'LTP274': 0.85084540047926427,\n",
       " 'LTP275': 0.97173135377961317,\n",
       " 'LTP276': 0.91543454774404087,\n",
       " 'LTP277': 0.86576665416349807,\n",
       " 'LTP278': 0.72914958968832821,\n",
       " 'LTP279': 0.89767935941257326,\n",
       " 'LTP280': 0.88887770001570687,\n",
       " 'LTP281': 0.72078632477995364,\n",
       " 'LTP282': 0.886046028193892,\n",
       " 'LTP283': 0.95306405263656357,\n",
       " 'LTP284': 0.82762017083995532,\n",
       " 'LTP285': 0.90483217533935534,\n",
       " 'LTP286': 0.96920708755290597,\n",
       " 'LTP287': 0.91839457228064758,\n",
       " 'LTP288': 0.89574578047170661,\n",
       " 'LTP289': 0.9236063463780001,\n",
       " 'LTP290': 0.91205693617480232,\n",
       " 'LTP291': 0.84295398650625031,\n",
       " 'LTP292': 0.92358622809635293,\n",
       " 'LTP293': 0.89419318314409391}"
      ]
     },
     "execution_count": 29,
     "metadata": {},
     "output_type": "execute_result"
    }
   ],
   "source": [
    "participant_auc"
   ]
  },
  {
   "cell_type": "code",
   "execution_count": 30,
   "metadata": {
    "collapsed": false
   },
   "outputs": [
    {
     "name": "stdout",
     "output_type": "stream",
     "text": [
      "171\n"
     ]
    }
   ],
   "source": [
    "print(len(participant_auc))"
   ]
  },
  {
   "cell_type": "code",
   "execution_count": 31,
   "metadata": {
    "collapsed": false
   },
   "outputs": [
    {
     "data": {
      "text/plain": [
       "(array([  7.,  20.,  30.,  53.,  40.,  21.]),\n",
       " array([ 0.43565166,  0.86156952,  1.28748738,  1.71340523,  2.13932309,\n",
       "         2.56524095,  2.9911588 ]),\n",
       " <a list of 6 Patch objects>)"
      ]
     },
     "execution_count": 31,
     "metadata": {},
     "output_type": "execute_result"
    },
    {
     "data": {
      "image/png": "[encoded data removed]",
      "text/plain": [
       "<matplotlib.figure.Figure at 0x10bcc74a8>"
      ]
     },
     "metadata": {},
     "output_type": "display_data"
    }
   ],
   "source": [
    "import matplotlib.pyplot as plt\n",
    "%matplotlib inline\n",
    "plt.hist(list(participant_criterion.values()), 6)"
   ]
  },
  {
   "cell_type": "code",
   "execution_count": null,
   "metadata": {
    "collapsed": true
   },
   "outputs": [],
   "source": []
  }
 ],
 "metadata": {
  "anaconda-cloud": {},
  "kernelspec": {
   "display_name": "Python [default]",
   "language": "python",
   "name": "python3"
  },
  "language_info": {
   "codemirror_mode": {
    "name": "ipython",
    "version": 3
   },
   "file_extension": ".py",
   "mimetype": "text/x-python",
   "name": "python",
   "nbconvert_exporter": "python",
   "pygments_lexer": "ipython3",
   "version": "3.5.2"
  }
 },
 "nbformat": 4,
 "nbformat_minor": 1
}
